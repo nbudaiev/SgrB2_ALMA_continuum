{
 "cells": [
  {
   "cell_type": "code",
   "execution_count": 1,
   "id": "005738f4-8a92-4f15-a93a-4b5df9b2cb02",
   "metadata": {},
   "outputs": [],
   "source": [
    "import regions\n",
    "from numpy import floor, ceil\n",
    "from astropy import coordinates\n",
    "from astropy import units as u\n",
    "import glob\n",
    "from spectral_cube import SpectralCube\n",
    "from spectral_cube import wcs_utils\n",
    "from regions import Regions\n",
    "from astropy.table import QTable, Table, Column\n",
    "from astropy.coordinates import SkyCoord\n",
    "from astropy.io import fits\n",
    "import numpy as np\n",
    "import pylab as plt\n",
    "from astropy.stats import sigma_clip\n",
    "import statcont\n",
    "from astropy.stats import mad_std"
   ]
  },
  {
   "cell_type": "code",
   "execution_count": 2,
   "id": "b17fb671-3f9c-49af-9c6c-3b95594c4e97",
   "metadata": {},
   "outputs": [
    {
     "name": "stdout",
     "output_type": "stream",
     "text": [
      "Removed 198 sources for the complete catalog\n",
      "Removed 9 sources for the medium catalog\n",
      "Removed 81 sources for the robust catalog\n",
      "Removed 186 sources for the complete catalog\n",
      "Removed 7 sources for the medium catalog\n",
      "Removed 47 sources for the robust catalog\n",
      "Removed 203 sources for the complete catalog\n",
      "Removed 6 sources for the medium catalog\n",
      "Removed 58 sources for the robust catalog\n",
      "Removed 203 sources for the complete catalog\n",
      "Removed 8 sources for the medium catalog\n",
      "Removed 32 sources for the robust catalog\n"
     ]
    },
    {
     "name": "stderr",
     "output_type": "stream",
     "text": [
      "/orange/adamginsburg/sgrb2/NB/python_env_test/lib/python3.9/site-packages/astropy/table/table.py:1412: FutureWarning: Using a non-tuple sequence for multidimensional indexing is deprecated; use `arr[tuple(seq)]` instead of `arr[seq]`. In the future this will be interpreted as an array index, `arr[np.array(seq)]`, which will result either in an error or a different result.\n",
      "  newcol = col[slice_]\n",
      "/home/nbudaiev/.local/lib/python3.9/site-packages/numpy/ma/core.py:3224: FutureWarning: Using a non-tuple sequence for multidimensional indexing is deprecated; use `arr[tuple(seq)]` instead of `arr[seq]`. In the future this will be interpreted as an array index, `arr[np.array(seq)]`, which will result either in an error or a different result.\n",
      "  dout = self.data[indx]\n",
      "/home/nbudaiev/.local/lib/python3.9/site-packages/numpy/ma/core.py:3256: FutureWarning: Using a non-tuple sequence for multidimensional indexing is deprecated; use `arr[tuple(seq)]` instead of `arr[seq]`. In the future this will be interpreted as an array index, `arr[np.array(seq)]`, which will result either in an error or a different result.\n",
      "  mout = _mask[indx]\n"
     ]
    }
   ],
   "source": [
    "base = '/orange/adamginsburg/sgrb2/NB/catalog_the_end/'\n",
    "catNB3 = Table.read(base+'catalog_NB3_4RMS_30.0rings_0.7mindelta3npix_final_Nazar_review.csv', format='ascii')\n",
    "catMB3 = Table.read(base+'catalog_MB3_4RMS_30.0rings_0.7mindelta3npix_final_Nazar_review.csv', format='ascii')\n",
    "catNB6 = Table.read(base+'catalog_NB6_4RMS_30.0rings_0.7mindelta3npix_final_Nazar_review.csv', format='ascii')\n",
    "catMB6 = Table.read(base+'catalog_MB6_4RMS_30.0rings_0.7mindelta3npix_final_Nazar_review.csv', format='ascii')\n",
    "\n",
    "from purify_catalog import HII_catalogs, cat_purification_cores\n",
    "catNB3_m, catMB3_m, catNB6_m,catMB6_m = cat_purification_cores(catNB3, catMB3, catNB6, catMB6)"
   ]
  },
  {
   "cell_type": "code",
   "execution_count": 3,
   "id": "99e4b152-eb45-46d1-86e0-a636042395fb",
   "metadata": {},
   "outputs": [],
   "source": [
    "B6_regions_path = '/orange/adamginsburg/sgrb2/NB/python_notebooks/catalog_regions/catB6_m.reg'\n",
    "regions_B6 = Regions.read(B6_regions_path, format='ds9')"
   ]
  },
  {
   "cell_type": "code",
   "execution_count": 6,
   "id": "990bc021-6a1e-4573-ba26-74d6956ae02a",
   "metadata": {},
   "outputs": [],
   "source": [
    "cores_NB6 = SkyCoord(catNB6_m['x_peak'],catNB6_m['y_peak'], unit='deg',)\n",
    "cores_MB6 = SkyCoord(catMB6_m['x_peak'],catMB6_m['y_peak'], unit='deg',)\n",
    "cores_NB3 = SkyCoord(catNB3_m['x_peak'],catNB3_m['y_peak'], unit='deg',)\n",
    "cores_MB3 = SkyCoord(catMB3_m['x_peak'],catMB3_m['y_peak'], unit='deg',)"
   ]
  },
  {
   "cell_type": "code",
   "execution_count": 7,
   "id": "a9a60077-6b7f-4dd2-916d-606806e72446",
   "metadata": {},
   "outputs": [],
   "source": [
    "# wcs coordinates of the brightest pixel in each core detection\n",
    "\n",
    "dict_cores_NB6 = {catNB6_m['_name'].value[i] : \n",
    "                   SkyCoord(catNB6_m['x_peak'],catNB6_m['y_peak'], unit='deg',)[i] \n",
    "                   for i in range(len(catNB6_m))}\n",
    "\n",
    "dict_cores_MB6 = {catMB6_m['_name'].value[i] : \n",
    "                   SkyCoord(catMB6_m['x_peak'],catMB6_m['y_peak'], unit='deg',)[i] \n",
    "                   for i in range(len(catMB6_m))}\n",
    "\n",
    "dict_cores_NB3 = {catNB3_m['_name'].value[i] : \n",
    "                   SkyCoord(catNB3_m['x_peak'],catNB3_m['y_peak'], unit='deg',)[i] \n",
    "                   for i in range(len(catNB3_m))}\n",
    "\n",
    "dict_cores_MB3 = {catMB3_m['_name'].value[i] : \n",
    "                   SkyCoord(catMB3_m['x_peak'],catMB3_m['y_peak'], unit='deg',)[i] \n",
    "                   for i in range(len(catMB3_m))}\n",
    "\n",
    "dict_cores_ = [dict_cores_NB6, dict_cores_MB6, dict_cores_NB3, dict_cores_MB3]"
   ]
  },
  {
   "cell_type": "code",
   "execution_count": 8,
   "id": "50772bd4-e529-45c8-b48c-ace2b2f53ce8",
   "metadata": {},
   "outputs": [],
   "source": [
    "# Cubes\n",
    "basepath = '/orange/adamginsburg/sgrb2/2016.1.00550.S/FITS/'\n",
    "product_dict_NB6 = {'SgrB2_NB6_spw0': f\"{basepath}full_SgrB2N_spw0_lines.fits\",\n",
    "                'SgrB2_NB6_spw1': f\"{basepath}full_SgrB2N_spw1_lines.fits\",\n",
    "                'SgrB2_NB6_spw2': f\"{basepath}full_SgrB2N_spw2_lines.fits\",\n",
    "                'SgrB2_NB6_spw3': f\"{basepath}full_SgrB2N_spw3_lines.fits\",\n",
    "                   }\n",
    "product_dict_MB6 = {'SgrB2_MB6_spw0': f\"{basepath}full_SgrB2M_spw0_lines.fits\",\n",
    "                'SgrB2_MB6_spw1': f\"{basepath}full_SgrB2M_spw1_lines.fits\",\n",
    "                'SgrB2_MB6_spw2': f\"{basepath}full_SgrB2M_spw2_lines.fits\",\n",
    "                'SgrB2_MB6_spw3': f\"{basepath}full_SgrB2M_spw3_lines.fits\",\n",
    "                    }\n",
    "\n",
    "product_dict_NB3 = {'SgrB2_NB3_spw0': f'{basepath}sgr_b2m.N.spw0.B3.big.lines.clarkclean5000.robust0.5.image.pbcor.fits',\n",
    "                   'SgrB2_NB3_spw1': f'{basepath}sgr_b2m.N.spw1.B3.big.lines.clarkclean5000.robust0.5.image.pbcor.fits',\n",
    "                   'SgrB2_NB3_spw2': f'{basepath}sgr_b2m.N.spw2.B3.big.lines.clarkclean5000.robust0.5.image.pbcor.fits',\n",
    "                   'SgrB2_NB3_spw3': f'{basepath}sgr_b2m.N.spw3.B3.big.lines.clarkclean5000.robust0.5.image.pbcor.fits',\n",
    "                  }\n",
    "product_dict_MB3 = {'SgrB2_MB3_spw0': f'{basepath}sgr_b2m.M.spw0.B3.big.lines.clarkclean5000.robust0.5.image.pbcor.fits',\n",
    "                   'SgrB2_MB3_spw1': f'{basepath}sgr_b2m.M.spw1.B3.big.lines.clarkclean5000.robust0.5.image.pbcor.fits',\n",
    "                   'SgrB2_MB3_spw2': f'{basepath}sgr_b2m.M.spw2.B3.big.lines.clarkclean5000.robust0.5.image.pbcor.fits',\n",
    "                   'SgrB2_MB3_spw3': f'{basepath}sgr_b2m.M.spw3.B3.big.lines.clarkclean5000.robust0.5.image.pbcor.fits',\n",
    "                  }\n",
    "\n",
    "product_dict_ = [product_dict_NB6, product_dict_MB6, product_dict_NB3, product_dict_MB3]"
   ]
  },
  {
   "cell_type": "code",
   "execution_count": 9,
   "id": "3caacafb-a63f-4b6a-baeb-f5da57cd1c13",
   "metadata": {},
   "outputs": [],
   "source": [
    "# select fldconf\n",
    "# pick one core\n",
    "# pefrorm spectral extraction from each of the spws for one core\n",
    "# combine the extracted spectra\n",
    "# repeat for each core"
   ]
  },
  {
   "cell_type": "code",
   "execution_count": 10,
   "id": "866561dc-6e16-4be3-bf5e-e85aff3c9aec",
   "metadata": {
    "tags": []
   },
   "outputs": [],
   "source": [
    "# # replace NB6 with fldconf\n",
    "# core_spec_NB6 = []\n",
    "# for core in cores_NB6:\n",
    "#     spec_all_spw = []\n",
    "#     for spw in product_dict_NB6:\n",
    "#         #print(spw_cube)\n",
    "#         spw_cube = product_dict_NB6[spw]\n",
    "#         cube = SpectralCube.read(spw_cube)\n",
    "#         x, y = cube.wcs.celestial.world_to_pixel(core)\n",
    "#         spec = cube[:,int(y),int(x)].value\n",
    "#         spec_all_spw = np.append(spec_all_spw, spec)\n",
    "#     core_spec_NB6 += [spec_all_spw]"
   ]
  },
  {
   "cell_type": "code",
   "execution_count": 11,
   "id": "2ca5c2b7-90c3-4303-96cd-94e3c189a7ad",
   "metadata": {},
   "outputs": [],
   "source": [
    "#spw_cube = product_dict_MB6['SgrB2_MB6_spw0']"
   ]
  },
  {
   "cell_type": "code",
   "execution_count": 12,
   "id": "81e345e7-faf0-4fa9-bdcb-353d7ce41fd9",
   "metadata": {},
   "outputs": [],
   "source": [
    "#cube = SpectralCube.read(f'{basepath}sgr_b2m.M.spw0.B3.big.lines.clarkclean5000.robust0.5.image.pbcor.fits')"
   ]
  },
  {
   "cell_type": "code",
   "execution_count": 13,
   "id": "02870b8c-252f-4554-ae34-19891b041b94",
   "metadata": {},
   "outputs": [],
   "source": [
    "# # not all spectral windows are imaged\n",
    "# core_spec_MB6 = []\n",
    "# for core in cores_MB6:\n",
    "#     spec_all_spw = []\n",
    "#     for spw in product_dict_MB6:\n",
    "#         #print(spw_cube)\n",
    "#         spw_cube = product_dict_MB6[spw]\n",
    "#         cube = SpectralCube.read(spw_cube)\n",
    "#         x, y = cube.wcs.celestial.world_to_pixel(core)\n",
    "#         spec = cube[:,int(y),int(x)].value\n",
    "#         spec_all_spw = np.append(spec_all_spw, spec)\n",
    "#     core_spec_MB6 += [spec_all_spw]"
   ]
  },
  {
   "cell_type": "code",
   "execution_count": null,
   "id": "e99e10d0-e5eb-4000-b6a7-3ffc51f13f8d",
   "metadata": {},
   "outputs": [],
   "source": []
  },
  {
   "cell_type": "code",
   "execution_count": null,
   "id": "8fbe8be4-9776-46ee-90b2-9be66bc33d08",
   "metadata": {},
   "outputs": [],
   "source": []
  },
  {
   "cell_type": "code",
   "execution_count": null,
   "id": "cd3e32b8-4fe4-4d6f-baec-f3dca5223df4",
   "metadata": {},
   "outputs": [],
   "source": [
    "core_spec_NB3 = []\n",
    "\n",
    "for core in catNB3_m:\n",
    "    spec_all_spw = []\n",
    "    freq_all_spw = []\n",
    "    core_coords = SkyCoord(core['x_peak'],core['y_peak'], unit='deg',)\n",
    "    core_name = core['_name']\n",
    "    for spw in product_dict_NB3:\n",
    "        #print(spw_cube)\n",
    "        spw_cube = product_dict_NB3[spw]\n",
    "        cube = SpectralCube.read(spw_cube)\n",
    "        x, y = cube.wcs.celestial.world_to_pixel(core_coords)\n",
    "        freq = cube.spectral_axis.to(u.GHz).value\n",
    "        try:\n",
    "            spec = cube[:,int(y),int(x)].value\n",
    "        except:\n",
    "            spec = [np.nan]*7680\n",
    "        spec_all_spw = np.append(spec_all_spw, spec)\n",
    "        freq_all_spw = np.append(freq_all_spw, freq)\n",
    "    \n",
    "    #tbl = QTable([freq_all_spw, spec_all_spw])\n",
    "    #tbl_name = str(core_name)\n",
    "    #tbl.write(f'spectraNB3/{tbl_name}.dat', format='ascii.no_header',overwrite=True)\n",
    "        \n",
    "    core_spec_NB3 += [spec_all_spw]"
   ]
  },
  {
   "cell_type": "code",
   "execution_count": null,
   "id": "96bca4ca-4ff9-4de5-b4e8-840a9e0b1245",
   "metadata": {
    "tags": []
   },
   "outputs": [],
   "source": [
    "core_spec_NB6 = []\n",
    "\n",
    "for core in catNB6_m:\n",
    "    spec_all_spw = []\n",
    "    freq_all_spw = []\n",
    "    core_coords = SkyCoord(core['x_peak'],core['y_peak'], unit='deg',)\n",
    "    core_name = core['_name']\n",
    "    for spw in product_dict_NB6:\n",
    "        #print(spw_cube)\n",
    "        spw_cube = product_dict_NB6[spw]\n",
    "        cube = SpectralCube.read(spw_cube)\n",
    "        x, y = cube.wcs.celestial.world_to_pixel(core_coords)\n",
    "        freq = cube.spectral_axis.to(u.GHz).value\n",
    "        try:\n",
    "            spec = cube[:,int(y),int(x)].value\n",
    "        except:\n",
    "            spec = np.nan\n",
    "        spec_all_spw = np.append(spec_all_spw, spec)\n",
    "        freq_all_spw = np.append(freq_all_spw, freq)\n",
    "    \n",
    "    #tbl = QTable([freq_all_spw, spec_all_spw])\n",
    "    #tbl_name = str(core_name)\n",
    "    #tbl.write(f'spectraNB6/{tbl_name}.dat', format='ascii.no_header',overwrite=True)\n",
    "        \n",
    "    core_spec_NB6 += [spec_all_spw]"
   ]
  },
  {
   "cell_type": "code",
   "execution_count": null,
   "id": "6ad3207f-218a-4978-952f-cbb67eed3ada",
   "metadata": {},
   "outputs": [],
   "source": [
    "#np.save('core_spec_NB3.npy', core_spec_NB3)"
   ]
  },
  {
   "cell_type": "code",
   "execution_count": null,
   "id": "bd0f4378-a35f-42bc-8d45-c7229a2e8cca",
   "metadata": {},
   "outputs": [],
   "source": [
    "#np.save('core_spec_NB6.npy', core_spec_NB6)"
   ]
  },
  {
   "cell_type": "code",
   "execution_count": null,
   "id": "4c00ad1a-f8e0-4a56-8c61-6639a14bf9a1",
   "metadata": {},
   "outputs": [],
   "source": [
    "#############"
   ]
  },
  {
   "cell_type": "code",
   "execution_count": 4,
   "id": "5158364f-e48b-4c80-9393-91e1c8b2265d",
   "metadata": {},
   "outputs": [],
   "source": [
    "core_spec_NB3_orig = np.load('core_spec_NB3.npy',allow_pickle=True)\n",
    "core_spec_NB6 = np.load('core_spec_NB6.npy',allow_pickle=True)\n",
    "filtered_array = [arr for arr in core_spec_NB3_orig if not np.all(np.isnan(arr))]\n",
    "core_spec_NB3 = filtered_array"
   ]
  },
  {
   "cell_type": "code",
   "execution_count": null,
   "id": "62d419f8-38bc-4105-a087-3a36034c5256",
   "metadata": {},
   "outputs": [],
   "source": []
  },
  {
   "cell_type": "code",
   "execution_count": null,
   "id": "fc099786-075f-4aae-a18b-95ae090d8d88",
   "metadata": {},
   "outputs": [],
   "source": []
  },
  {
   "cell_type": "code",
   "execution_count": 5,
   "id": "9269a34b-d69b-47ea-a460-24fdb14ffc6f",
   "metadata": {},
   "outputs": [
    {
     "name": "stderr",
     "output_type": "stream",
     "text": [
      "WARNING: Input data contains invalid values (NaNs or infs), which were automatically clipped. [astropy.stats.sigma_clipping]\n"
     ]
    }
   ],
   "source": [
    "ratios_NB6 = []\n",
    "for spectra in core_spec_NB6:\n",
    "    mean_original = np.mean(spectra)\n",
    "    mean_clipped = np.mean(sigma_clip(spectra, 2))\n",
    "    ratio = mean_original / mean_clipped\n",
    "    ratios_NB6 += [ratio]"
   ]
  },
  {
   "cell_type": "code",
   "execution_count": 6,
   "id": "cf4ff6cd-b3c8-43bb-9150-78f3849a491b",
   "metadata": {},
   "outputs": [
    {
     "data": {
      "text/html": [
       "<i>Row index=0</i>\n",
       "<table id=\"table22672767977936\">\n",
       "<thead><tr><th>_idx</th><th>c_ID</th><th>_name</th><th>area_ellipse</th><th>area_exact</th><th>flux</th><th>peak</th><th>ring_std</th><th>x_peak_px</th><th>y_peak_px</th><th>x_peak</th><th>y_peak</th><th>npix</th><th>major_fwhm</th><th>minor_fwhm</th><th>major_sigma</th><th>minor_sigma</th><th>position_angle</th><th>radius</th><th>x_cen</th><th>y_cen</th><th>x_cen_px</th><th>y_cen_px</th><th>radial_d_px</th><th>radial_d_AU</th><th>rejected</th><th>core_score</th><th>detection_score</th><th>B3_match</th><th>notes</th><th>Schmiedeke16</th></tr></thead>\n",
       "<thead><tr><th></th><th></th><th></th><th>deg2</th><th>deg2</th><th>Jy</th><th>Jy / beam</th><th>Jy / beam</th><th></th><th></th><th></th><th></th><th></th><th>deg</th><th>deg</th><th>deg</th><th>deg</th><th>deg</th><th></th><th></th><th></th><th></th><th></th><th></th><th>AU</th><th></th><th></th><th></th><th></th><th></th><th></th></tr></thead>\n",
       "<thead><tr><th>int64</th><th>int64</th><th>int64</th><th>float64</th><th>float64</th><th>float64</th><th>float64</th><th>float64</th><th>int64</th><th>int64</th><th>float64</th><th>float64</th><th>int64</th><th>float64</th><th>float64</th><th>float64</th><th>float64</th><th>float64</th><th>float64</th><th>float64</th><th>float64</th><th>float64</th><th>float64</th><th>float64</th><th>float64</th><th>float64</th><th>int64</th><th>int64</th><th>int64</th><th>str11</th><th>str2</th></tr></thead>\n",
       "<tr><td>67</td><td>0</td><td>1</td><td>2.8876546597679607e-10</td><td>1.0802469135804196e-09</td><td>0.013360111154504454</td><td>0.007188977207988501</td><td>0.000352727627963259</td><td>2247</td><td>2183</td><td>266.8330317300807</td><td>-28.372021639220787</td><td>140</td><td>3.0484888960406265e-05</td><td>1.2060856459639974e-05</td><td>1.2945740386716304e-05</td><td>5.121774160658403e-06</td><td>177.81332643605722</td><td>8.142797959133917e-06</td><td>266.8330397844399</td><td>-28.372021644527546</td><td>2244.4487248587766</td><td>2182.9980892771673</td><td>67.23148589912324</td><td>5714.67630133669</td><td>0.0</td><td>2</td><td>2</td><td>6</td><td>--</td><td>--</td></tr>\n",
       "</table>"
      ],
      "text/plain": [
       "<Row index=0>\n",
       " _idx  c_ID _name      area_ellipse            area_exact               flux                 peak               ring_std       x_peak_px y_peak_px       x_peak             y_peak        npix       major_fwhm             minor_fwhm            major_sigma            minor_sigma        position_angle           radius              x_cen              y_cen             x_cen_px           y_cen_px         radial_d_px      radial_d_AU    rejected core_score detection_score B3_match notes Schmiedeke16\n",
       "                           deg2                   deg2                   Jy               Jy / beam            Jy / beam                                                                                deg                    deg                    deg                    deg                 deg                                                                                                                                    AU                                                                       \n",
       "int64 int64 int64        float64                float64               float64              float64              float64          int64     int64        float64            float64       int64        float64                float64                float64                float64             float64              float64             float64            float64            float64            float64            float64          float64      float64    int64         int64       int64   str11     str2    \n",
       "----- ----- ----- ---------------------- ---------------------- -------------------- -------------------- -------------------- --------- --------- ----------------- ------------------- ----- ---------------------- ---------------------- ---------------------- --------------------- ------------------ --------------------- ----------------- ------------------- ------------------ ------------------ ----------------- ---------------- -------- ---------- --------------- -------- ----- ------------\n",
       "   67     0     1 2.8876546597679607e-10 1.0802469135804196e-09 0.013360111154504454 0.007188977207988501 0.000352727627963259      2247      2183 266.8330317300807 -28.372021639220787   140 3.0484888960406265e-05 1.2060856459639974e-05 1.2945740386716304e-05 5.121774160658403e-06 177.81332643605722 8.142797959133917e-06 266.8330397844399 -28.372021644527546 2244.4487248587766 2182.9980892771673 67.23148589912324 5714.67630133669      0.0          2               2        6    --           --"
      ]
     },
     "execution_count": 6,
     "metadata": {},
     "output_type": "execute_result"
    }
   ],
   "source": [
    "catNB6_m[0]"
   ]
  },
  {
   "cell_type": "code",
   "execution_count": null,
   "id": "f1131f98-ea9c-4232-8477-7a3270c4691f",
   "metadata": {},
   "outputs": [],
   "source": []
  },
  {
   "cell_type": "code",
   "execution_count": 7,
   "id": "a94f6150-61cf-4455-b7b7-d881075f18a1",
   "metadata": {},
   "outputs": [],
   "source": [
    "from scipy.signal import savgol_filter\n",
    "Y = savgol_filter(core_spec_NB6[0], 51, 3) # window size 51, polynomial order 3"
   ]
  },
  {
   "cell_type": "code",
   "execution_count": 8,
   "id": "6aa36321-90c6-42c7-b066-52cf41a47bfe",
   "metadata": {},
   "outputs": [
    {
     "data": {
      "image/png": "[encoded data removed]",
      "text/plain": [
       "<Figure size 432x288 with 1 Axes>"
      ]
     },
     "metadata": {
      "needs_background": "light"
     },
     "output_type": "display_data"
    }
   ],
   "source": [
    "plt.plot(Y)\n",
    "plt.axhline(0.00718)\n",
    "plt.show()"
   ]
  },
  {
   "cell_type": "code",
   "execution_count": 9,
   "id": "4c542439-e990-4b39-b31b-bf679d34ce90",
   "metadata": {},
   "outputs": [
    {
     "data": {
      "text/html": [
       "<i>Row index=7</i>\n",
       "<table id=\"table22672767977936\">\n",
       "<thead><tr><th>_idx</th><th>c_ID</th><th>_name</th><th>area_ellipse</th><th>area_exact</th><th>flux</th><th>peak</th><th>ring_std</th><th>x_peak_px</th><th>y_peak_px</th><th>x_peak</th><th>y_peak</th><th>npix</th><th>major_fwhm</th><th>minor_fwhm</th><th>major_sigma</th><th>minor_sigma</th><th>position_angle</th><th>radius</th><th>x_cen</th><th>y_cen</th><th>x_cen_px</th><th>y_cen_px</th><th>radial_d_px</th><th>radial_d_AU</th><th>rejected</th><th>core_score</th><th>detection_score</th><th>B3_match</th><th>notes</th><th>Schmiedeke16</th></tr></thead>\n",
       "<thead><tr><th></th><th></th><th></th><th>deg2</th><th>deg2</th><th>Jy</th><th>Jy / beam</th><th>Jy / beam</th><th></th><th></th><th></th><th></th><th></th><th>deg</th><th>deg</th><th>deg</th><th>deg</th><th>deg</th><th></th><th></th><th></th><th></th><th></th><th></th><th>AU</th><th></th><th></th><th></th><th></th><th></th><th></th></tr></thead>\n",
       "<thead><tr><th>int64</th><th>int64</th><th>int64</th><th>float64</th><th>float64</th><th>float64</th><th>float64</th><th>float64</th><th>int64</th><th>int64</th><th>float64</th><th>float64</th><th>int64</th><th>float64</th><th>float64</th><th>float64</th><th>float64</th><th>float64</th><th>float64</th><th>float64</th><th>float64</th><th>float64</th><th>float64</th><th>float64</th><th>float64</th><th>float64</th><th>int64</th><th>int64</th><th>int64</th><th>str11</th><th>str2</th></tr></thead>\n",
       "<tr><td>1335</td><td>1</td><td>27</td><td>1.6081892463710942e-10</td><td>4.706790123457543e-10</td><td>0.007417755246880759</td><td>0.0050883530639112</td><td>0.000352727627963259</td><td>2316</td><td>2157</td><td>266.8328138973829</td><td>-28.37209386128493</td><td>61</td><td>1.8267554929749593e-05</td><td>1.1209190349382976e-05</td><td>7.7575163198976e-06</td><td>4.760104863654519e-06</td><td>-146.9985492802465</td><td>6.076725365213066e-06</td><td>266.8328107633634</td><td>-28.37209307042804</td><td>2316.992722619732</td><td>2157.2847067536586</td><td>114.38597154266523</td><td>9722.80758174802</td><td>0.0</td><td>1</td><td>1</td><td>--</td><td>--</td><td>--</td></tr>\n",
       "</table>"
      ],
      "text/plain": [
       "<Row index=7>\n",
       " _idx  c_ID _name      area_ellipse            area_exact              flux                peak              ring_std       x_peak_px y_peak_px       x_peak            y_peak        npix       major_fwhm             minor_fwhm           major_sigma          minor_sigma        position_angle           radius              x_cen             y_cen             x_cen_px          y_cen_px         radial_d_px       radial_d_AU    rejected core_score detection_score B3_match notes Schmiedeke16\n",
       "                           deg2                   deg2                  Jy              Jy / beam           Jy / beam                                                                               deg                    deg                   deg                  deg                 deg                                                                                                                                   AU                                                                       \n",
       "int64 int64 int64        float64                float64              float64             float64             float64          int64     int64        float64           float64       int64        float64                float64               float64              float64             float64              float64             float64           float64            float64           float64            float64           float64      float64    int64         int64       int64   str11     str2    \n",
       "----- ----- ----- ---------------------- --------------------- -------------------- ------------------ -------------------- --------- --------- ----------------- ------------------ ----- ---------------------- ---------------------- ------------------- --------------------- ------------------ --------------------- ----------------- ------------------ ----------------- ------------------ ------------------ ---------------- -------- ---------- --------------- -------- ----- ------------\n",
       " 1335     1    27 1.6081892463710942e-10 4.706790123457543e-10 0.007417755246880759 0.0050883530639112 0.000352727627963259      2316      2157 266.8328138973829 -28.37209386128493    61 1.8267554929749593e-05 1.1209190349382976e-05 7.7575163198976e-06 4.760104863654519e-06 -146.9985492802465 6.076725365213066e-06 266.8328107633634 -28.37209307042804 2316.992722619732 2157.2847067536586 114.38597154266523 9722.80758174802      0.0          1               1       --    --           --"
      ]
     },
     "execution_count": 9,
     "metadata": {},
     "output_type": "execute_result"
    }
   ],
   "source": [
    "catNB6_m[7]"
   ]
  },
  {
   "cell_type": "code",
   "execution_count": null,
   "id": "8087d30f-ccad-43ba-bd93-e11aa5929d71",
   "metadata": {},
   "outputs": [],
   "source": []
  },
  {
   "cell_type": "code",
   "execution_count": 10,
   "id": "6b7b7737-7628-45f3-8e34-c4882b8c1eff",
   "metadata": {
    "collapsed": true,
    "jupyter": {
     "outputs_hidden": true
    },
    "tags": []
   },
   "outputs": [
    {
     "name": "stderr",
     "output_type": "stream",
     "text": [
      "/scratch/local/10681038/ipykernel_3703656/4182567715.py:4: RuntimeWarning: Mean of empty slice\n",
      "  before_clip = np.nanmean(spectra)\n",
      "WARNING: Input data contains invalid values (NaNs or infs), which were automatically clipped. [astropy.stats.sigma_clipping]\n",
      "/scratch/local/10681038/ipykernel_3703656/4182567715.py:4: RuntimeWarning: Mean of empty slice\n",
      "  before_clip = np.nanmean(spectra)\n",
      "WARNING: Input data contains invalid values (NaNs or infs), which were automatically clipped. [astropy.stats.sigma_clipping]\n",
      "/scratch/local/10681038/ipykernel_3703656/4182567715.py:4: RuntimeWarning: Mean of empty slice\n",
      "  before_clip = np.nanmean(spectra)\n",
      "WARNING: Input data contains invalid values (NaNs or infs), which were automatically clipped. [astropy.stats.sigma_clipping]\n",
      "/scratch/local/10681038/ipykernel_3703656/4182567715.py:4: RuntimeWarning: Mean of empty slice\n",
      "  before_clip = np.nanmean(spectra)\n",
      "WARNING: Input data contains invalid values (NaNs or infs), which were automatically clipped. [astropy.stats.sigma_clipping]\n",
      "/scratch/local/10681038/ipykernel_3703656/4182567715.py:4: RuntimeWarning: Mean of empty slice\n",
      "  before_clip = np.nanmean(spectra)\n",
      "WARNING: Input data contains invalid values (NaNs or infs), which were automatically clipped. [astropy.stats.sigma_clipping]\n",
      "/scratch/local/10681038/ipykernel_3703656/4182567715.py:4: RuntimeWarning: Mean of empty slice\n",
      "  before_clip = np.nanmean(spectra)\n",
      "WARNING: Input data contains invalid values (NaNs or infs), which were automatically clipped. [astropy.stats.sigma_clipping]\n",
      "/scratch/local/10681038/ipykernel_3703656/4182567715.py:4: RuntimeWarning: Mean of empty slice\n",
      "  before_clip = np.nanmean(spectra)\n",
      "WARNING: Input data contains invalid values (NaNs or infs), which were automatically clipped. [astropy.stats.sigma_clipping]\n",
      "/scratch/local/10681038/ipykernel_3703656/4182567715.py:4: RuntimeWarning: Mean of empty slice\n",
      "  before_clip = np.nanmean(spectra)\n",
      "WARNING: Input data contains invalid values (NaNs or infs), which were automatically clipped. [astropy.stats.sigma_clipping]\n",
      "/scratch/local/10681038/ipykernel_3703656/4182567715.py:4: RuntimeWarning: Mean of empty slice\n",
      "  before_clip = np.nanmean(spectra)\n",
      "WARNING: Input data contains invalid values (NaNs or infs), which were automatically clipped. [astropy.stats.sigma_clipping]\n",
      "/scratch/local/10681038/ipykernel_3703656/4182567715.py:4: RuntimeWarning: Mean of empty slice\n",
      "  before_clip = np.nanmean(spectra)\n",
      "WARNING: Input data contains invalid values (NaNs or infs), which were automatically clipped. [astropy.stats.sigma_clipping]\n",
      "/scratch/local/10681038/ipykernel_3703656/4182567715.py:4: RuntimeWarning: Mean of empty slice\n",
      "  before_clip = np.nanmean(spectra)\n",
      "WARNING: Input data contains invalid values (NaNs or infs), which were automatically clipped. [astropy.stats.sigma_clipping]\n",
      "/scratch/local/10681038/ipykernel_3703656/4182567715.py:4: RuntimeWarning: Mean of empty slice\n",
      "  before_clip = np.nanmean(spectra)\n",
      "WARNING: Input data contains invalid values (NaNs or infs), which were automatically clipped. [astropy.stats.sigma_clipping]\n",
      "/scratch/local/10681038/ipykernel_3703656/4182567715.py:4: RuntimeWarning: Mean of empty slice\n",
      "  before_clip = np.nanmean(spectra)\n",
      "WARNING: Input data contains invalid values (NaNs or infs), which were automatically clipped. [astropy.stats.sigma_clipping]\n",
      "/scratch/local/10681038/ipykernel_3703656/4182567715.py:4: RuntimeWarning: Mean of empty slice\n",
      "  before_clip = np.nanmean(spectra)\n",
      "WARNING: Input data contains invalid values (NaNs or infs), which were automatically clipped. [astropy.stats.sigma_clipping]\n",
      "/scratch/local/10681038/ipykernel_3703656/4182567715.py:4: RuntimeWarning: Mean of empty slice\n",
      "  before_clip = np.nanmean(spectra)\n",
      "WARNING: Input data contains invalid values (NaNs or infs), which were automatically clipped. [astropy.stats.sigma_clipping]\n",
      "/scratch/local/10681038/ipykernel_3703656/4182567715.py:4: RuntimeWarning: Mean of empty slice\n",
      "  before_clip = np.nanmean(spectra)\n",
      "WARNING: Input data contains invalid values (NaNs or infs), which were automatically clipped. [astropy.stats.sigma_clipping]\n",
      "/scratch/local/10681038/ipykernel_3703656/4182567715.py:4: RuntimeWarning: Mean of empty slice\n",
      "  before_clip = np.nanmean(spectra)\n",
      "WARNING: Input data contains invalid values (NaNs or infs), which were automatically clipped. [astropy.stats.sigma_clipping]\n",
      "/scratch/local/10681038/ipykernel_3703656/4182567715.py:4: RuntimeWarning: Mean of empty slice\n",
      "  before_clip = np.nanmean(spectra)\n",
      "WARNING: Input data contains invalid values (NaNs or infs), which were automatically clipped. [astropy.stats.sigma_clipping]\n",
      "/scratch/local/10681038/ipykernel_3703656/4182567715.py:4: RuntimeWarning: Mean of empty slice\n",
      "  before_clip = np.nanmean(spectra)\n",
      "WARNING: Input data contains invalid values (NaNs or infs), which were automatically clipped. [astropy.stats.sigma_clipping]\n",
      "/scratch/local/10681038/ipykernel_3703656/4182567715.py:4: RuntimeWarning: Mean of empty slice\n",
      "  before_clip = np.nanmean(spectra)\n",
      "WARNING: Input data contains invalid values (NaNs or infs), which were automatically clipped. [astropy.stats.sigma_clipping]\n",
      "/scratch/local/10681038/ipykernel_3703656/4182567715.py:4: RuntimeWarning: Mean of empty slice\n",
      "  before_clip = np.nanmean(spectra)\n",
      "WARNING: Input data contains invalid values (NaNs or infs), which were automatically clipped. [astropy.stats.sigma_clipping]\n",
      "/scratch/local/10681038/ipykernel_3703656/4182567715.py:4: RuntimeWarning: Mean of empty slice\n",
      "  before_clip = np.nanmean(spectra)\n",
      "WARNING: Input data contains invalid values (NaNs or infs), which were automatically clipped. [astropy.stats.sigma_clipping]\n",
      "/scratch/local/10681038/ipykernel_3703656/4182567715.py:4: RuntimeWarning: Mean of empty slice\n",
      "  before_clip = np.nanmean(spectra)\n",
      "WARNING: Input data contains invalid values (NaNs or infs), which were automatically clipped. [astropy.stats.sigma_clipping]\n",
      "/scratch/local/10681038/ipykernel_3703656/4182567715.py:4: RuntimeWarning: Mean of empty slice\n",
      "  before_clip = np.nanmean(spectra)\n",
      "WARNING: Input data contains invalid values (NaNs or infs), which were automatically clipped. [astropy.stats.sigma_clipping]\n",
      "/scratch/local/10681038/ipykernel_3703656/4182567715.py:4: RuntimeWarning: Mean of empty slice\n",
      "  before_clip = np.nanmean(spectra)\n",
      "WARNING: Input data contains invalid values (NaNs or infs), which were automatically clipped. [astropy.stats.sigma_clipping]\n",
      "/scratch/local/10681038/ipykernel_3703656/4182567715.py:4: RuntimeWarning: Mean of empty slice\n",
      "  before_clip = np.nanmean(spectra)\n",
      "WARNING: Input data contains invalid values (NaNs or infs), which were automatically clipped. [astropy.stats.sigma_clipping]\n",
      "/scratch/local/10681038/ipykernel_3703656/4182567715.py:4: RuntimeWarning: Mean of empty slice\n",
      "  before_clip = np.nanmean(spectra)\n",
      "WARNING: Input data contains invalid values (NaNs or infs), which were automatically clipped. [astropy.stats.sigma_clipping]\n",
      "/scratch/local/10681038/ipykernel_3703656/4182567715.py:4: RuntimeWarning: Mean of empty slice\n",
      "  before_clip = np.nanmean(spectra)\n",
      "WARNING: Input data contains invalid values (NaNs or infs), which were automatically clipped. [astropy.stats.sigma_clipping]\n",
      "/scratch/local/10681038/ipykernel_3703656/4182567715.py:4: RuntimeWarning: Mean of empty slice\n",
      "  before_clip = np.nanmean(spectra)\n",
      "WARNING: Input data contains invalid values (NaNs or infs), which were automatically clipped. [astropy.stats.sigma_clipping]\n",
      "/scratch/local/10681038/ipykernel_3703656/4182567715.py:4: RuntimeWarning: Mean of empty slice\n",
      "  before_clip = np.nanmean(spectra)\n",
      "WARNING: Input data contains invalid values (NaNs or infs), which were automatically clipped. [astropy.stats.sigma_clipping]\n",
      "/scratch/local/10681038/ipykernel_3703656/4182567715.py:4: RuntimeWarning: Mean of empty slice\n",
      "  before_clip = np.nanmean(spectra)\n",
      "WARNING: Input data contains invalid values (NaNs or infs), which were automatically clipped. [astropy.stats.sigma_clipping]\n",
      "/scratch/local/10681038/ipykernel_3703656/4182567715.py:4: RuntimeWarning: Mean of empty slice\n",
      "  before_clip = np.nanmean(spectra)\n",
      "WARNING: Input data contains invalid values (NaNs or infs), which were automatically clipped. [astropy.stats.sigma_clipping]\n",
      "/scratch/local/10681038/ipykernel_3703656/4182567715.py:4: RuntimeWarning: Mean of empty slice\n",
      "  before_clip = np.nanmean(spectra)\n",
      "WARNING: Input data contains invalid values (NaNs or infs), which were automatically clipped. [astropy.stats.sigma_clipping]\n",
      "/scratch/local/10681038/ipykernel_3703656/4182567715.py:4: RuntimeWarning: Mean of empty slice\n",
      "  before_clip = np.nanmean(spectra)\n",
      "WARNING: Input data contains invalid values (NaNs or infs), which were automatically clipped. [astropy.stats.sigma_clipping]\n",
      "/scratch/local/10681038/ipykernel_3703656/4182567715.py:4: RuntimeWarning: Mean of empty slice\n",
      "  before_clip = np.nanmean(spectra)\n",
      "WARNING: Input data contains invalid values (NaNs or infs), which were automatically clipped. [astropy.stats.sigma_clipping]\n",
      "/scratch/local/10681038/ipykernel_3703656/4182567715.py:4: RuntimeWarning: Mean of empty slice\n",
      "  before_clip = np.nanmean(spectra)\n",
      "WARNING: Input data contains invalid values (NaNs or infs), which were automatically clipped. [astropy.stats.sigma_clipping]\n",
      "/scratch/local/10681038/ipykernel_3703656/4182567715.py:4: RuntimeWarning: Mean of empty slice\n",
      "  before_clip = np.nanmean(spectra)\n",
      "WARNING: Input data contains invalid values (NaNs or infs), which were automatically clipped. [astropy.stats.sigma_clipping]\n",
      "/scratch/local/10681038/ipykernel_3703656/4182567715.py:4: RuntimeWarning: Mean of empty slice\n",
      "  before_clip = np.nanmean(spectra)\n",
      "WARNING: Input data contains invalid values (NaNs or infs), which were automatically clipped. [astropy.stats.sigma_clipping]\n",
      "/scratch/local/10681038/ipykernel_3703656/4182567715.py:4: RuntimeWarning: Mean of empty slice\n",
      "  before_clip = np.nanmean(spectra)\n",
      "WARNING: Input data contains invalid values (NaNs or infs), which were automatically clipped. [astropy.stats.sigma_clipping]\n",
      "/scratch/local/10681038/ipykernel_3703656/4182567715.py:15: RuntimeWarning: Mean of empty slice\n",
      "  before_clip = np.nanmean(spectra)\n",
      "WARNING: Input data contains invalid values (NaNs or infs), which were automatically clipped. [astropy.stats.sigma_clipping]\n",
      "/scratch/local/10681038/ipykernel_3703656/4182567715.py:15: RuntimeWarning: Mean of empty slice\n",
      "  before_clip = np.nanmean(spectra)\n",
      "WARNING: Input data contains invalid values (NaNs or infs), which were automatically clipped. [astropy.stats.sigma_clipping]\n",
      "/scratch/local/10681038/ipykernel_3703656/4182567715.py:15: RuntimeWarning: Mean of empty slice\n",
      "  before_clip = np.nanmean(spectra)\n",
      "WARNING: Input data contains invalid values (NaNs or infs), which were automatically clipped. [astropy.stats.sigma_clipping]\n",
      "/scratch/local/10681038/ipykernel_3703656/4182567715.py:15: RuntimeWarning: Mean of empty slice\n",
      "  before_clip = np.nanmean(spectra)\n",
      "WARNING: Input data contains invalid values (NaNs or infs), which were automatically clipped. [astropy.stats.sigma_clipping]\n",
      "/scratch/local/10681038/ipykernel_3703656/4182567715.py:15: RuntimeWarning: Mean of empty slice\n",
      "  before_clip = np.nanmean(spectra)\n",
      "WARNING: Input data contains invalid values (NaNs or infs), which were automatically clipped. [astropy.stats.sigma_clipping]\n",
      "/scratch/local/10681038/ipykernel_3703656/4182567715.py:15: RuntimeWarning: Mean of empty slice\n",
      "  before_clip = np.nanmean(spectra)\n",
      "WARNING: Input data contains invalid values (NaNs or infs), which were automatically clipped. [astropy.stats.sigma_clipping]\n",
      "/scratch/local/10681038/ipykernel_3703656/4182567715.py:15: RuntimeWarning: Mean of empty slice\n",
      "  before_clip = np.nanmean(spectra)\n",
      "WARNING: Input data contains invalid values (NaNs or infs), which were automatically clipped. [astropy.stats.sigma_clipping]\n",
      "/scratch/local/10681038/ipykernel_3703656/4182567715.py:15: RuntimeWarning: Mean of empty slice\n",
      "  before_clip = np.nanmean(spectra)\n",
      "WARNING: Input data contains invalid values (NaNs or infs), which were automatically clipped. [astropy.stats.sigma_clipping]\n",
      "/scratch/local/10681038/ipykernel_3703656/4182567715.py:15: RuntimeWarning: Mean of empty slice\n",
      "  before_clip = np.nanmean(spectra)\n",
      "WARNING: Input data contains invalid values (NaNs or infs), which were automatically clipped. [astropy.stats.sigma_clipping]\n",
      "/scratch/local/10681038/ipykernel_3703656/4182567715.py:15: RuntimeWarning: Mean of empty slice\n",
      "  before_clip = np.nanmean(spectra)\n",
      "WARNING: Input data contains invalid values (NaNs or infs), which were automatically clipped. [astropy.stats.sigma_clipping]\n",
      "/scratch/local/10681038/ipykernel_3703656/4182567715.py:15: RuntimeWarning: Mean of empty slice\n",
      "  before_clip = np.nanmean(spectra)\n",
      "WARNING: Input data contains invalid values (NaNs or infs), which were automatically clipped. [astropy.stats.sigma_clipping]\n",
      "/scratch/local/10681038/ipykernel_3703656/4182567715.py:15: RuntimeWarning: Mean of empty slice\n",
      "  before_clip = np.nanmean(spectra)\n",
      "WARNING: Input data contains invalid values (NaNs or infs), which were automatically clipped. [astropy.stats.sigma_clipping]\n",
      "/scratch/local/10681038/ipykernel_3703656/4182567715.py:15: RuntimeWarning: Mean of empty slice\n",
      "  before_clip = np.nanmean(spectra)\n",
      "WARNING: Input data contains invalid values (NaNs or infs), which were automatically clipped. [astropy.stats.sigma_clipping]\n",
      "/scratch/local/10681038/ipykernel_3703656/4182567715.py:15: RuntimeWarning: Mean of empty slice\n",
      "  before_clip = np.nanmean(spectra)\n",
      "WARNING: Input data contains invalid values (NaNs or infs), which were automatically clipped. [astropy.stats.sigma_clipping]\n",
      "/scratch/local/10681038/ipykernel_3703656/4182567715.py:15: RuntimeWarning: Mean of empty slice\n",
      "  before_clip = np.nanmean(spectra)\n",
      "WARNING: Input data contains invalid values (NaNs or infs), which were automatically clipped. [astropy.stats.sigma_clipping]\n",
      "/scratch/local/10681038/ipykernel_3703656/4182567715.py:15: RuntimeWarning: Mean of empty slice\n",
      "  before_clip = np.nanmean(spectra)\n",
      "WARNING: Input data contains invalid values (NaNs or infs), which were automatically clipped. [astropy.stats.sigma_clipping]\n",
      "/scratch/local/10681038/ipykernel_3703656/4182567715.py:15: RuntimeWarning: Mean of empty slice\n",
      "  before_clip = np.nanmean(spectra)\n",
      "WARNING: Input data contains invalid values (NaNs or infs), which were automatically clipped. [astropy.stats.sigma_clipping]\n",
      "/scratch/local/10681038/ipykernel_3703656/4182567715.py:15: RuntimeWarning: Mean of empty slice\n",
      "  before_clip = np.nanmean(spectra)\n",
      "WARNING: Input data contains invalid values (NaNs or infs), which were automatically clipped. [astropy.stats.sigma_clipping]\n",
      "/scratch/local/10681038/ipykernel_3703656/4182567715.py:15: RuntimeWarning: Mean of empty slice\n",
      "  before_clip = np.nanmean(spectra)\n",
      "WARNING: Input data contains invalid values (NaNs or infs), which were automatically clipped. [astropy.stats.sigma_clipping]\n",
      "/scratch/local/10681038/ipykernel_3703656/4182567715.py:15: RuntimeWarning: Mean of empty slice\n",
      "  before_clip = np.nanmean(spectra)\n",
      "WARNING: Input data contains invalid values (NaNs or infs), which were automatically clipped. [astropy.stats.sigma_clipping]\n",
      "/scratch/local/10681038/ipykernel_3703656/4182567715.py:15: RuntimeWarning: Mean of empty slice\n",
      "  before_clip = np.nanmean(spectra)\n",
      "WARNING: Input data contains invalid values (NaNs or infs), which were automatically clipped. [astropy.stats.sigma_clipping]\n",
      "/scratch/local/10681038/ipykernel_3703656/4182567715.py:15: RuntimeWarning: Mean of empty slice\n",
      "  before_clip = np.nanmean(spectra)\n",
      "WARNING: Input data contains invalid values (NaNs or infs), which were automatically clipped. [astropy.stats.sigma_clipping]\n",
      "/scratch/local/10681038/ipykernel_3703656/4182567715.py:15: RuntimeWarning: Mean of empty slice\n",
      "  before_clip = np.nanmean(spectra)\n",
      "WARNING: Input data contains invalid values (NaNs or infs), which were automatically clipped. [astropy.stats.sigma_clipping]\n",
      "/scratch/local/10681038/ipykernel_3703656/4182567715.py:15: RuntimeWarning: Mean of empty slice\n",
      "  before_clip = np.nanmean(spectra)\n",
      "WARNING: Input data contains invalid values (NaNs or infs), which were automatically clipped. [astropy.stats.sigma_clipping]\n",
      "/scratch/local/10681038/ipykernel_3703656/4182567715.py:15: RuntimeWarning: Mean of empty slice\n",
      "  before_clip = np.nanmean(spectra)\n",
      "WARNING: Input data contains invalid values (NaNs or infs), which were automatically clipped. [astropy.stats.sigma_clipping]\n",
      "/scratch/local/10681038/ipykernel_3703656/4182567715.py:15: RuntimeWarning: Mean of empty slice\n",
      "  before_clip = np.nanmean(spectra)\n",
      "WARNING: Input data contains invalid values (NaNs or infs), which were automatically clipped. [astropy.stats.sigma_clipping]\n",
      "/scratch/local/10681038/ipykernel_3703656/4182567715.py:15: RuntimeWarning: Mean of empty slice\n",
      "  before_clip = np.nanmean(spectra)\n",
      "WARNING: Input data contains invalid values (NaNs or infs), which were automatically clipped. [astropy.stats.sigma_clipping]\n",
      "/scratch/local/10681038/ipykernel_3703656/4182567715.py:15: RuntimeWarning: Mean of empty slice\n",
      "  before_clip = np.nanmean(spectra)\n",
      "WARNING: Input data contains invalid values (NaNs or infs), which were automatically clipped. [astropy.stats.sigma_clipping]\n",
      "/scratch/local/10681038/ipykernel_3703656/4182567715.py:15: RuntimeWarning: Mean of empty slice\n",
      "  before_clip = np.nanmean(spectra)\n",
      "WARNING: Input data contains invalid values (NaNs or infs), which were automatically clipped. [astropy.stats.sigma_clipping]\n",
      "/scratch/local/10681038/ipykernel_3703656/4182567715.py:15: RuntimeWarning: Mean of empty slice\n",
      "  before_clip = np.nanmean(spectra)\n",
      "WARNING: Input data contains invalid values (NaNs or infs), which were automatically clipped. [astropy.stats.sigma_clipping]\n",
      "/scratch/local/10681038/ipykernel_3703656/4182567715.py:15: RuntimeWarning: Mean of empty slice\n",
      "  before_clip = np.nanmean(spectra)\n",
      "WARNING: Input data contains invalid values (NaNs or infs), which were automatically clipped. [astropy.stats.sigma_clipping]\n",
      "/scratch/local/10681038/ipykernel_3703656/4182567715.py:15: RuntimeWarning: Mean of empty slice\n",
      "  before_clip = np.nanmean(spectra)\n",
      "WARNING: Input data contains invalid values (NaNs or infs), which were automatically clipped. [astropy.stats.sigma_clipping]\n",
      "/scratch/local/10681038/ipykernel_3703656/4182567715.py:15: RuntimeWarning: Mean of empty slice\n",
      "  before_clip = np.nanmean(spectra)\n",
      "WARNING: Input data contains invalid values (NaNs or infs), which were automatically clipped. [astropy.stats.sigma_clipping]\n",
      "/scratch/local/10681038/ipykernel_3703656/4182567715.py:15: RuntimeWarning: Mean of empty slice\n",
      "  before_clip = np.nanmean(spectra)\n",
      "WARNING: Input data contains invalid values (NaNs or infs), which were automatically clipped. [astropy.stats.sigma_clipping]\n",
      "/scratch/local/10681038/ipykernel_3703656/4182567715.py:15: RuntimeWarning: Mean of empty slice\n",
      "  before_clip = np.nanmean(spectra)\n",
      "WARNING: Input data contains invalid values (NaNs or infs), which were automatically clipped. [astropy.stats.sigma_clipping]\n",
      "/scratch/local/10681038/ipykernel_3703656/4182567715.py:15: RuntimeWarning: Mean of empty slice\n",
      "  before_clip = np.nanmean(spectra)\n",
      "WARNING: Input data contains invalid values (NaNs or infs), which were automatically clipped. [astropy.stats.sigma_clipping]\n",
      "/scratch/local/10681038/ipykernel_3703656/4182567715.py:15: RuntimeWarning: Mean of empty slice\n",
      "  before_clip = np.nanmean(spectra)\n",
      "WARNING: Input data contains invalid values (NaNs or infs), which were automatically clipped. [astropy.stats.sigma_clipping]\n",
      "/scratch/local/10681038/ipykernel_3703656/4182567715.py:15: RuntimeWarning: Mean of empty slice\n",
      "  before_clip = np.nanmean(spectra)\n",
      "WARNING: Input data contains invalid values (NaNs or infs), which were automatically clipped. [astropy.stats.sigma_clipping]\n",
      "/scratch/local/10681038/ipykernel_3703656/4182567715.py:15: RuntimeWarning: Mean of empty slice\n",
      "  before_clip = np.nanmean(spectra)\n",
      "WARNING: Input data contains invalid values (NaNs or infs), which were automatically clipped. [astropy.stats.sigma_clipping]\n"
     ]
    }
   ],
   "source": [
    "errors_arr = []\n",
    "for spectra in core_spec_NB3_orig:\n",
    "    try:\n",
    "        before_clip = np.nanmean(spectra)\n",
    "        after_clip = np.nanmean(sigma_clip(spectra,2))\n",
    "        err = (after_clip - before_clip) / (after_clip) * 100\n",
    "    except:\n",
    "        err = np.nan\n",
    "    errors_arr += [err]\n",
    "    \n",
    "    \n",
    "ratios_arr = [] \n",
    "for spectra in core_spec_NB3_orig:\n",
    "    try:\n",
    "        before_clip = np.nanmean(spectra)\n",
    "        after_clip = np.nanmean(sigma_clip(spectra,2))\n",
    "        rat = after_clip/before_clip\n",
    "    except:\n",
    "        rat = np.nan\n",
    "    ratios_arr += [rat]"
   ]
  },
  {
   "cell_type": "code",
   "execution_count": 11,
   "id": "b915452c-c37f-46d4-85d5-66f778e54c58",
   "metadata": {},
   "outputs": [
    {
     "data": {
      "text/plain": [
       "203"
      ]
     },
     "execution_count": 11,
     "metadata": {},
     "output_type": "execute_result"
    }
   ],
   "source": [
    "len(core_spec_NB3_orig)"
   ]
  },
  {
   "cell_type": "code",
   "execution_count": 12,
   "id": "679527b5-e282-4ee9-8f6d-ebc6d18cdece",
   "metadata": {},
   "outputs": [
    {
     "data": {
      "text/plain": [
       "203"
      ]
     },
     "execution_count": 12,
     "metadata": {},
     "output_type": "execute_result"
    }
   ],
   "source": [
    "len(catNB3_m)"
   ]
  },
  {
   "cell_type": "code",
   "execution_count": 13,
   "id": "506f8616-6221-42e7-9589-28a0aa210abc",
   "metadata": {},
   "outputs": [
    {
     "data": {
      "text/plain": [
       "array([   76.20723246,   349.03389878,  -134.68010355,  -103.43649588,\n",
       "        -549.80060651,   -54.76939077, -5914.57410638,    81.17029978,\n",
       "          77.27291189,   -55.63105004,    66.67579612,  -119.31371535])"
      ]
     },
     "execution_count": 13,
     "metadata": {},
     "output_type": "execute_result"
    }
   ],
   "source": [
    "np.array(errors_arr)[np.where(np.abs(np.array(errors_arr)) > 50)]"
   ]
  },
  {
   "cell_type": "code",
   "execution_count": 14,
   "id": "52aab49b-44fa-4ed8-bbdc-fe67a5647390",
   "metadata": {},
   "outputs": [],
   "source": [
    "###"
   ]
  },
  {
   "cell_type": "code",
   "execution_count": 15,
   "id": "a6ccd9cb-5d9e-4d73-a590-0053408456b7",
   "metadata": {
    "tags": []
   },
   "outputs": [
    {
     "name": "stderr",
     "output_type": "stream",
     "text": [
      "WARNING: Input data contains invalid values (NaNs or infs), which were automatically clipped. [astropy.stats.sigma_clipping]\n",
      "WARNING: Input data contains invalid values (NaNs or infs), which were automatically clipped. [astropy.stats.sigma_clipping]\n",
      "WARNING: Input data contains invalid values (NaNs or infs), which were automatically clipped. [astropy.stats.sigma_clipping]\n",
      "WARNING: Input data contains invalid values (NaNs or infs), which were automatically clipped. [astropy.stats.sigma_clipping]\n",
      "WARNING: Input data contains invalid values (NaNs or infs), which were automatically clipped. [astropy.stats.sigma_clipping]\n",
      "WARNING: Input data contains invalid values (NaNs or infs), which were automatically clipped. [astropy.stats.sigma_clipping]\n",
      "WARNING: Input data contains invalid values (NaNs or infs), which were automatically clipped. [astropy.stats.sigma_clipping]\n",
      "WARNING: Input data contains invalid values (NaNs or infs), which were automatically clipped. [astropy.stats.sigma_clipping]\n",
      "WARNING: Input data contains invalid values (NaNs or infs), which were automatically clipped. [astropy.stats.sigma_clipping]\n",
      "WARNING: Input data contains invalid values (NaNs or infs), which were automatically clipped. [astropy.stats.sigma_clipping]\n",
      "WARNING: Input data contains invalid values (NaNs or infs), which were automatically clipped. [astropy.stats.sigma_clipping]\n",
      "WARNING: Input data contains invalid values (NaNs or infs), which were automatically clipped. [astropy.stats.sigma_clipping]\n",
      "WARNING: Input data contains invalid values (NaNs or infs), which were automatically clipped. [astropy.stats.sigma_clipping]\n",
      "WARNING: Input data contains invalid values (NaNs or infs), which were automatically clipped. [astropy.stats.sigma_clipping]\n",
      "WARNING: Input data contains invalid values (NaNs or infs), which were automatically clipped. [astropy.stats.sigma_clipping]\n",
      "WARNING: Input data contains invalid values (NaNs or infs), which were automatically clipped. [astropy.stats.sigma_clipping]\n",
      "WARNING: Input data contains invalid values (NaNs or infs), which were automatically clipped. [astropy.stats.sigma_clipping]\n",
      "WARNING: Input data contains invalid values (NaNs or infs), which were automatically clipped. [astropy.stats.sigma_clipping]\n",
      "WARNING: Input data contains invalid values (NaNs or infs), which were automatically clipped. [astropy.stats.sigma_clipping]\n",
      "WARNING: Input data contains invalid values (NaNs or infs), which were automatically clipped. [astropy.stats.sigma_clipping]\n",
      "WARNING: Input data contains invalid values (NaNs or infs), which were automatically clipped. [astropy.stats.sigma_clipping]\n",
      "WARNING: Input data contains invalid values (NaNs or infs), which were automatically clipped. [astropy.stats.sigma_clipping]\n",
      "WARNING: Input data contains invalid values (NaNs or infs), which were automatically clipped. [astropy.stats.sigma_clipping]\n",
      "WARNING: Input data contains invalid values (NaNs or infs), which were automatically clipped. [astropy.stats.sigma_clipping]\n",
      "WARNING: Input data contains invalid values (NaNs or infs), which were automatically clipped. [astropy.stats.sigma_clipping]\n",
      "WARNING: Input data contains invalid values (NaNs or infs), which were automatically clipped. [astropy.stats.sigma_clipping]\n",
      "WARNING: Input data contains invalid values (NaNs or infs), which were automatically clipped. [astropy.stats.sigma_clipping]\n",
      "WARNING: Input data contains invalid values (NaNs or infs), which were automatically clipped. [astropy.stats.sigma_clipping]\n",
      "WARNING: Input data contains invalid values (NaNs or infs), which were automatically clipped. [astropy.stats.sigma_clipping]\n",
      "WARNING: Input data contains invalid values (NaNs or infs), which were automatically clipped. [astropy.stats.sigma_clipping]\n",
      "WARNING: Input data contains invalid values (NaNs or infs), which were automatically clipped. [astropy.stats.sigma_clipping]\n",
      "WARNING: Input data contains invalid values (NaNs or infs), which were automatically clipped. [astropy.stats.sigma_clipping]\n",
      "WARNING: Input data contains invalid values (NaNs or infs), which were automatically clipped. [astropy.stats.sigma_clipping]\n",
      "WARNING: Input data contains invalid values (NaNs or infs), which were automatically clipped. [astropy.stats.sigma_clipping]\n",
      "WARNING: Input data contains invalid values (NaNs or infs), which were automatically clipped. [astropy.stats.sigma_clipping]\n",
      "WARNING: Input data contains invalid values (NaNs or infs), which were automatically clipped. [astropy.stats.sigma_clipping]\n",
      "WARNING: Input data contains invalid values (NaNs or infs), which were automatically clipped. [astropy.stats.sigma_clipping]\n",
      "WARNING: Input data contains invalid values (NaNs or infs), which were automatically clipped. [astropy.stats.sigma_clipping]\n",
      "WARNING: Input data contains invalid values (NaNs or infs), which were automatically clipped. [astropy.stats.sigma_clipping]\n"
     ]
    }
   ],
   "source": [
    "clipped_conts_NB3 = []\n",
    "for spectra in core_spec_NB3_orig:\n",
    "    #print(sigma_clip(spectra,2))\n",
    "    try:\n",
    "        clipped_conts_NB3 += [np.nanmean(sigma_clip(spectra,2))]\n",
    "    except:\n",
    "        clipped_conts_NB3 += [np.nan]"
   ]
  },
  {
   "cell_type": "code",
   "execution_count": null,
   "id": "0d9f959c-f466-47dc-9dc9-233bf68d170b",
   "metadata": {},
   "outputs": [],
   "source": []
  },
  {
   "cell_type": "code",
   "execution_count": 16,
   "id": "918cf658-eb65-4ff3-8448-12c519d08994",
   "metadata": {},
   "outputs": [],
   "source": [
    "###"
   ]
  },
  {
   "cell_type": "code",
   "execution_count": 17,
   "id": "36455177-8fee-4bda-af17-29beeac4beb5",
   "metadata": {},
   "outputs": [
    {
     "data": {
      "text/plain": [
       "(-200.0, 200.0)"
      ]
     },
     "execution_count": 17,
     "metadata": {},
     "output_type": "execute_result"
    },
    {
     "data": {
      "image/png": "[encoded data removed]",
      "text/plain": [
       "<Figure size 432x288 with 1 Axes>"
      ]
     },
     "metadata": {
      "needs_background": "light"
     },
     "output_type": "display_data"
    }
   ],
   "source": [
    "plt.scatter(catNB3_m['peak'],np.array(errors_arr),marker = '.')\n",
    "plt.xlabel('cataloged flux')\n",
    "plt.ylabel('percent error')\n",
    "plt.ylim(-200,200)"
   ]
  },
  {
   "cell_type": "code",
   "execution_count": 18,
   "id": "1f3215f8-c2cd-4844-83fe-9758ca614d2e",
   "metadata": {},
   "outputs": [],
   "source": [
    "plt.rcParams.update({'font.size': 14})\n",
    "plt.rcParams.update({'lines.linewidth': 2})"
   ]
  },
  {
   "cell_type": "code",
   "execution_count": 19,
   "id": "6bf32294-c783-4d79-a312-79a7df1b9f6d",
   "metadata": {},
   "outputs": [
    {
     "data": {
      "text/plain": [
       "Text(0.5, 1.0, 'N Band 3')"
      ]
     },
     "execution_count": 19,
     "metadata": {},
     "output_type": "execute_result"
    },
    {
     "data": {
      "image/png": "[encoded data removed]",
      "text/plain": [
       "<Figure size 432x288 with 1 Axes>"
      ]
     },
     "metadata": {
      "needs_background": "light"
     },
     "output_type": "display_data"
    }
   ],
   "source": [
    "plt.scatter(clipped_conts_NB3,np.array(errors_arr),marker='.')\n",
    "plt.xlabel('clipped continuum')\n",
    "plt.ylabel('(before clip - after clip) / cataloged cont')\n",
    "plt.ylim(-70,70)\n",
    "mean = np.nanmean(errors_arr)\n",
    "std = np.nanstd(errors_arr)\n",
    "plt.text(0.003,-20,'Mean='+str(round(mean,1)))\n",
    "plt.text(0.003,-40,'STD='+str(round(std,1)))\n",
    "plt.title('N Band 3')\n",
    "# negative number means the absorption dominates"
   ]
  },
  {
   "cell_type": "code",
   "execution_count": 21,
   "id": "30ce0caf-b907-4aa4-85b5-565bdaff0b10",
   "metadata": {},
   "outputs": [
    {
     "name": "stderr",
     "output_type": "stream",
     "text": [
      "/scratch/local/10681038/ipykernel_3703656/4203651879.py:5: RuntimeWarning: Mean of empty slice\n",
      "  before_clip = np.nanmean(spectra)\n",
      "WARNING: Input data contains invalid values (NaNs or infs), which were automatically clipped. [astropy.stats.sigma_clipping]\n",
      "/scratch/local/10681038/ipykernel_3703656/4203651879.py:5: RuntimeWarning: Mean of empty slice\n",
      "  before_clip = np.nanmean(spectra)\n",
      "WARNING: Input data contains invalid values (NaNs or infs), which were automatically clipped. [astropy.stats.sigma_clipping]\n",
      "/scratch/local/10681038/ipykernel_3703656/4203651879.py:5: RuntimeWarning: Mean of empty slice\n",
      "  before_clip = np.nanmean(spectra)\n",
      "WARNING: Input data contains invalid values (NaNs or infs), which were automatically clipped. [astropy.stats.sigma_clipping]\n",
      "/scratch/local/10681038/ipykernel_3703656/4203651879.py:5: RuntimeWarning: Mean of empty slice\n",
      "  before_clip = np.nanmean(spectra)\n",
      "WARNING: Input data contains invalid values (NaNs or infs), which were automatically clipped. [astropy.stats.sigma_clipping]\n",
      "/scratch/local/10681038/ipykernel_3703656/4203651879.py:5: RuntimeWarning: Mean of empty slice\n",
      "  before_clip = np.nanmean(spectra)\n",
      "WARNING: Input data contains invalid values (NaNs or infs), which were automatically clipped. [astropy.stats.sigma_clipping]\n",
      "/scratch/local/10681038/ipykernel_3703656/4203651879.py:5: RuntimeWarning: Mean of empty slice\n",
      "  before_clip = np.nanmean(spectra)\n",
      "WARNING: Input data contains invalid values (NaNs or infs), which were automatically clipped. [astropy.stats.sigma_clipping]\n",
      "/scratch/local/10681038/ipykernel_3703656/4203651879.py:5: RuntimeWarning: Mean of empty slice\n",
      "  before_clip = np.nanmean(spectra)\n",
      "WARNING: Input data contains invalid values (NaNs or infs), which were automatically clipped. [astropy.stats.sigma_clipping]\n",
      "/scratch/local/10681038/ipykernel_3703656/4203651879.py:5: RuntimeWarning: Mean of empty slice\n",
      "  before_clip = np.nanmean(spectra)\n",
      "WARNING: Input data contains invalid values (NaNs or infs), which were automatically clipped. [astropy.stats.sigma_clipping]\n",
      "/scratch/local/10681038/ipykernel_3703656/4203651879.py:5: RuntimeWarning: Mean of empty slice\n",
      "  before_clip = np.nanmean(spectra)\n",
      "WARNING: Input data contains invalid values (NaNs or infs), which were automatically clipped. [astropy.stats.sigma_clipping]\n",
      "/scratch/local/10681038/ipykernel_3703656/4203651879.py:5: RuntimeWarning: Mean of empty slice\n",
      "  before_clip = np.nanmean(spectra)\n",
      "WARNING: Input data contains invalid values (NaNs or infs), which were automatically clipped. [astropy.stats.sigma_clipping]\n",
      "/scratch/local/10681038/ipykernel_3703656/4203651879.py:5: RuntimeWarning: Mean of empty slice\n",
      "  before_clip = np.nanmean(spectra)\n",
      "WARNING: Input data contains invalid values (NaNs or infs), which were automatically clipped. [astropy.stats.sigma_clipping]\n",
      "/scratch/local/10681038/ipykernel_3703656/4203651879.py:5: RuntimeWarning: Mean of empty slice\n",
      "  before_clip = np.nanmean(spectra)\n",
      "WARNING: Input data contains invalid values (NaNs or infs), which were automatically clipped. [astropy.stats.sigma_clipping]\n",
      "/scratch/local/10681038/ipykernel_3703656/4203651879.py:5: RuntimeWarning: Mean of empty slice\n",
      "  before_clip = np.nanmean(spectra)\n",
      "WARNING: Input data contains invalid values (NaNs or infs), which were automatically clipped. [astropy.stats.sigma_clipping]\n",
      "/scratch/local/10681038/ipykernel_3703656/4203651879.py:5: RuntimeWarning: Mean of empty slice\n",
      "  before_clip = np.nanmean(spectra)\n",
      "WARNING: Input data contains invalid values (NaNs or infs), which were automatically clipped. [astropy.stats.sigma_clipping]\n",
      "/scratch/local/10681038/ipykernel_3703656/4203651879.py:5: RuntimeWarning: Mean of empty slice\n",
      "  before_clip = np.nanmean(spectra)\n",
      "WARNING: Input data contains invalid values (NaNs or infs), which were automatically clipped. [astropy.stats.sigma_clipping]\n",
      "/scratch/local/10681038/ipykernel_3703656/4203651879.py:5: RuntimeWarning: Mean of empty slice\n",
      "  before_clip = np.nanmean(spectra)\n",
      "WARNING: Input data contains invalid values (NaNs or infs), which were automatically clipped. [astropy.stats.sigma_clipping]\n",
      "/scratch/local/10681038/ipykernel_3703656/4203651879.py:5: RuntimeWarning: Mean of empty slice\n",
      "  before_clip = np.nanmean(spectra)\n",
      "WARNING: Input data contains invalid values (NaNs or infs), which were automatically clipped. [astropy.stats.sigma_clipping]\n",
      "/scratch/local/10681038/ipykernel_3703656/4203651879.py:5: RuntimeWarning: Mean of empty slice\n",
      "  before_clip = np.nanmean(spectra)\n",
      "WARNING: Input data contains invalid values (NaNs or infs), which were automatically clipped. [astropy.stats.sigma_clipping]\n",
      "/scratch/local/10681038/ipykernel_3703656/4203651879.py:5: RuntimeWarning: Mean of empty slice\n",
      "  before_clip = np.nanmean(spectra)\n",
      "WARNING: Input data contains invalid values (NaNs or infs), which were automatically clipped. [astropy.stats.sigma_clipping]\n",
      "/scratch/local/10681038/ipykernel_3703656/4203651879.py:5: RuntimeWarning: Mean of empty slice\n",
      "  before_clip = np.nanmean(spectra)\n",
      "WARNING: Input data contains invalid values (NaNs or infs), which were automatically clipped. [astropy.stats.sigma_clipping]\n",
      "/scratch/local/10681038/ipykernel_3703656/4203651879.py:5: RuntimeWarning: Mean of empty slice\n",
      "  before_clip = np.nanmean(spectra)\n",
      "WARNING: Input data contains invalid values (NaNs or infs), which were automatically clipped. [astropy.stats.sigma_clipping]\n",
      "/scratch/local/10681038/ipykernel_3703656/4203651879.py:5: RuntimeWarning: Mean of empty slice\n",
      "  before_clip = np.nanmean(spectra)\n",
      "WARNING: Input data contains invalid values (NaNs or infs), which were automatically clipped. [astropy.stats.sigma_clipping]\n",
      "/scratch/local/10681038/ipykernel_3703656/4203651879.py:5: RuntimeWarning: Mean of empty slice\n",
      "  before_clip = np.nanmean(spectra)\n",
      "WARNING: Input data contains invalid values (NaNs or infs), which were automatically clipped. [astropy.stats.sigma_clipping]\n",
      "/scratch/local/10681038/ipykernel_3703656/4203651879.py:5: RuntimeWarning: Mean of empty slice\n",
      "  before_clip = np.nanmean(spectra)\n",
      "WARNING: Input data contains invalid values (NaNs or infs), which were automatically clipped. [astropy.stats.sigma_clipping]\n",
      "/scratch/local/10681038/ipykernel_3703656/4203651879.py:5: RuntimeWarning: Mean of empty slice\n",
      "  before_clip = np.nanmean(spectra)\n",
      "WARNING: Input data contains invalid values (NaNs or infs), which were automatically clipped. [astropy.stats.sigma_clipping]\n",
      "/scratch/local/10681038/ipykernel_3703656/4203651879.py:5: RuntimeWarning: Mean of empty slice\n",
      "  before_clip = np.nanmean(spectra)\n",
      "WARNING: Input data contains invalid values (NaNs or infs), which were automatically clipped. [astropy.stats.sigma_clipping]\n",
      "/scratch/local/10681038/ipykernel_3703656/4203651879.py:5: RuntimeWarning: Mean of empty slice\n",
      "  before_clip = np.nanmean(spectra)\n",
      "WARNING: Input data contains invalid values (NaNs or infs), which were automatically clipped. [astropy.stats.sigma_clipping]\n",
      "/scratch/local/10681038/ipykernel_3703656/4203651879.py:5: RuntimeWarning: Mean of empty slice\n",
      "  before_clip = np.nanmean(spectra)\n",
      "WARNING: Input data contains invalid values (NaNs or infs), which were automatically clipped. [astropy.stats.sigma_clipping]\n",
      "/scratch/local/10681038/ipykernel_3703656/4203651879.py:5: RuntimeWarning: Mean of empty slice\n",
      "  before_clip = np.nanmean(spectra)\n",
      "WARNING: Input data contains invalid values (NaNs or infs), which were automatically clipped. [astropy.stats.sigma_clipping]\n",
      "/scratch/local/10681038/ipykernel_3703656/4203651879.py:5: RuntimeWarning: Mean of empty slice\n",
      "  before_clip = np.nanmean(spectra)\n",
      "WARNING: Input data contains invalid values (NaNs or infs), which were automatically clipped. [astropy.stats.sigma_clipping]\n",
      "/scratch/local/10681038/ipykernel_3703656/4203651879.py:5: RuntimeWarning: Mean of empty slice\n",
      "  before_clip = np.nanmean(spectra)\n",
      "WARNING: Input data contains invalid values (NaNs or infs), which were automatically clipped. [astropy.stats.sigma_clipping]\n",
      "/scratch/local/10681038/ipykernel_3703656/4203651879.py:5: RuntimeWarning: Mean of empty slice\n",
      "  before_clip = np.nanmean(spectra)\n",
      "WARNING: Input data contains invalid values (NaNs or infs), which were automatically clipped. [astropy.stats.sigma_clipping]\n",
      "/scratch/local/10681038/ipykernel_3703656/4203651879.py:5: RuntimeWarning: Mean of empty slice\n",
      "  before_clip = np.nanmean(spectra)\n",
      "WARNING: Input data contains invalid values (NaNs or infs), which were automatically clipped. [astropy.stats.sigma_clipping]\n",
      "/scratch/local/10681038/ipykernel_3703656/4203651879.py:5: RuntimeWarning: Mean of empty slice\n",
      "  before_clip = np.nanmean(spectra)\n",
      "WARNING: Input data contains invalid values (NaNs or infs), which were automatically clipped. [astropy.stats.sigma_clipping]\n",
      "/scratch/local/10681038/ipykernel_3703656/4203651879.py:5: RuntimeWarning: Mean of empty slice\n",
      "  before_clip = np.nanmean(spectra)\n",
      "WARNING: Input data contains invalid values (NaNs or infs), which were automatically clipped. [astropy.stats.sigma_clipping]\n",
      "/scratch/local/10681038/ipykernel_3703656/4203651879.py:5: RuntimeWarning: Mean of empty slice\n",
      "  before_clip = np.nanmean(spectra)\n",
      "WARNING: Input data contains invalid values (NaNs or infs), which were automatically clipped. [astropy.stats.sigma_clipping]\n",
      "/scratch/local/10681038/ipykernel_3703656/4203651879.py:5: RuntimeWarning: Mean of empty slice\n",
      "  before_clip = np.nanmean(spectra)\n",
      "WARNING: Input data contains invalid values (NaNs or infs), which were automatically clipped. [astropy.stats.sigma_clipping]\n",
      "/scratch/local/10681038/ipykernel_3703656/4203651879.py:5: RuntimeWarning: Mean of empty slice\n",
      "  before_clip = np.nanmean(spectra)\n",
      "WARNING: Input data contains invalid values (NaNs or infs), which were automatically clipped. [astropy.stats.sigma_clipping]\n",
      "/scratch/local/10681038/ipykernel_3703656/4203651879.py:5: RuntimeWarning: Mean of empty slice\n",
      "  before_clip = np.nanmean(spectra)\n",
      "WARNING: Input data contains invalid values (NaNs or infs), which were automatically clipped. [astropy.stats.sigma_clipping]\n",
      "WARNING: Input data contains invalid values (NaNs or infs), which were automatically clipped. [astropy.stats.sigma_clipping]\n"
     ]
    }
   ],
   "source": [
    "errors_arr3 = []\n",
    "i=0\n",
    "for spectra in core_spec_NB3_orig:\n",
    "    try:\n",
    "        before_clip = np.nanmean(spectra)\n",
    "        after_clip = np.nanmean(sigma_clip(spectra,2))\n",
    "        \n",
    "        # if np.nanstd(sigma_clip(spectra,2)) > abs(after_clip):\n",
    "        #     print('std of the clipped spectra: '+str(np.nanstd(sigma_clip(spectra,2))))\n",
    "        #     print('mean of the clipped spectra: '+str(after_clip))\n",
    "        #     print('replacing with nan')\n",
    "        #     err = np.nan\n",
    "        # else:\n",
    "        #     err = (after_clip - before_clip) / (after_clip) * 100\n",
    "        err = (after_clip - before_clip) / (catNB3_m['peak'][i]) * 100\n",
    "        \n",
    "    except:\n",
    "        err = np.nan\n",
    "    errors_arr3 += [err]\n",
    "    \n",
    "    i+=1\n",
    "    \n",
    "    \n",
    "errors_arr6 = []\n",
    "i=0\n",
    "for spectra in core_spec_NB6:\n",
    "    try:\n",
    "        before_clip = np.nanmean(spectra)\n",
    "        after_clip = np.nanmean(sigma_clip(spectra,2))\n",
    "        \n",
    "        # if np.nanstd(sigma_clip(spectra,2)) > abs(after_clip):\n",
    "        #     print('std of the clipped spectra: '+str(np.nanstd(sigma_clip(spectra,2))))\n",
    "        #     print('mean of the clipped spectra: '+str(after_clip))\n",
    "        #     print('replacing with nan')\n",
    "        #     err = np.nan\n",
    "        # else:\n",
    "        #     err = (after_clip - before_clip) / (after_clip) * 100\n",
    "        err = (after_clip - before_clip) / (catNB6_m['peak'][i]) * 100\n",
    "        \n",
    "    except:\n",
    "        err = np.nan\n",
    "    errors_arr6 += [err]\n",
    "    \n",
    "    i+=1"
   ]
  },
  {
   "cell_type": "code",
   "execution_count": 22,
   "id": "1e5e1bbf-f09e-4499-b0f3-33c19c638bd7",
   "metadata": {},
   "outputs": [
    {
     "data": {
      "text/plain": [
       "Text(0.5, 1.0, 'Sgr B2 N Band 3')"
      ]
     },
     "execution_count": 22,
     "metadata": {},
     "output_type": "execute_result"
    },
    {
     "data": {
      "image/png": "[encoded data removed]",
      "text/plain": [
       "<Figure size 432x288 with 1 Axes>"
      ]
     },
     "metadata": {
      "needs_background": "light"
     },
     "output_type": "display_data"
    }
   ],
   "source": [
    "plt.scatter(catNB3_m['peak'],np.array(errors_arr3),marker='.')\n",
    "plt.xlabel('Cataloged continuum')\n",
    "plt.ylabel('(Before clip - after clip) / cataloged cont')\n",
    "plt.ylim(-70,70)\n",
    "mean = np.nanmean(errors_arr3)\n",
    "std = np.nanstd(errors_arr3)\n",
    "mad = mad_std(errors_arr3, ignore_nan=True)\n",
    "plt.text(0.003,-20,'Mean = '+str(round(mean,1)), fontsize=14)\n",
    "plt.text(0.003,-40,'STD = '+str(round(std,1)), fontsize = 14)\n",
    "plt.text(0.003,-60,'MAD = '+str(round(mad,1)), fontsize = 14)\n",
    "plt.title('Sgr B2 N Band 3')\n",
    "#plt.axvline(np.nanmin(catNB3_m['ring_std'])*10)\n",
    "# negative number means the absorption dominates\n",
    "#plt.savefig('linesub3.png', dpi=300,bbox_inches='tight')"
   ]
  },
  {
   "cell_type": "code",
   "execution_count": 23,
   "id": "2b330974-a73a-4c52-98bc-749522674f09",
   "metadata": {},
   "outputs": [
    {
     "data": {
      "text/plain": [
       "Text(0.5, 1.0, 'Sgr B2 N Band 6')"
      ]
     },
     "execution_count": 23,
     "metadata": {},
     "output_type": "execute_result"
    },
    {
     "data": {
      "image/png": "[encoded data removed]",
      "text/plain": [
       "<Figure size 432x288 with 1 Axes>"
      ]
     },
     "metadata": {
      "needs_background": "light"
     },
     "output_type": "display_data"
    }
   ],
   "source": [
    "plt.scatter(catNB6_m['peak'],np.array(errors_arr6),marker='.', color = 'tab:orange')\n",
    "plt.xlabel('Cataloged continuum')\n",
    "plt.ylabel('(Before clip - after clip) / cataloged cont')\n",
    "plt.ylim(-100,100)\n",
    "mean = np.nanmean(errors_arr6)\n",
    "std = np.nanstd(errors_arr6)\n",
    "mad = mad_std(errors_arr6, ignore_nan=True)\n",
    "plt.text(0.008,-20,'Mean = '+str(round(mean,1)), fontsize=14)\n",
    "plt.text(0.008,-40,'STD = '+str(round(std,1)), fontsize = 14)\n",
    "plt.text(0.008,-60,'MAD = '+str(round(mad,1)), fontsize = 14)\n",
    "plt.title('Sgr B2 N Band 6')\n",
    "#plt.axvline(np.nanmin(catNB6_m['ring_std'])*10)\n",
    "# negative number means the absorption dominates\n",
    "#plt.savefig('linesub6.png', dpi=300,bbox_inches='tight')"
   ]
  },
  {
   "cell_type": "code",
   "execution_count": null,
   "id": "5f5b2f8f-0f83-403b-8746-d9f16f957a00",
   "metadata": {},
   "outputs": [],
   "source": []
  }
 ],
 "metadata": {
  "kernelspec": {
   "display_name": "Python 3 (ipykernel)",
   "language": "python",
   "name": "python3"
  },
  "language_info": {
   "codemirror_mode": {
    "name": "ipython",
    "version": 3
   },
   "file_extension": ".py",
   "mimetype": "text/x-python",
   "name": "python",
   "nbconvert_exporter": "python",
   "pygments_lexer": "ipython3",
   "version": "3.9.7"
  }
 },
 "nbformat": 4,
 "nbformat_minor": 5
}
