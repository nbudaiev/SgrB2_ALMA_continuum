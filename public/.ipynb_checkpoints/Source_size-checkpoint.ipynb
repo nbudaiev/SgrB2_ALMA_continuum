{
 "cells": [
  {
   "cell_type": "code",
   "execution_count": 1,
   "id": "72926826-9b3d-4e40-9f4f-3f9405c5743e",
   "metadata": {},
   "outputs": [],
   "source": [
    "from astropy.io import ascii\n",
    "from regions import CircleSkyRegion\n",
    "from astropy.table import QTable, Table, Column\n",
    "from astropy.coordinates import SkyCoord\n",
    "from astropy.coordinates import ICRS, Galactic, FK4, FK5\n",
    "from astropy.coordinates import Angle, Latitude, Longitude\n",
    "from astropy import units as u\n",
    "from astropy.table import Table, Column, join, vstack\n",
    "import numpy as np\n",
    "import matplotlib.pyplot as plt\n",
    "from astropy.io import ascii\n",
    "import regions\n",
    "import re\n",
    "from astropy.io import fits\n",
    "from astropy.wcs import WCS\n",
    "from radio_beam import Beam, Beams\n",
    "from collections import Counter\n",
    "import astropy.constants as c\n",
    "import warnings\n",
    "plt.rcParams.update({'font.size': 14})\n",
    "plt.rcParams.update({'lines.linewidth': 2})"
   ]
  },
  {
   "cell_type": "code",
   "execution_count": 2,
   "id": "c571ebac-f43d-417f-b36e-2a6c6ea05192",
   "metadata": {},
   "outputs": [
    {
     "name": "stdout",
     "output_type": "stream",
     "text": [
      "Removed 198 sources for the complete catalog\n",
      "Removed 9 sources for the medium catalog\n",
      "Removed 81 sources for the robust catalog\n",
      "Removed 186 sources for the complete catalog\n",
      "Removed 7 sources for the medium catalog\n",
      "Removed 47 sources for the robust catalog\n",
      "Removed 203 sources for the complete catalog\n",
      "Removed 6 sources for the medium catalog\n",
      "Removed 58 sources for the robust catalog\n",
      "Removed 203 sources for the complete catalog\n",
      "Removed 8 sources for the medium catalog\n",
      "Removed 32 sources for the robust catalog\n"
     ]
    },
    {
     "name": "stderr",
     "output_type": "stream",
     "text": [
      "/orange/adamginsburg/sgrb2/NB/python_env_test/lib/python3.9/site-packages/astropy/table/table.py:1412: FutureWarning: Using a non-tuple sequence for multidimensional indexing is deprecated; use `arr[tuple(seq)]` instead of `arr[seq]`. In the future this will be interpreted as an array index, `arr[np.array(seq)]`, which will result either in an error or a different result.\n",
      "  newcol = col[slice_]\n",
      "/home/nbudaiev/.local/lib/python3.9/site-packages/numpy/ma/core.py:3224: FutureWarning: Using a non-tuple sequence for multidimensional indexing is deprecated; use `arr[tuple(seq)]` instead of `arr[seq]`. In the future this will be interpreted as an array index, `arr[np.array(seq)]`, which will result either in an error or a different result.\n",
      "  dout = self.data[indx]\n",
      "/home/nbudaiev/.local/lib/python3.9/site-packages/numpy/ma/core.py:3256: FutureWarning: Using a non-tuple sequence for multidimensional indexing is deprecated; use `arr[tuple(seq)]` instead of `arr[seq]`. In the future this will be interpreted as an array index, `arr[np.array(seq)]`, which will result either in an error or a different result.\n",
      "  mout = _mask[indx]\n"
     ]
    }
   ],
   "source": [
    "base = '/orange/adamginsburg/sgrb2/NB/catalog_the_end/'\n",
    "catNB3 = Table.read(base+'catalog_NB3_4RMS_30.0rings_0.7mindelta3npix_final_Nazar_review.csv', format='ascii')\n",
    "catMB3 = Table.read(base+'catalog_MB3_4RMS_30.0rings_0.7mindelta3npix_final_Nazar_review.csv', format='ascii')\n",
    "catNB6 = Table.read(base+'catalog_NB6_4RMS_30.0rings_0.7mindelta3npix_final_Nazar_review.csv', format='ascii')\n",
    "catMB6 = Table.read(base+'catalog_MB6_4RMS_30.0rings_0.7mindelta3npix_final_Nazar_review.csv', format='ascii')\n",
    "from purify_catalog import HII_catalogs, cat_purification_cores\n",
    "catNB3_m, catMB3_m, catNB6_m,catMB6_m = cat_purification_cores(catNB3, catMB3, catNB6, catMB6)\n",
    "catNB3_HII, catNB3_HII_cand, catNB3_HII_new, catMB3_HII, catMB3_HII_cand, catMB3_HII_new, catNB6_HII, catNB6_HII_cand, catNB6_HII_new, catMB6_HII, catMB6_HII_cand, catMB6_HII_newI = HII_catalogs(catNB3, catNB6, catMB3, catMB6)"
   ]
  },
  {
   "cell_type": "code",
   "execution_count": 4,
   "id": "25072469-c64c-4495-b057-8a0a0fa15cba",
   "metadata": {},
   "outputs": [],
   "source": [
    "def read_in(path):\n",
    "    \"\"\"\n",
    "    Simplify reading in the files.\n",
    "    \"\"\"\n",
    "    fh=fits.open(path)\n",
    "    with warnings.catch_warnings():\n",
    "        warnings.simplefilter('ignore')\n",
    "        wcs = WCS(fh[0].header)\n",
    "        hdr = fh[0].header\n",
    "    datas=fh[0].data #\n",
    "    return datas, wcs, hdr"
   ]
  },
  {
   "cell_type": "code",
   "execution_count": 5,
   "id": "17944f92-9069-470d-ae29-c09dcd31271c",
   "metadata": {},
   "outputs": [],
   "source": [
    "base = '/orange/adamginsburg/sgrb2/NB/the_end/'\n",
    "pathNB3 = base+'sgr_b2.N.B3.cont.r0.5.1m0.075mJy.cal2.image.tt0.pbcor.fits'\n",
    "pathMB3 = base+'sgr_b2.M.B3.cont.r0.5.1m0.125mJy.cal3.image.tt0.pbcor.fits'\n",
    "pathNB6 = base+'sgr_b2.N.B6.cont.r0.5.1m1.5mJy.cal4.image.tt0.pbcor.fits'\n",
    "pathMB6 = base+'sgr_b2.M.B6.cont.r0.5.1m0.68mJy.cal3.image.tt0.pbcor.fits'"
   ]
  },
  {
   "cell_type": "code",
   "execution_count": 6,
   "id": "874d882d-909d-41c4-9463-7b0d0c727730",
   "metadata": {},
   "outputs": [],
   "source": [
    "# read in the data, wcs, and the header\n",
    "dataNB3, wcsNB3, hdrNB3 = read_in(pathNB3)\n",
    "dataMB3, wcsMB3, hdrMB3 = read_in(pathMB3)\n",
    "dataNB6, wcsNB6, hdrNB6 = read_in(pathNB6)\n",
    "dataMB6, wcsMB6, hdrMB6 = read_in(pathMB6)\n",
    "# get the beam from the header\n",
    "my_beamNB3 = Beam.from_fits_header(hdrNB3)\n",
    "my_beamMB3 = Beam.from_fits_header(hdrMB3)\n",
    "my_beamNB6 = Beam.from_fits_header(hdrNB6)\n",
    "my_beamMB6 = Beam.from_fits_header(hdrMB6)\n",
    "# get the pixel scale from the header\n",
    "\n",
    "#scale = wcsNB3.proj_plane_pixel_scales()[0] #This is better\n",
    "# scaleNB3 = hdrNB3['CDELT2'] * u.deg\n",
    "# scaleMB3 = hdrMB3['CDELT2'] * u.deg\n",
    "# scaleNB6 = hdrNB6['CDELT2'] * u.deg\n",
    "# scaleMB6 = hdrMB6['CDELT2'] * u.deg\n",
    "scaleNB3 = wcsNB3.proj_plane_pixel_scales()[0]\n",
    "scaleMB3 = wcsMB3.proj_plane_pixel_scales()[0]\n",
    "scaleNB6 = wcsNB6.proj_plane_pixel_scales()[0]\n",
    "scaleMB6 = wcsMB6.proj_plane_pixel_scales()[0]"
   ]
  },
  {
   "cell_type": "code",
   "execution_count": 7,
   "id": "a827486b-e0b8-45ce-9f6f-f2ace4ae05d8",
   "metadata": {},
   "outputs": [],
   "source": [
    "major_fwhm = catNB3['major_fwhm'].value\n",
    "minor_fwhm = catNB3['minor_fwhm'].value\n",
    "pa = catNB3['position_angle'].value\n",
    "my_beams_ellip = Beams(major=major_fwhm*u.deg, minor=minor_fwhm*u.deg, pa=pa*u.deg)"
   ]
  },
  {
   "cell_type": "code",
   "execution_count": 9,
   "id": "6b6c0fbb-07f0-4f6f-8136-959fb7acf7c2",
   "metadata": {},
   "outputs": [],
   "source": [
    "def create_beams(cat, beam_in):\n",
    "    major_fwhm = cat['major_fwhm'].value\n",
    "    minor_fwhm = cat['minor_fwhm'].value\n",
    "    pa = cat['position_angle'].value\n",
    "    my_beams_ellip = Beams(major=major_fwhm*u.deg, minor=minor_fwhm*u.deg, pa=pa*u.deg)\n",
    "    \n",
    "    src_majs = []\n",
    "    src_mins = []\n",
    "    src_pas = []\n",
    "    for i in range(len(my_beams_ellip)):\n",
    "        try:\n",
    "            new_beam = beam_in.deconvolve(my_beams_ellip[i])\n",
    "            src_maj = new_beam.major.value #deg\n",
    "            src_min = new_beam.minor.value #deg\n",
    "            src_pa = new_beam.pa.value\n",
    "        except:\n",
    "            src_maj = np. nan \n",
    "            src_min = np. nan\n",
    "            src_pa = np. nan\n",
    "        \n",
    "        src_majs += [src_maj]\n",
    "        src_mins += [src_min]\n",
    "        src_pas += [src_pa]\n",
    "        \n",
    "    return src_majs, src_mins, src_pas"
   ]
  },
  {
   "cell_type": "code",
   "execution_count": 10,
   "id": "546ce87a-2529-4caa-b905-34c65829a10e",
   "metadata": {},
   "outputs": [],
   "source": [
    "sourcesNB3 = create_beams(catNB3, my_beamNB3)\n",
    "sourcesMB3 = create_beams(catMB3, my_beamMB3)\n",
    "sourcesNB6 = create_beams(catNB6, my_beamNB6)\n",
    "sourcesMB6 = create_beams(catMB6, my_beamMB6)"
   ]
  },
  {
   "cell_type": "code",
   "execution_count": 11,
   "id": "d358e26d-bdf5-45da-9082-34693e1a4382",
   "metadata": {},
   "outputs": [
    {
     "data": {
      "text/plain": [
       "<matplotlib.lines.Line2D at 0x15093e69bf40>"
      ]
     },
     "execution_count": 11,
     "metadata": {},
     "output_type": "execute_result"
    },
    {
     "data": {
      "image/png": "[encoded data removed]",
      "text/plain": [
       "<Figure size 432x288 with 1 Axes>"
      ]
     },
     "metadata": {
      "needs_background": "light"
     },
     "output_type": "display_data"
    }
   ],
   "source": [
    "plt.scatter(sourcesNB3[0], sourcesNB3[1], label = 'NB3')\n",
    "plt.scatter(sourcesMB3[0], sourcesMB3[1], label = 'MB3')\n",
    "plt.axvline(my_beamNB3.major.value)\n",
    "plt.axhline(my_beamNB3.minor.value)"
   ]
  },
  {
   "cell_type": "code",
   "execution_count": null,
   "id": "9bda5c59-05a7-4629-80f6-c8d428f20241",
   "metadata": {},
   "outputs": [],
   "source": []
  },
  {
   "cell_type": "markdown",
   "id": "c50bc467-ede0-486d-8049-90b06fbadc12",
   "metadata": {},
   "source": [
    "## peak - sum ratio"
   ]
  },
  {
   "cell_type": "code",
   "execution_count": 12,
   "id": "fa385c78-3bf6-44b9-b8c9-3f73dac61639",
   "metadata": {},
   "outputs": [],
   "source": [
    "rat_NB3_m = (catNB3_m['peak']/catNB3_m['flux'])\n",
    "rat_MB3_m = (catMB3_m['peak']/catMB3_m['flux'])\n",
    "rat_NB6_m = (catNB6_m['peak']/catNB6_m['flux'])\n",
    "rat_MB6_m = (catMB6_m['peak']/catMB6_m['flux'])"
   ]
  },
  {
   "cell_type": "code",
   "execution_count": 13,
   "id": "a213c73e-72c6-4a57-a7d1-33ac6e9072ea",
   "metadata": {},
   "outputs": [],
   "source": [
    "ratB3 = vstack([rat_NB3_m, rat_MB3_m])['peak'].value\n",
    "ratB6 = vstack([rat_NB6_m, rat_MB6_m])['peak'].value"
   ]
  },
  {
   "cell_type": "code",
   "execution_count": 14,
   "id": "9d363527-dc94-471b-8bd5-26db2c8807b2",
   "metadata": {},
   "outputs": [],
   "source": [
    "fwhm_avg_NB3_m = (catNB3_m['major_fwhm'] + catNB3_m['minor_fwhm'])/2\n",
    "fwhm_avg_MB3_m = (catMB3_m['major_fwhm'] + catMB3_m['minor_fwhm'])/2\n",
    "fwhm_avg_NB6_m = (catNB6_m['major_fwhm'] + catNB6_m['minor_fwhm'])/2\n",
    "fwhm_avg_MB6_m = (catMB6_m['major_fwhm'] + catMB6_m['minor_fwhm'])/2"
   ]
  },
  {
   "cell_type": "code",
   "execution_count": 15,
   "id": "3b68685e-ad53-47f2-a10d-9bfd8bf48a9d",
   "metadata": {},
   "outputs": [],
   "source": [
    "fwhm_avg_B3_m = vstack([fwhm_avg_NB3_m,fwhm_avg_MB3_m])['major_fwhm'].value\n",
    "fwhm_avg_B6_m = vstack([fwhm_avg_NB6_m,fwhm_avg_MB6_m])['major_fwhm'].value"
   ]
  },
  {
   "cell_type": "code",
   "execution_count": 16,
   "id": "0ae75694-cd50-45eb-a41b-655d673e3b22",
   "metadata": {},
   "outputs": [],
   "source": [
    "d = 8.4 * u.kpc\n",
    "fwhm_avg_B3_m_AU = (fwhm_avg_B3_m * u.deg * d).to(u.AU, u.dimensionless_angles())\n",
    "fwhm_avg_B6_m_AU = (fwhm_avg_B6_m * u.deg * d).to(u.AU, u.dimensionless_angles())"
   ]
  },
  {
   "cell_type": "code",
   "execution_count": 17,
   "id": "042d5627-3501-49d8-9f2d-167b23f3c87f",
   "metadata": {},
   "outputs": [],
   "source": [
    "beam_B3_avg = ((my_beamNB3.minor + my_beamNB3.major)/2* d).to(u.AU, u.dimensionless_angles())"
   ]
  },
  {
   "cell_type": "code",
   "execution_count": 18,
   "id": "7c539552-69ff-4e7b-8dd2-82aee2f734ba",
   "metadata": {},
   "outputs": [],
   "source": [
    "beam_B6_avg = ((my_beamNB6.minor + my_beamNB6.major)/2* d).to(u.AU, u.dimensionless_angles())"
   ]
  },
  {
   "cell_type": "code",
   "execution_count": 19,
   "id": "d93c8916-9595-4877-929f-1966d050b46e",
   "metadata": {},
   "outputs": [],
   "source": [
    "plt.rcParams.update({'font.size': 14})\n",
    "plt.rcParams.update({'lines.linewidth': 2})"
   ]
  },
  {
   "cell_type": "code",
   "execution_count": 20,
   "id": "b85eb1f2-87fe-458e-901e-7189b5e8c85d",
   "metadata": {},
   "outputs": [
    {
     "data": {
      "image/png": "[encoded data removed]",
      "text/plain": [
       "<Figure size 432x288 with 1 Axes>"
      ]
     },
     "metadata": {
      "needs_background": "light"
     },
     "output_type": "display_data"
    }
   ],
   "source": [
    "plt.scatter(fwhm_avg_B3_m_AU, ratB3, marker = '.', label = '3 mm', alpha = 0.5) \n",
    "plt.scatter(fwhm_avg_B6_m_AU, ratB6, marker = '.', label = '1 mm', alpha = 0.5) \n",
    "plt.xlabel(r'Source size, FWHM$_{\\mathrm{avg}}$ (AU)')\n",
    "plt.ylabel(r'Flux ratio, $S_{peak}/S_{contour}$')\n",
    "plt.axvline(beam_B3_avg.value, label = r'3 mm beam FWHM$_{\\mathrm{avg}}$', linestyle = '--')\n",
    "plt.axvline(beam_B6_avg.value, label = r'1 mm beam FWHM$_{\\mathrm{avg}}$', color = 'tab:orange', linestyle = '--')\n",
    "plt.axhline(1, color = 'k', linestyle = ':', label = '')\n",
    "plt.legend()\n",
    "plt.savefig('source_size.png',dpi=300,bbox_inches='tight')"
   ]
  },
  {
   "cell_type": "code",
   "execution_count": 22,
   "id": "9f230791-9d12-4564-829f-7da0d9fba52d",
   "metadata": {},
   "outputs": [
    {
     "data": {
      "text/plain": [
       "31.536388140161726"
      ]
     },
     "execution_count": 22,
     "metadata": {},
     "output_type": "execute_result"
    }
   ],
   "source": [
    "np.sum(ratB3>1)/len(ratB3)*100"
   ]
  },
  {
   "cell_type": "code",
   "execution_count": 23,
   "id": "92ba7ff2-feab-4890-9e90-09366d007ffe",
   "metadata": {},
   "outputs": [
    {
     "data": {
      "text/plain": [
       "22.477064220183486"
      ]
     },
     "execution_count": 23,
     "metadata": {},
     "output_type": "execute_result"
    }
   ],
   "source": [
    "np.sum(ratB6>1)/len(ratB6)*100"
   ]
  },
  {
   "cell_type": "code",
   "execution_count": 24,
   "id": "d4af5b7c-be35-4f31-b553-5a76ea833b37",
   "metadata": {},
   "outputs": [
    {
     "data": {
      "text/latex": [
       "$713.46409 \\; \\mathrm{AU}$"
      ],
      "text/plain": [
       "<Quantity 713.46409321 AU>"
      ]
     },
     "execution_count": 24,
     "metadata": {},
     "output_type": "execute_result"
    }
   ],
   "source": [
    "beam_B3_avg"
   ]
  },
  {
   "cell_type": "code",
   "execution_count": 25,
   "id": "7b964a1a-6bc8-4342-a9ba-56594881be29",
   "metadata": {},
   "outputs": [
    {
     "data": {
      "text/plain": [
       "46.900269541778975"
      ]
     },
     "execution_count": 25,
     "metadata": {},
     "output_type": "execute_result"
    }
   ],
   "source": [
    "np.sum(fwhm_avg_B3_m_AU.value>beam_B3_avg.value)/len(ratB3)*100"
   ]
  },
  {
   "cell_type": "code",
   "execution_count": 26,
   "id": "55402bd3-aa1c-4bf7-bd09-58f135adc726",
   "metadata": {},
   "outputs": [
    {
     "data": {
      "text/plain": [
       "55.04587155963303"
      ]
     },
     "execution_count": 26,
     "metadata": {},
     "output_type": "execute_result"
    }
   ],
   "source": [
    "np.sum(fwhm_avg_B6_m_AU.value>beam_B6_avg.value)/len(ratB6)*100"
   ]
  }
 ],
 "metadata": {
  "kernelspec": {
   "display_name": "Python 3 (ipykernel)",
   "language": "python",
   "name": "python3"
  },
  "language_info": {
   "codemirror_mode": {
    "name": "ipython",
    "version": 3
   },
   "file_extension": ".py",
   "mimetype": "text/x-python",
   "name": "python",
   "nbconvert_exporter": "python",
   "pygments_lexer": "ipython3",
   "version": "3.9.7"
  }
 },
 "nbformat": 4,
 "nbformat_minor": 5
}
