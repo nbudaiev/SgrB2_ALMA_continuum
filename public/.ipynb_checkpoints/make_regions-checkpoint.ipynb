{
 "cells": [
  {
   "cell_type": "code",
   "execution_count": 3,
   "id": "b3edbd00-3f37-4e22-9111-f19c66af234d",
   "metadata": {},
   "outputs": [],
   "source": [
    "from astrodendro import Dendrogram, pp_catalog\n",
    "from astropy.io import fits\n",
    "from astropy import units as u\n",
    "import matplotlib.pyplot as plt\n",
    "import regions\n",
    "import numpy as np\n",
    "from astropy import coordinates\n",
    "from astropy import wcs\n",
    "from astropy.wcs import WCS\n",
    "from astropy.visualization.wcsaxes import WCSAxes\n",
    "from astropy.table import QTable, Table, Column\n",
    "import matplotlib.cm as cm\n",
    "from pyregion.mpl_helper import properties_func_default\n",
    "from astropy.visualization import simple_norm\n",
    "from astropy.stats import mad_std\n",
    "#from regions import DS9Parser\n",
    "import re\n",
    "from astropy.coordinates import Angle, SkyCoord\n",
    "from regions import CircleSkyRegion, EllipseSkyRegion\n",
    "import warnings\n",
    "from astropy import visualization\n",
    "from astropy.stats import mad_std\n",
    "from astropy.io import ascii\n",
    "# from astropy.table import Table\n",
    "import regions\n",
    "from reproject.mosaicking import find_optimal_celestial_wcs\n",
    "from reproject import reproject_interp\n",
    "import pandas as pd\n",
    "from astropy.table import vstack\n",
    "\n",
    "import numpy as np\n",
    "import astropy.constants as c\n",
    "import astropy.units as u\n",
    "\n",
    "from radio_beam import Beam\n",
    "\n",
    "from dendrocat import RadioSource\n",
    "from regions import Regions\n",
    "plt.rcParams.update({'font.size': 14})\n",
    "plt.rcParams.update({'lines.linewidth': 2})"
   ]
  },
  {
   "cell_type": "code",
   "execution_count": 4,
   "id": "394f43b9-7e3d-4e47-b189-3d04a95b9f3b",
   "metadata": {
    "tags": []
   },
   "outputs": [],
   "source": [
    "base = '/orange/adamginsburg/sgrb2/NB/catalog/'\n",
    "lowres = Table.read(base+'lowres_cat.txt', format='ipac')\n",
    "base = '/orange/adamginsburg/sgrb2/NB/catalog_the_end/'\n",
    "catNB3 = Table.read(base+'catalog_NB3_4RMS_30.0rings_0.7mindelta3npix_final_Nazar_review.csv', format='ascii')\n",
    "catMB3 = Table.read(base+'catalog_MB3_4RMS_30.0rings_0.7mindelta3npix_final_Nazar_review.csv', format='ascii')\n",
    "catNB6 = Table.read(base+'catalog_NB6_4RMS_30.0rings_0.7mindelta3npix_final_Nazar_review.csv', format='ascii')\n",
    "catMB6 = Table.read(base+'catalog_MB6_4RMS_30.0rings_0.7mindelta3npix_final_Nazar_review.csv', format='ascii')"
   ]
  },
  {
   "cell_type": "code",
   "execution_count": 5,
   "id": "4c1eba22-0313-42e1-a5e9-34f5c0569437",
   "metadata": {},
   "outputs": [],
   "source": [
    "def regions_gaussfit(cat_final, source_type = 'core'):\n",
    "    \"\"\"\n",
    "    Creates a DS9 region file from the catalog. The centers and sizes of each region\n",
    "    are based on ['x_cen'], ['y_cen'], and ['radius'] columns in the catalog.\n",
    "    \"\"\"\n",
    "    centerX = SkyCoord(cat_final['x_cen'][::-1], cat_final['y_cen'][::-1],unit='deg', frame='icrs')\n",
    "    # There are some problems with displaying these regions in DS9.\n",
    "    # Use 1st option to display the regions in DS9.\n",
    "    # Use 2nd option to have proper radii for later use.\n",
    "    #radiusX = Angle(cat_final['radius'][::-1].value*.0000055, unit='deg')\n",
    "    #radiusX = Angle(cat_final['radius'][::-1].value*0.02, unit='arcsec')\n",
    "    \n",
    "    # fixed stuff?\n",
    "    radiusX = Angle(cat_final['radius'][::-1].value, unit='deg') #### IMPORTANT!!! ONLY RADIUS IS BACKWARDS, X_CEN AND Y_CEN ARE NOT???\n",
    "    cat_regionsX = []\n",
    "    for i in range(len(centerX)):\n",
    "        #cat_regionsX += [CircleSkyRegion(centerX[i], radiusX[i])]\n",
    "        cat_regionsX += [EllipseSkyRegion(centerX[i], height = cat_final['minor_fwhm'][::-1][i] * u.deg, \n",
    "                                          width=cat_final['major_fwhm'][::-1][i]* u.deg, angle=cat_final['position_angle'][::-1][i]* u.deg)]\n",
    "\n",
    "    #str_cat_regionsX = regions.ds9_objects_to_string(cat_regionsX, coordsys='icrs') # regions 0.5\n",
    "    str_cat_regionsX = Regions(cat_regionsX).serialize(format='ds9')\n",
    "    start = []\n",
    "    \n",
    "    if source_type == 'core':\n",
    "        color = '2EE6D6'\n",
    "    if source_type == 'HII':\n",
    "        color = 'f44336'\n",
    "    if source_type == 'HII_cand':\n",
    "        color = 'e000e0'\n",
    "    if source_type == 'HII_new':\n",
    "        color = '000000'\n",
    "    \n",
    "    for m in re.finditer('\\)', str_cat_regionsX):\n",
    "        start += [m.end()]\n",
    "    str1 = ' # select=1 highlite=1 fixed=0 edit=1 move=1 delete=1 source=1 color=#'+color+' dashlist=8 3 width=2 dash=0 font=\"helvetica 10 normal roman\" text={source_'\n",
    "    str2 = '}'\n",
    "    for i in range(len(start)):\n",
    "        loc = start[-1-i]\n",
    "        x = str(cat_final['_name'][i])\n",
    "        str_cat_regionsX = str_cat_regionsX[:loc] + str1 + x + str2 + str_cat_regionsX[loc:]\n",
    "    #parser = DS9Parser(str_cat_regionsX) #regions 0.5\n",
    "    parser = Regions.parse(str_cat_regionsX, format='ds9')\n",
    "    #str_cat_regionsX = parser.shapes.to_regions()\n",
    "    #regions.write_ds9(str_cat_regionsX, ''.reg\")\n",
    "    #return str_cat_regionsX\n",
    "    return parser"
   ]
  },
  {
   "cell_type": "code",
   "execution_count": 6,
   "id": "36f68598-b4ea-41a8-9779-689d61ed3f1d",
   "metadata": {},
   "outputs": [
    {
     "name": "stdout",
     "output_type": "stream",
     "text": [
      "Removed 198 sources for the complete catalog\n",
      "Removed 9 sources for the medium catalog\n",
      "Removed 81 sources for the robust catalog\n",
      "Removed 186 sources for the complete catalog\n",
      "Removed 7 sources for the medium catalog\n",
      "Removed 47 sources for the robust catalog\n",
      "Removed 203 sources for the complete catalog\n",
      "Removed 6 sources for the medium catalog\n",
      "Removed 58 sources for the robust catalog\n",
      "Removed 203 sources for the complete catalog\n",
      "Removed 8 sources for the medium catalog\n",
      "Removed 32 sources for the robust catalog\n"
     ]
    }
   ],
   "source": [
    "from purify_catalog import HII_catalogs, cat_purification_cores\n",
    "catNB3_m, catMB3_m, catNB6_m,catMB6_m = cat_purification_cores(catNB3, catMB3, catNB6, catMB6)\n",
    "catNB3_HII, catNB3_HII_cand, catNB3_HII_new, catMB3_HII, catMB3_HII_cand, catMB3_HII_new, catNB6_HII, catNB6_HII_cand, catNB6_HII_new, catMB6_HII, catMB6_HII_cand, catMB6_HII_newI = HII_catalogs(catNB3, catNB6, catMB3, catMB6)"
   ]
  },
  {
   "cell_type": "code",
   "execution_count": 7,
   "id": "b786d6cb-47b4-42b6-a274-c1b2d1660bbe",
   "metadata": {},
   "outputs": [],
   "source": [
    "catB3_m = vstack([catNB3_m, catMB3_m])\n",
    "catB6_m = vstack([catNB6_m, catMB6_m])\n",
    "\n",
    "cat_HII_candidates = vstack([catNB3_HII_cand,catMB3_HII_cand])\n",
    "cat_HII = vstack([catNB3_HII, catMB3_HII])\n",
    "cat_HII_new = vstack([catNB3_HII_new, catMB3_HII_new])"
   ]
  },
  {
   "cell_type": "code",
   "execution_count": 8,
   "id": "dea7d819-54f8-473d-9a06-49dddeb9f287",
   "metadata": {},
   "outputs": [
    {
     "data": {
      "text/plain": [
       "371"
      ]
     },
     "execution_count": 8,
     "metadata": {},
     "output_type": "execute_result"
    }
   ],
   "source": [
    "len(catB3_m)"
   ]
  },
  {
   "cell_type": "code",
   "execution_count": 9,
   "id": "2d576214-b1b2-4c7b-9c7e-fe89e8195bb5",
   "metadata": {},
   "outputs": [
    {
     "data": {
      "text/plain": [
       "218"
      ]
     },
     "execution_count": 9,
     "metadata": {},
     "output_type": "execute_result"
    }
   ],
   "source": [
    "len(catB6_m)"
   ]
  },
  {
   "cell_type": "code",
   "execution_count": 10,
   "id": "3c108ebb-daa9-4e00-9c8d-f50d7be91efb",
   "metadata": {},
   "outputs": [
    {
     "data": {
      "text/plain": [
       "16"
      ]
     },
     "execution_count": 10,
     "metadata": {},
     "output_type": "execute_result"
    }
   ],
   "source": [
    "len(cat_HII_candidates)"
   ]
  },
  {
   "cell_type": "code",
   "execution_count": 11,
   "id": "76adf07e-b8fb-47c1-9b91-8fc7fc0f7e12",
   "metadata": {},
   "outputs": [
    {
     "data": {
      "text/plain": [
       "17"
      ]
     },
     "execution_count": 11,
     "metadata": {},
     "output_type": "execute_result"
    }
   ],
   "source": [
    "len(cat_HII)"
   ]
  },
  {
   "cell_type": "code",
   "execution_count": 12,
   "id": "b0129896-82d1-46d6-b21f-b2626b2b5347",
   "metadata": {},
   "outputs": [
    {
     "data": {
      "text/plain": [
       "8"
      ]
     },
     "execution_count": 12,
     "metadata": {},
     "output_type": "execute_result"
    }
   ],
   "source": [
    "len(cat_HII_new)"
   ]
  },
  {
   "cell_type": "code",
   "execution_count": 13,
   "id": "59f473ee-0cde-420f-8373-24b544db0a74",
   "metadata": {},
   "outputs": [],
   "source": [
    "def save_reg_from_cat(cat, cat_str, source_type = 'core'):\n",
    "    base_path = '/orange/adamginsburg/sgrb2/NB/python_notebooks/catalog_regions/'\n",
    "    cat_reg = regions_gaussfit(cat, source_type)\n",
    "    cat_reg.write(base_path + cat_str, format = 'ds9', overwrite = True)"
   ]
  },
  {
   "cell_type": "code",
   "execution_count": 12,
   "id": "14f82c88-ec05-4855-a7ec-95b73f85f059",
   "metadata": {},
   "outputs": [],
   "source": [
    "# save_reg_from_cat(catB6_m, 'catB6_m.reg', source_type = 'core')\n",
    "# save_reg_from_cat(catB3_m, 'catB3_m.reg', source_type = 'core')\n",
    "# save_reg_from_cat(cat_HII_candidates, 'cat_HII_candidates.reg', source_type = 'HII_cand')\n",
    "# save_reg_from_cat(cat_HII, 'cat_HII.reg', source_type = 'HII')\n",
    "# save_reg_from_cat(cat_HII_new, 'cat_HII_new.reg', source_type = 'HII_new')"
   ]
  }
 ],
 "metadata": {
  "kernelspec": {
   "display_name": "Python 3 (ipykernel)",
   "language": "python",
   "name": "python3"
  },
  "language_info": {
   "codemirror_mode": {
    "name": "ipython",
    "version": 3
   },
   "file_extension": ".py",
   "mimetype": "text/x-python",
   "name": "python",
   "nbconvert_exporter": "python",
   "pygments_lexer": "ipython3",
   "version": "3.9.7"
  }
 },
 "nbformat": 4,
 "nbformat_minor": 5
}
