{
 "cells": [
  {
   "cell_type": "code",
   "execution_count": 1,
   "id": "28f97bc9-2f1b-4ebc-a36d-77ad17a37c47",
   "metadata": {},
   "outputs": [],
   "source": [
    "from astropy.io import ascii\n",
    "from regions import CircleSkyRegion\n",
    "from astropy.table import QTable, Table, Column\n",
    "from astropy.coordinates import SkyCoord\n",
    "from astropy.coordinates import ICRS, Galactic, FK4, FK5\n",
    "from astropy.coordinates import Angle, Latitude, Longitude\n",
    "from astropy import units as u\n",
    "from astropy.table import Table, Column, join\n",
    "import numpy as np\n",
    "import matplotlib.pyplot as plt\n",
    "from astropy.io import ascii\n",
    "import regions\n",
    "import re\n",
    "#from regions import DS9Parser\n",
    "from astropy.table import vstack\n",
    "from astropy.io import fits  \n",
    "import warnings\n",
    "from astropy.wcs import WCS\n",
    "from uncertainties import ufloat\n",
    "from uncertainties.umath import *\n",
    "from radio_beam import Beam\n",
    "import astropy.constants as c\n",
    "from astropy.visualization import quantity_support\n",
    "quantity_support()\n",
    "plt.rcParams.update({'font.size': 14})\n",
    "import seaborn as sns\n",
    "from scipy.integrate import quad\n",
    "import plfit"
   ]
  },
  {
   "cell_type": "code",
   "execution_count": 2,
   "id": "e3684780-0e60-4c0c-b06a-d358bf884e09",
   "metadata": {},
   "outputs": [],
   "source": [
    "plt.rcParams.update({'font.size': 14})\n",
    "plt.rcParams.update({'lines.linewidth': 2})"
   ]
  },
  {
   "cell_type": "code",
   "execution_count": 3,
   "id": "bbe438f0-b79f-4cc5-9e82-b88e4ead1261",
   "metadata": {},
   "outputs": [
    {
     "name": "stdout",
     "output_type": "stream",
     "text": [
      "Removed 198 sources for the complete catalog\n",
      "Removed 9 sources for the medium catalog\n",
      "Removed 81 sources for the robust catalog\n",
      "Removed 186 sources for the complete catalog\n",
      "Removed 7 sources for the medium catalog\n",
      "Removed 47 sources for the robust catalog\n",
      "Removed 203 sources for the complete catalog\n",
      "Removed 6 sources for the medium catalog\n",
      "Removed 58 sources for the robust catalog\n",
      "Removed 203 sources for the complete catalog\n",
      "Removed 8 sources for the medium catalog\n",
      "Removed 32 sources for the robust catalog\n"
     ]
    },
    {
     "name": "stderr",
     "output_type": "stream",
     "text": [
      "/orange/adamginsburg/sgrb2/NB/python_env_test/lib/python3.9/site-packages/astropy/table/table.py:1412: FutureWarning: Using a non-tuple sequence for multidimensional indexing is deprecated; use `arr[tuple(seq)]` instead of `arr[seq]`. In the future this will be interpreted as an array index, `arr[np.array(seq)]`, which will result either in an error or a different result.\n",
      "  newcol = col[slice_]\n",
      "/home/nbudaiev/.local/lib/python3.9/site-packages/numpy/ma/core.py:3224: FutureWarning: Using a non-tuple sequence for multidimensional indexing is deprecated; use `arr[tuple(seq)]` instead of `arr[seq]`. In the future this will be interpreted as an array index, `arr[np.array(seq)]`, which will result either in an error or a different result.\n",
      "  dout = self.data[indx]\n",
      "/home/nbudaiev/.local/lib/python3.9/site-packages/numpy/ma/core.py:3256: FutureWarning: Using a non-tuple sequence for multidimensional indexing is deprecated; use `arr[tuple(seq)]` instead of `arr[seq]`. In the future this will be interpreted as an array index, `arr[np.array(seq)]`, which will result either in an error or a different result.\n",
      "  mout = _mask[indx]\n"
     ]
    }
   ],
   "source": [
    "base = '/orange/adamginsburg/sgrb2/NB/catalog_the_end/'\n",
    "catNB3 = Table.read(base+'catalog_NB3_4RMS_30.0rings_0.7mindelta3npix_final_Nazar_review.csv', format='ascii')\n",
    "catMB3 = Table.read(base+'catalog_MB3_4RMS_30.0rings_0.7mindelta3npix_final_Nazar_review.csv', format='ascii')\n",
    "catNB6 = Table.read(base+'catalog_NB6_4RMS_30.0rings_0.7mindelta3npix_final_Nazar_review.csv', format='ascii')\n",
    "catMB6 = Table.read(base+'catalog_MB6_4RMS_30.0rings_0.7mindelta3npix_final_Nazar_review.csv', format='ascii')\n",
    "\n",
    "from purify_catalog import cat_purification_cores\n",
    "from purify_catalog import HII_catalogs\n",
    "#cat_NB3_HII_candidates, cat_MB3_HII_candidates, cat_NB3_HII, cat_MB3_HII, cat_NB6_HII_candidates, cat_MB6_HII_candidates, cat_NB6_HII, cat_MB6_HII = HII_catalogs(catNB3, catNB6, catMB3, catMB6)\n",
    "catNB3_m, catMB3_m, catNB6_m, catMB6_m = cat_purification_cores(catNB3, catMB3, catNB6, catMB6)\n",
    "catNB3_HII, catNB3_HII_cand, catNB3_HII_new, catMB3_HII, catMB3_HII_cand, catMB3_HII_new, catNB6_HII, catNB6_HII_cand, catNB6_HII_new, catMB6_HII, catMB6_HII_cand, catMB6_HII_new = HII_catalogs(catNB3, catNB6, catMB3, catMB6)"
   ]
  },
  {
   "cell_type": "code",
   "execution_count": 4,
   "id": "db651958-404a-4663-8bd1-8afb0fbab944",
   "metadata": {},
   "outputs": [],
   "source": [
    "catB3_m = vstack([catNB3_m, catMB3_m])\n",
    "catB6_m = vstack([catNB6_m, catMB6_m])"
   ]
  },
  {
   "cell_type": "code",
   "execution_count": 5,
   "id": "37cdc341-1bdd-4102-8ddb-207423a5c6dc",
   "metadata": {},
   "outputs": [],
   "source": [
    "base = '/orange/adamginsburg/sgrb2/NB/catalog_the_end/'\n",
    "catNB3 = Table.read(base+'catalog_NB3_4RMS_30.0rings_0.7mindelta3npix_final_Nazar_review.csv', format='ascii')"
   ]
  },
  {
   "cell_type": "code",
   "execution_count": 6,
   "id": "f58a056a-7ea1-4fb7-8a33-297fcb49994c",
   "metadata": {},
   "outputs": [],
   "source": [
    "k0 = 7.85*10**-1# * u.cm**2 / u.g\n",
    "k11 = 1.37# * u.cm**2 / u.g\n",
    "k13 = 1.69# * u.cm**2 / u.g\n",
    "tau = 10**6 * u.yr\n",
    "n_H = 10**6 * u.cm**-3"
   ]
  },
  {
   "cell_type": "code",
   "execution_count": 7,
   "id": "969802ce-6b41-46fe-be81-6c895dc7bac1",
   "metadata": {},
   "outputs": [],
   "source": [
    "a = 1/2 * (log10(k0)**2 - 4*(log10(k11)**2) + 3*(log10(k13)**2))/ (log10(k0) - 4*log10(k11) + 3*log10(k13))"
   ]
  },
  {
   "cell_type": "code",
   "execution_count": 8,
   "id": "99b12bb8-42c7-4847-ab0d-27b3ad62955c",
   "metadata": {},
   "outputs": [],
   "source": [
    "b = 1/4 * ((log10(k13) - log10(k11))*(log10(k13) - log10(k0))*(log10(k11)-log10(k0))) / (log10(k0)-4*log10(k11)+3*log10(k13))"
   ]
  },
  {
   "cell_type": "code",
   "execution_count": 9,
   "id": "6fea122b-cb34-42f5-9d3f-c2720bf54103",
   "metadata": {},
   "outputs": [],
   "source": [
    "X = a - np.sqrt((a - log10(k13))**2 + b*(log10(n_H*tau/(u.cm**-3*u.yr))-13)**2)"
   ]
  },
  {
   "cell_type": "code",
   "execution_count": 10,
   "id": "3ea2beae-7005-4b04-a7f6-46ab5bc35f23",
   "metadata": {},
   "outputs": [
    {
     "data": {
      "text/plain": [
       "1.2268768775642265"
      ]
     },
     "execution_count": 10,
     "metadata": {},
     "output_type": "execute_result"
    }
   ],
   "source": [
    "np.e**X#/100"
   ]
  },
  {
   "cell_type": "code",
   "execution_count": 11,
   "id": "c36b0e7e-e97f-4d51-a23e-75daeaeb072f",
   "metadata": {},
   "outputs": [
    {
     "data": {
      "text/plain": [
       "0.8905109489051094"
      ]
     },
     "execution_count": 11,
     "metadata": {},
     "output_type": "execute_result"
    }
   ],
   "source": [
    "1.22/1.37"
   ]
  },
  {
   "cell_type": "code",
   "execution_count": 12,
   "id": "abf6c8e1-27f4-4c47-bb30-a5ab358f0146",
   "metadata": {},
   "outputs": [],
   "source": [
    "def kappa(nu, nu0=271.1*u.GHz, kappa0=0.0114*u.cm**2*u.g**-1, beta=1.75):\n",
    "    \"\"\"\n",
    "    Compute the opacity $\\kappa$ given a reference frequency (or wavelength)\n",
    "    and a power law governing the opacity as a fuction of frequency:\n",
    "    $$ \\kappa = \\kappa_0 \\left(\\\\frac{\\\\nu}{\\\\nu_0}\\\\right)^{\\\\beta} $$\n",
    "    The default kappa=0.0114 at 271.1 GHz comes from extrapolating the\n",
    "    Ossenkopf & Henning 1994 opacities for the thin-ice-mantle, 10^6 year model\n",
    "    anchored at 1.0 mm with an assumed beta of 1.75.\n",
    "    Parameters\n",
    "    ----------\n",
    "    nu: astropy.Quantity [u.spectral() equivalent]\n",
    "        The frequency at which to evaluate kappa\n",
    "    nu0: astropy.Quantity [u.spectral() equivalent]\n",
    "        The reference frequency at which $\\kappa$ is defined\n",
    "    kappa0: astropy.Quantity [cm^2/g]\n",
    "        The dust opacity per gram of H2 along the line of sight.  Because of\n",
    "        the H2 conversion, this factor implicitly includes a dust to gas ratio\n",
    "        (usually assumed 100)\n",
    "    beta: float\n",
    "        The power-law index governing kappa as a function of nu\n",
    "    \"\"\"\n",
    "    return (kappa0*(nu.to(u.GHz,u.spectral())/nu0.to(u.GHz,u.spectral()))**(beta)).to(u.cm**2/u.g)"
   ]
  },
  {
   "cell_type": "code",
   "execution_count": 13,
   "id": "b605fccd-7ec8-498f-ae8d-fee4258b4978",
   "metadata": {},
   "outputs": [],
   "source": [
    "T = 50 * u.K\n",
    "d = 8.4 * u.kpc\n",
    "B3freq = 92.45* u.GHz\n",
    "B6freq = 225.78 * u.GHz\n",
    "\n",
    "kappaB3 = kappa(B3freq)\n",
    "kappaB6 = kappa(B6freq)"
   ]
  },
  {
   "cell_type": "code",
   "execution_count": 14,
   "id": "d9cfe216-7c31-40ac-b99a-e9af81a22bbd",
   "metadata": {},
   "outputs": [],
   "source": [
    "def get_mass(flux, freq):\n",
    "    return (flux*u.Jy * d**2 *(c.c**2)/ (2*kappa(freq)*freq**2*c.k_B*T)).to(u.Msun)"
   ]
  },
  {
   "cell_type": "code",
   "execution_count": 15,
   "id": "3ad086f9-68e0-45d2-8257-fcaa7bb29901",
   "metadata": {},
   "outputs": [],
   "source": [
    "mask = catB3_m['radial_d_px'] < 1239"
   ]
  },
  {
   "cell_type": "code",
   "execution_count": null,
   "id": "9dadef50-9142-40a8-8968-640995f42b6a",
   "metadata": {},
   "outputs": [],
   "source": []
  },
  {
   "cell_type": "code",
   "execution_count": 16,
   "id": "b1311a33-12c8-4cdf-8532-ae16ab762c33",
   "metadata": {},
   "outputs": [],
   "source": [
    "def gaussian(x, x0=0, width=1):\n",
    "    return np.exp(-(x-x0)**2/(2*width**2))\n",
    "\n",
    "def apperture_corr(cat):\n",
    "    true = quad(gaussian, -np.inf, np.inf)[0]\n",
    "    adjusted_flux_array = []\n",
    "    for core in cat:\n",
    "        min_value = core['ring_std'] * 4 # multiplying by 4 beacause the min_value was set to 4 sigma\n",
    "        peak_flux = core['peak']\n",
    "        a = min_value / peak_flux\n",
    "        crop = np.sqrt(-2*np.log(a))\n",
    "        ratio_true_obs = true / (quad(gaussian, -crop, crop)[0])\n",
    "        \n",
    "        adjusted_flux = core['flux'] * ratio_true_obs\n",
    "        \n",
    "        adjusted_flux_array += [adjusted_flux]\n",
    "        \n",
    "    return adjusted_flux_array"
   ]
  },
  {
   "cell_type": "code",
   "execution_count": 17,
   "id": "ad6f951b-84c7-4200-9bca-3e678cd35d49",
   "metadata": {},
   "outputs": [],
   "source": [
    "mass_B3_total_corr = get_mass(apperture_corr(catB3_m), B3freq)\n",
    "mass_B6_total_corr = get_mass(apperture_corr(catB6_m), B6freq)\n",
    "mass_B3_errors_corr = get_mass(catB3_m['ring_std'].value, B3freq)"
   ]
  },
  {
   "cell_type": "code",
   "execution_count": null,
   "id": "1a4e0837-0423-4a96-a5d4-5f727cdc8e6d",
   "metadata": {},
   "outputs": [],
   "source": []
  },
  {
   "cell_type": "code",
   "execution_count": 18,
   "id": "24cd0f1f-2d8a-48f4-be7d-58a963bd0f99",
   "metadata": {},
   "outputs": [],
   "source": [
    "# Masses based on the brightest pixel\n",
    "mass_B3_pix = get_mass(catB3_m['peak'].value, B3freq)\n",
    "mass_B6_pix = get_mass(catB6_m['peak'].value, B6freq)"
   ]
  },
  {
   "cell_type": "code",
   "execution_count": null,
   "id": "6cbb3019-2a4e-4c57-ab20-4135b6533ff2",
   "metadata": {},
   "outputs": [],
   "source": []
  },
  {
   "cell_type": "code",
   "execution_count": 19,
   "id": "96ee26bb-a7e9-4afd-9b95-5c82a4644026",
   "metadata": {},
   "outputs": [],
   "source": [
    "x = np.logspace(1,2.2,100)\n",
    "y = ((x/8.5)**(-1.35))\n",
    "a = np.logspace(1,2.2,100)\n",
    "b = ((x/8.5)**(-1.38193))"
   ]
  },
  {
   "cell_type": "code",
   "execution_count": 20,
   "id": "bc48b3a6-3741-4a86-a0fc-b067433563bb",
   "metadata": {},
   "outputs": [
    {
     "data": {
      "text/plain": [
       "<matplotlib.legend.Legend at 0x14b04c1ff610>"
      ]
     },
     "execution_count": 20,
     "metadata": {},
     "output_type": "execute_result"
    },
    {
     "data": {
      "image/png": "[encoded data removed]",
      "text/plain": [
       "<Figure size 504x360 with 1 Axes>"
      ]
     },
     "metadata": {
      "needs_background": "light"
     },
     "output_type": "display_data"
    }
   ],
   "source": [
    "plt.figure(figsize=(7, 5))\n",
    "sorted_core_masses_low = np.sort(mass_B3_total_corr.value-mass_B3_errors_corr.value)\n",
    "sorted_core_masses_high = np.sort(mass_B3_total_corr.value+mass_B3_errors_corr.value)\n",
    "\n",
    "cdf = 1 - np.arange(1, len(mass_B3_total_corr) + 1) / len(mass_B3_total_corr)\n",
    "\n",
    "plt.fill_betweenx(cdf, sorted_core_masses_low, sorted_core_masses_high, step = 'pre', alpha = 0.7)\n",
    "plt.xscale('log')\n",
    "plt.ylabel(r'Fraction with >$M_{dust}$')\n",
    "plt.xlabel(r'Core mass, $M_\\odot$')\n",
    "#plt.plot(x,y, label = r'Salpeter $\\Gamma = 1.35$', color = 'r', linestyle = ':')\n",
    "plt.axvline(13.5, linestyle = '--', color = 'k', label='Completness limit', alpha = 0.7)\n",
    "\n",
    "plt.legend()"
   ]
  },
  {
   "cell_type": "code",
   "execution_count": 21,
   "id": "5d9ef4f8-da2d-4b55-8675-1166b81dea51",
   "metadata": {},
   "outputs": [
    {
     "name": "stdout",
     "output_type": "stream",
     "text": [
      "PYTHON plfit executed in 0.006290 seconds\n",
      "Not enough data left after flagging low S/N points.  Using all data.\n",
      "xmin: 16.0534 n(>xmin): 163 alpha: 2.46859 +/- 0.115029   Log-Likelihood: -663.824   ks: 0.0748105 p(ks): 0.153478\n"
     ]
    },
    {
     "name": "stderr",
     "output_type": "stream",
     "text": [
      "/orange/adamginsburg/sgrb2/NB/python_env_test/lib/python3.9/site-packages/plfit/plfit.py:118: RuntimeWarning: divide by zero encountered in double_scalars\n",
      "  a = 1+float(n) / sum(log(x/xmin))\n"
     ]
    }
   ],
   "source": [
    "p = plfit.plfit(mass_B3_total_corr.value[mass_B3_total_corr.value > 15.5])"
   ]
  },
  {
   "cell_type": "code",
   "execution_count": 22,
   "id": "e9ea79b9-966d-4bd2-964e-8664dce3d3b9",
   "metadata": {},
   "outputs": [
    {
     "name": "stdout",
     "output_type": "stream",
     "text": [
      "PYTHON plfit executed in 0.006488 seconds\n",
      "xmin: 13.7438 n(>xmin): 191 alpha: 2.38193 +/- 0.0999931   Log-Likelihood: -767.959   ks: 0.0976695 p(ks): 0.0244091\n"
     ]
    }
   ],
   "source": [
    "p = plfit.plfit(mass_B3_total_corr.value[mass_B3_total_corr.value > 11])"
   ]
  },
  {
   "cell_type": "code",
   "execution_count": 23,
   "id": "004df163-a0cb-4446-bf15-656166bcdba2",
   "metadata": {},
   "outputs": [
    {
     "data": {
      "text/plain": [
       "(1, 100)"
      ]
     },
     "execution_count": 23,
     "metadata": {},
     "output_type": "execute_result"
    },
    {
     "data": {
      "image/png": "[encoded data removed]",
      "text/plain": [
       "<Figure size 468x288 with 1 Axes>"
      ]
     },
     "metadata": {
      "needs_background": "light"
     },
     "output_type": "display_data"
    }
   ],
   "source": [
    "fig = plt.figure(figsize=(6.5,4))\n",
    "bins=np.logspace(-1,3,23)\n",
    "\n",
    "x1 = 200 # ending point for slope 1\n",
    "y1 = 20 # starting point, x\n",
    "y2 = 61 #starting point, y\n",
    "\n",
    "l = np.log10(x1)-np.log10(y1)\n",
    "\n",
    "s1 = 1.35\n",
    "s2 = 1.35\n",
    "s3 = 3\n",
    "x2 = 10**(np.log10(y2) - l*s1)\n",
    "\n",
    "\n",
    "\n",
    "\n",
    "\n",
    "#plt.hist(mass_B3_total, bins=bins, label = '3 mm', alpha = 0.5, ec='k',histtype='stepfilled',linewidth=2)\n",
    "#plt.hist(mass_B6_total, bins=bins, label = '1 mm', alpha = 0.5, ec='r',histtype='stepfilled',linewidth=2)\n",
    "sns.histplot(mass_B3_total_corr,log_scale = (True, True), kde = True, fill = True, bins=12, element=\"step\", label = '3 mm', \n",
    "             color='tab:blue', alpha = 0.5, ec='tab:blue', linewidth=1)\n",
    "#sns.kdeplot(mass_B3_total,log_scale = (True, True),common_norm=False)\n",
    "\n",
    "#plt.plot([x1, y1],[10**(np.log10(y2) - l*s1),y2], color='k', label = 'Power law')\n",
    "plt.plot([x1, y1],[10**(np.log10(y2) - l*s2),y2], color='k',)\n",
    "#plt.plot([x1, y1],[10**(np.log10(y2) - l*s3),y2], color='k',)\n",
    "#plt.text(x1*1.05,10**(np.log10(y2) - l*s2), ' 2aaaaa', fontsize=14)\n",
    "plt.text(5, 6, r'Salpeter $\\Gamma = 1.35$')\n",
    "#plt.text(80, 13, r'$\\alpha \\approx 1$')\n",
    "plt.text(0.4, 60, r'T$_{dust} = 50$ K') \n",
    "\n",
    "\n",
    "plt.xlabel(r'Core mass lower limit ($M_{\\odot}$)')\n",
    "plt.ylabel(r'$N_{cores}$')\n",
    "plt.xscale('log')\n",
    "plt.yscale('log')\n",
    "plt.legend(['KDE', 'Power law', '3 mm'], loc='upper right')\n",
    "plt.xlim(3*10**-1, 1.3*10**3)\n",
    "plt.ylim(1, 100)\n",
    "\n",
    "#plt.savefig('masses_poster.png', dpi=300,bbox_inches='tight')"
   ]
  },
  {
   "cell_type": "code",
   "execution_count": 24,
   "id": "82aef07f-a95e-4e99-9598-66369de7f37b",
   "metadata": {},
   "outputs": [],
   "source": [
    "def gaussian(x, x0=0, width=1):\n",
    "    return np.exp(-(x-x0)**2/(2*width**2))\n",
    "\n",
    "def apperture_corr(cat):\n",
    "    true = quad(gaussian, -np.inf, np.inf)[0]\n",
    "    adjusted_flux_array = []\n",
    "    for core in cat:\n",
    "        min_value = core['ring_std'] * 4 # multiplying by 4 beacause the min_value was set to 4 sigma\n",
    "        peak_flux = core['peak']\n",
    "        a = min_value / peak_flux\n",
    "        crop = np.sqrt(-2*np.log(a))\n",
    "        ratio_true_obs = true / (quad(gaussian, -crop, crop)[0])\n",
    "        \n",
    "        adjusted_flux = core['flux'] * ratio_true_obs\n",
    "        \n",
    "        adjusted_flux_array += [adjusted_flux]\n",
    "        \n",
    "    return adjusted_flux_array"
   ]
  },
  {
   "cell_type": "code",
   "execution_count": 25,
   "id": "2aa947c4-e340-4c1d-b9c3-73291c1e698e",
   "metadata": {},
   "outputs": [],
   "source": [
    "mass_B3_total_corr = get_mass(apperture_corr(catB3_m), B3freq)\n",
    "mass_B6_total_corr = get_mass(apperture_corr(catB6_m), B6freq)"
   ]
  },
  {
   "cell_type": "code",
   "execution_count": 26,
   "id": "7aab75cb-691a-4e10-976e-16bf447233e6",
   "metadata": {},
   "outputs": [
    {
     "data": {
      "text/plain": [
       "(1, 100)"
      ]
     },
     "execution_count": 26,
     "metadata": {},
     "output_type": "execute_result"
    },
    {
     "data": {
      "image/png": "[encoded data removed]",
      "text/plain": [
       "<Figure size 432x288 with 1 Axes>"
      ]
     },
     "metadata": {
      "needs_background": "light"
     },
     "output_type": "display_data"
    }
   ],
   "source": [
    "#fig = plt.figure(figsize=(6.5,4))\n",
    "bins=np.logspace(-1,3,23)\n",
    "\n",
    "x1 = 200 # ending point for slope 1\n",
    "y1 = 20 # starting point, x\n",
    "y2 = 61 #starting point, y\n",
    "\n",
    "l = np.log10(x1)-np.log10(y1)\n",
    "\n",
    "s1 = 1.35\n",
    "s2 = 1.35\n",
    "s3 = 3\n",
    "x2 = 10**(np.log10(y2) - l*s1)\n",
    "\n",
    "\n",
    "\n",
    "\n",
    "\n",
    "plt.hist(mass_B3_total_corr, bins=bins, label = '3 mm', alpha = 0.5, ec='k',histtype='stepfilled',linewidth=2)\n",
    "plt.hist(mass_B6_total_corr, bins=bins, label = '1 mm', alpha = 0.5, ec='r',histtype='stepfilled',linewidth=2)\n",
    "#plt.hist(mass_B3_total, bins=bins, label = '3 mm', alpha = 1, ec='k',histtype='step',linewidth=2)\n",
    "#plt.hist(mass_B6_total, bins=bins, label = '1 mm', alpha = 1, ec='r',histtype='step',linewidth=2)\n",
    "#sns.histplot(mass_B3_total,log_scale = (True, True), kde = True, fill = True, bins=12, element=\"step\", label = '3 mm', \n",
    "#             color='tab:blue', alpha = 0.5, ec='tab:blue', linewidth=1)\n",
    "#sns.kdeplot(mass_B3_total,log_scale = (True, True),common_norm=False)\n",
    "\n",
    "#plt.plot([x1, y1],[10**(np.log10(y2) - l*s1),y2], color='k', label = 'Power law')\n",
    "#plt.plot([x1, y1],[10**(np.log10(y2) - l*s2),y2], color='k',)\n",
    "#plt.plot([x1, y1],[10**(np.log10(y2) - l*s3),y2], color='k',)\n",
    "#plt.text(5, 6, r'Salpeter $\\Gamma = 1.35$')\n",
    "#plt.text(80, 13, r'$\\alpha \\approx 1$')\n",
    "plt.text(0.4, 60,r'T$_{dust} = 50$ K', fontsize=14) \n",
    "\n",
    "\n",
    "plt.xlabel(r'Core mass lower limit ($M_{\\odot}$)')\n",
    "plt.ylabel(r'$N_{cores}$')\n",
    "plt.xscale('log')\n",
    "plt.yscale('log')\n",
    "plt.legend()\n",
    "#plt.legend(['KDE', 'Power law', '3 mm'], loc='upper right')\n",
    "plt.xlim(3*10**-1, 1.3*10**3)\n",
    "plt.ylim(1, 100)\n",
    "\n",
    "#plt.savefig('masses.png', dpi=300,bbox_inches='tight')"
   ]
  },
  {
   "cell_type": "code",
   "execution_count": 27,
   "id": "786895a1-4184-45e7-aded-09de8207c1b5",
   "metadata": {},
   "outputs": [
    {
     "data": {
      "text/plain": [
       "Text(0, 0.5, 'adjusted / cataloged flux')"
      ]
     },
     "execution_count": 27,
     "metadata": {},
     "output_type": "execute_result"
    },
    {
     "data": {
      "image/png": "[encoded data removed]",
      "text/plain": [
       "<Figure size 432x288 with 1 Axes>"
      ]
     },
     "metadata": {
      "needs_background": "light"
     },
     "output_type": "display_data"
    }
   ],
   "source": [
    "plt.scatter(catB6_m['flux'], apperture_corr(catB6_m)/catB6_m['flux'], color='tab:orange', alpha = 0.7, marker = '.', label = '1 mm')\n",
    "plt.legend()\n",
    "plt.xlabel('cataloged flux')\n",
    "plt.ylabel('adjusted / cataloged flux')"
   ]
  },
  {
   "cell_type": "code",
   "execution_count": 28,
   "id": "42b7b195-3f1a-47c7-97ef-e76bd8372e70",
   "metadata": {},
   "outputs": [
    {
     "data": {
      "text/plain": [
       "Text(0, 0.5, 'adjusted / cataloged flux')"
      ]
     },
     "execution_count": 28,
     "metadata": {},
     "output_type": "execute_result"
    },
    {
     "data": {
      "image/png": "[encoded data removed]",
      "text/plain": [
       "<Figure size 432x288 with 1 Axes>"
      ]
     },
     "metadata": {
      "needs_background": "light"
     },
     "output_type": "display_data"
    }
   ],
   "source": [
    "plt.scatter(catB3_m['flux'], apperture_corr(catB3_m)/catB3_m['flux'], color='tab:blue', alpha = 0.7, marker = '.', label = '3 mm')\n",
    "plt.legend()\n",
    "plt.xlabel('cataloged flux')\n",
    "plt.ylabel('adjusted / cataloged flux')"
   ]
  },
  {
   "cell_type": "code",
   "execution_count": 29,
   "id": "94d4b73b-f586-4e4c-806f-e2584f81730e",
   "metadata": {},
   "outputs": [
    {
     "data": {
      "text/plain": [
       "<matplotlib.legend.Legend at 0x14b049c65040>"
      ]
     },
     "execution_count": 29,
     "metadata": {},
     "output_type": "execute_result"
    },
    {
     "data": {
      "image/png": "[encoded data removed]",
      "text/plain": [
       "<Figure size 432x288 with 1 Axes>"
      ]
     },
     "metadata": {
      "needs_background": "light"
     },
     "output_type": "display_data"
    }
   ],
   "source": [
    "#plt.text(x1*1.05,10**(np.log10(y2) - l*s2), '2', fontsize=14)bins=np.logspace(-1,3,23)\n",
    "#bins=np.logspace(-1,2.5,30)\n",
    "#plt.hist(mass_B3, bins=bins, label = '3 mm', alpha = 0.5, ec='k',histtype='stepfilled',linewidth=2)\n",
    "#plt.hist(mass_B6, bins=bins, label = '1 mm', alpha = 0.5, ec='r',histtype='stepfilled',linewidth=2)\n",
    "\n",
    "plt.hist(mass_B3_total_corr, bins=bins, label = 'Dendrogram', alpha = 0.5, ec='k',histtype='stepfilled',linewidth=2)\n",
    "#plt.hist(mass_B6_total, bins=bins, label = '1 mm', alpha = 0.5, ec='r',histtype='stepfilled',linewidth=2)\n",
    "\n",
    "plt.hist(mass_B3_pix, bins = bins, label = 'Brightest pixel', alpha = 0.5, ec='k',histtype='stepfilled',linewidth=2, color = 'blue')\n",
    "#plt.hist(mass_B3_pix_r, bins = bins, label = '3 mm, px r', alpha = 0.5, ec='k',histtype='stepfilled',linewidth=2, color = 'red')\n",
    "#plt.hist(mass_B6_pix, bins = bins, label = '1 mm, px', alpha = 0.5, ec='r',histtype='stepfilled',linewidth=2)\n",
    "\n",
    "#plt.hist(mass_B3_total_r, bins=bins, label = '3 mm', ec='k',histtype='step',linewidth=2,linestyle='--')\n",
    "#plt.hist(mass_B6_total_r, bins=bins, label = '1 mm', ec='r',histtype='step',linewidth=2,linestyle='--')\n",
    "plt.xlabel(r'Core mass lower limit ($M_{\\odot}$)')\n",
    "plt.ylabel(r'$N_{cores}$')\n",
    "\n",
    "plt.xscale('log')\n",
    "plt.yscale('log')\n",
    "plt.legend(bbox_to_anchor=(1.02, 1.26))\n",
    "\n",
    "#plt.title('Mass lower limit, total flux')\n",
    "#plt.savefig('masses_dendro_vs_pix_3mm.png', dpi=300,bbox_inches='tight')"
   ]
  },
  {
   "cell_type": "code",
   "execution_count": 30,
   "id": "82cc2536-1924-435d-aa82-42d835cb7084",
   "metadata": {},
   "outputs": [
    {
     "data": {
      "text/plain": [
       "<matplotlib.legend.Legend at 0x14b049c302b0>"
      ]
     },
     "execution_count": 30,
     "metadata": {},
     "output_type": "execute_result"
    },
    {
     "data": {
      "image/png": "[encoded data removed]",
      "text/plain": [
       "<Figure size 432x288 with 1 Axes>"
      ]
     },
     "metadata": {
      "needs_background": "light"
     },
     "output_type": "display_data"
    }
   ],
   "source": [
    "bins=np.logspace(-1,3,23)\n",
    "#bins=np.logspace(-1,2.5,30)\n",
    "#plt.hist(mass_B3, bins=bins, label = '3 mm', alpha = 0.5, ec='k',histtype='stepfilled',linewidth=2)\n",
    "#plt.hist(mass_B6, bins=bins, label = '1 mm', alpha = 0.5, ec='r',histtype='stepfilled',linewidth=2)\n",
    "\n",
    "#plt.hist(mass_B3_total, bins=bins, label = '3 mm', alpha = 0.5, ec='k',histtype='stepfilled',linewidth=2)\n",
    "plt.hist(mass_B6_total_corr, bins=bins, label = 'Dendrogram', alpha = 0.5, ec='r',histtype='stepfilled',linewidth=2, color = 'tab:orange')\n",
    "\n",
    "#plt.hist(mass_B3_pix, bins = bins, label = '3 mm, px', alpha = 0.5, ec='k',histtype='stepfilled',linewidth=2, color = 'blue')\n",
    "plt.hist(mass_B6_pix, bins = bins, label = 'Brightest pixel', alpha = 0.5, ec='r',histtype='stepfilled',linewidth=2, color = 'red')\n",
    "\n",
    "#plt.hist(mass_B3_total_r, bins=bins, label = '3 mm', ec='k',histtype='step',linewidth=2,linestyle='--')\n",
    "#plt.hist(mass_B6_total_r, bins=bins, label = '1 mm', ec='r',histtype='step',linewidth=2,linestyle='--')\n",
    "plt.xlabel(r'Core mass ($M_{\\odot}$)')\n",
    "\n",
    "plt.xscale('log')\n",
    "plt.yscale('log')\n",
    "plt.legend()\n",
    "#plt.title('Mass lower limit, total flux')\n",
    "plt.legend(bbox_to_anchor=(1.02, 1.26))\n",
    "#plt.savefig('masses_dendro_vs_pix_1mm.png', dpi=300,bbox_inches='tight')"
   ]
  },
  {
   "cell_type": "code",
   "execution_count": null,
   "id": "30608d9f-382a-48b5-b0b2-ac9dc2530e25",
   "metadata": {},
   "outputs": [],
   "source": []
  },
  {
   "cell_type": "code",
   "execution_count": 31,
   "id": "c0228b3c-ac05-43d5-a383-ff291a64daab",
   "metadata": {},
   "outputs": [],
   "source": [
    "def running_histogram(X, nBins=100, binSize=None, normFac=None):\n",
    "    \"\"\" Create a adaptive histogram of a (x) point set using some number of bins. \"\"\"\n",
    "    if binSize is not None:\n",
    "        nBins = round( (X.max()-X.min()) / binSize )\n",
    "\n",
    "    bins = np.linspace(X.min(),X.max(), nBins)\n",
    "    delta = bins[1]-bins[0]\n",
    "\n",
    "    running_h   = []\n",
    "    bin_centers = []\n",
    "\n",
    "    for i, bin in enumerate(bins):\n",
    "        binMax = bin + delta\n",
    "        w = np.where((X >= bin) & (X < binMax))\n",
    "\n",
    "        if len(w[0]):\n",
    "            running_h.append( len(w[0]) )\n",
    "            bin_centers.append( np.nanmedian(X[w]) )\n",
    "\n",
    "    if normFac is not None:\n",
    "        running_h /= normFac\n",
    "\n",
    "    return bin_centers, running_h"
   ]
  },
  {
   "cell_type": "code",
   "execution_count": null,
   "id": "9813afb2-8acf-421a-bae5-8c7f7613e483",
   "metadata": {},
   "outputs": [],
   "source": []
  },
  {
   "cell_type": "code",
   "execution_count": 32,
   "id": "4d7fed13-1338-42d4-a809-09647badca50",
   "metadata": {},
   "outputs": [],
   "source": [
    "x = np.logspace(1,2.2,100)\n",
    "y = ((x/100)**(-2.35))"
   ]
  },
  {
   "cell_type": "code",
   "execution_count": 33,
   "id": "4e5c5bc4-af87-4e5c-8720-37afa1b04557",
   "metadata": {},
   "outputs": [],
   "source": [
    "a = np.logspace(1,2.2,100)\n",
    "b = ((a/100)**(-2.38193))"
   ]
  },
  {
   "cell_type": "code",
   "execution_count": 34,
   "id": "a10a5cd7-89fe-481a-8be1-52a987a1e31d",
   "metadata": {},
   "outputs": [
    {
     "data": {
      "text/plain": [
       "<matplotlib.legend.Legend at 0x14b049db0730>"
      ]
     },
     "execution_count": 34,
     "metadata": {},
     "output_type": "execute_result"
    },
    {
     "data": {
      "image/png": "[encoded data removed]",
      "text/plain": [
       "<Figure size 432x288 with 1 Axes>"
      ]
     },
     "metadata": {
      "needs_background": "light"
     },
     "output_type": "display_data"
    }
   ],
   "source": [
    "binSize = 10\n",
    "#normFac=boxSizeCubicMpc*binSize\n",
    "normFac = None\n",
    "xm, ym = running_histogram(mass_B3_total_corr.value, binSize=binSize, normFac=normFac)\n",
    "plt.plot(xm, ym, label = 'CMF')\n",
    "plt.loglog()\n",
    "plt.xlabel(r'$M_\\odot$')\n",
    "plt.ylabel(r'$dN/dM$')\n",
    "plt.plot(x,y, label = 'Kroupa IMF')\n",
    "plt.plot(a,b, label = 'fit')\n",
    "plt.legend()\n"
   ]
  }
 ],
 "metadata": {
  "kernelspec": {
   "display_name": "Python 3 (ipykernel)",
   "language": "python",
   "name": "python3"
  },
  "language_info": {
   "codemirror_mode": {
    "name": "ipython",
    "version": 3
   },
   "file_extension": ".py",
   "mimetype": "text/x-python",
   "name": "python",
   "nbconvert_exporter": "python",
   "pygments_lexer": "ipython3",
   "version": "3.9.7"
  }
 },
 "nbformat": 4,
 "nbformat_minor": 5
}
