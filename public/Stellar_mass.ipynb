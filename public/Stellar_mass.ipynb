{
 "cells": [
  {
   "cell_type": "code",
   "execution_count": 1,
   "id": "f912b2a0-8026-4a6a-a197-e51ca6304e8d",
   "metadata": {},
   "outputs": [],
   "source": [
    "import imf\n",
    "import scipy.integrate as integrate\n",
    "import numpy as np\n",
    "import matplotlib.pyplot as plt\n",
    "import astropy.units as u\n",
    "from astropy import constants as c\n",
    "from matplotlib.colors import LogNorm\n",
    "from astropy.visualization import quantity_support\n",
    "quantity_support()\n",
    "from astropy.io import ascii\n",
    "from regions import CircleSkyRegion\n",
    "from astropy.table import QTable, Table, Column\n",
    "from astropy.coordinates import SkyCoord\n",
    "from astropy.coordinates import ICRS, Galactic, FK4, FK5\n",
    "from astropy.coordinates import Angle, Latitude, Longitude\n",
    "from astropy import units as u\n",
    "from astropy.table import Table, Column, join\n",
    "import numpy as np\n",
    "import matplotlib.pyplot as plt\n",
    "from astropy.io import ascii\n",
    "import regions\n",
    "import re\n",
    "#from regions import DS9Parser\n",
    "from astropy.table import vstack\n",
    "from astropy.io import fits\n",
    "import warnings\n",
    "from astropy.wcs import WCS\n",
    "from uncertainties import ufloat\n",
    "from uncertainties.umath import *\n",
    "from radio_beam import Beam\n",
    "plt.rcParams.update({'font.size': 14})\n",
    "plt.rcParams.update({'lines.linewidth': 2})\n",
    "from scipy.integrate import quad"
   ]
  },
  {
   "cell_type": "code",
   "execution_count": 2,
   "id": "cacd565e-c7a1-4dd6-ab83-2ed793c5bbf6",
   "metadata": {},
   "outputs": [],
   "source": [
    "import imf"
   ]
  },
  {
   "cell_type": "code",
   "execution_count": 3,
   "id": "c823dae2-4c8b-4e41-b35c-f06538973912",
   "metadata": {},
   "outputs": [],
   "source": [
    "kroupa = imf.Kroupa()\n",
    "func_n = kroupa.dndm\n",
    "func_m = kroupa.mass_weighted\n",
    "m_min=0.03\n",
    "m_max=120"
   ]
  },
  {
   "cell_type": "code",
   "execution_count": 4,
   "id": "31f1d293-a250-4b6d-940d-f08751a273aa",
   "metadata": {},
   "outputs": [],
   "source": [
    "base = '/orange/adamginsburg/sgrb2/NB/catalog_the_end/'\n",
    "catNB3 = Table.read(base+'catalog_NB3_4RMS_30.0rings_0.7mindelta3npix_final_Nazar_review.csv', format='ascii')\n",
    "catMB3 = Table.read(base+'catalog_MB3_4RMS_30.0rings_0.7mindelta3npix_final_Nazar_review.csv', format='ascii')\n",
    "catNB6 = Table.read(base+'catalog_NB6_4RMS_30.0rings_0.7mindelta3npix_final_Nazar_review.csv', format='ascii')\n",
    "catMB6 = Table.read(base+'catalog_MB6_4RMS_30.0rings_0.7mindelta3npix_final_Nazar_review.csv', format='ascii')"
   ]
  },
  {
   "cell_type": "code",
   "execution_count": 5,
   "id": "8464a403-8092-44ec-902e-24bda6bd6931",
   "metadata": {},
   "outputs": [
    {
     "name": "stdout",
     "output_type": "stream",
     "text": [
      "Removed 198 sources for the complete catalog\n",
      "Removed 9 sources for the medium catalog\n",
      "Removed 81 sources for the robust catalog\n",
      "Removed 186 sources for the complete catalog\n",
      "Removed 7 sources for the medium catalog\n",
      "Removed 47 sources for the robust catalog\n",
      "Removed 203 sources for the complete catalog\n",
      "Removed 6 sources for the medium catalog\n",
      "Removed 58 sources for the robust catalog\n",
      "Removed 203 sources for the complete catalog\n",
      "Removed 8 sources for the medium catalog\n",
      "Removed 32 sources for the robust catalog\n"
     ]
    },
    {
     "name": "stderr",
     "output_type": "stream",
     "text": [
      "/orange/adamginsburg/sgrb2/NB/python_env_test/lib/python3.9/site-packages/astropy/table/table.py:1412: FutureWarning: Using a non-tuple sequence for multidimensional indexing is deprecated; use `arr[tuple(seq)]` instead of `arr[seq]`. In the future this will be interpreted as an array index, `arr[np.array(seq)]`, which will result either in an error or a different result.\n",
      "  newcol = col[slice_]\n",
      "/home/nbudaiev/.local/lib/python3.9/site-packages/numpy/ma/core.py:3224: FutureWarning: Using a non-tuple sequence for multidimensional indexing is deprecated; use `arr[tuple(seq)]` instead of `arr[seq]`. In the future this will be interpreted as an array index, `arr[np.array(seq)]`, which will result either in an error or a different result.\n",
      "  dout = self.data[indx]\n",
      "/home/nbudaiev/.local/lib/python3.9/site-packages/numpy/ma/core.py:3256: FutureWarning: Using a non-tuple sequence for multidimensional indexing is deprecated; use `arr[tuple(seq)]` instead of `arr[seq]`. In the future this will be interpreted as an array index, `arr[np.array(seq)]`, which will result either in an error or a different result.\n",
      "  mout = _mask[indx]\n"
     ]
    }
   ],
   "source": [
    "from purify_catalog import cat_purification_cores\n",
    "from purify_catalog import HII_catalogs\n",
    "#cat_NB3_HII_candidates, cat_MB3_HII_candidates, cat_NB3_HII, cat_MB3_HII, cat_NB6_HII_candidates, cat_MB6_HII_candidates, cat_NB6_HII, cat_MB6_HII = HII_catalogs(catNB3, catNB6, catMB3, catMB6)\n",
    "catNB3_m, catMB3_m, catNB6_m, catMB6_m = cat_purification_cores(catNB3, catMB3, catNB6, catMB6)\n",
    "catNB3_HII, catNB3_HII_cand, catNB3_HII_new, catMB3_HII, catMB3_HII_cand, catMB3_HII_new, catNB6_HII, catNB6_HII_cand, catNB6_HII_new, catMB6_HII, catMB6_HII_cand, catMB6_HII_new = HII_catalogs(catNB3, catNB6, catMB3, catMB6)"
   ]
  },
  {
   "cell_type": "code",
   "execution_count": 6,
   "id": "22170402-64ad-44fa-b0b9-202295bc23b6",
   "metadata": {},
   "outputs": [],
   "source": [
    "x_mass = np.linspace(0.03,120,1000)"
   ]
  },
  {
   "cell_type": "code",
   "execution_count": 7,
   "id": "2220066b-c15f-4f43-bd1a-9dc5e8d47e33",
   "metadata": {},
   "outputs": [],
   "source": [
    "def kappa(nu, nu0=271.1*u.GHz, kappa0=0.0114*u.cm**2*u.g**-1, beta=1.75):\n",
    "    \"\"\"\n",
    "    Compute the opacity $\\kappa$ given a reference frequency (or wavelength)\n",
    "    and a power law governing the opacity as a fuction of frequency:\n",
    "    $$ \\kappa = \\kappa_0 \\left(\\\\frac{\\\\nu}{\\\\nu_0}\\\\right)^{\\\\beta} $$\n",
    "    The default kappa=0.0114 at 271.1 GHz comes from extrapolating the\n",
    "    Ossenkopf & Henning 1994 opacities for the thin-ice-mantle, 10^6 year model\n",
    "    anchored at 1.0 mm with an assumed beta of 1.75.\n",
    "    Parameters\n",
    "    ----------\n",
    "    nu: astropy.Quantity [u.spectral() equivalent]\n",
    "        The frequency at which to evaluate kappa\n",
    "    nu0: astropy.Quantity [u.spectral() equivalent]\n",
    "        The reference frequency at which $\\kappa$ is defined\n",
    "    kappa0: astropy.Quantity [cm^2/g]\n",
    "        The dust opacity per gram of H2 along the line of sight.  Because of\n",
    "        the H2 conversion, this factor implicitly includes a dust to gas ratio\n",
    "        (usually assumed 100)\n",
    "    beta: float\n",
    "        The power-law index governing kappa as a function of nu\n",
    "    \"\"\"\n",
    "    return (kappa0*(nu.to(u.GHz,u.spectral())/nu0.to(u.GHz,u.spectral()))**(beta)).to(u.cm**2/u.g)"
   ]
  },
  {
   "cell_type": "code",
   "execution_count": 8,
   "id": "801a9651-478b-41a7-a8b1-1cb93132446c",
   "metadata": {},
   "outputs": [],
   "source": [
    "T = 50 * u.K\n",
    "d = 8.4 * u.kpc\n",
    "B3freq = 92.45* u.GHz\n",
    "B6freq = 225.78 * u.GHz\n",
    "\n",
    "kappaB3 = kappa(B3freq)\n",
    "kappaB6 = kappa(B6freq)"
   ]
  },
  {
   "cell_type": "code",
   "execution_count": 9,
   "id": "dfbe6868-a36b-464f-bcee-74cb1f4b18d1",
   "metadata": {},
   "outputs": [],
   "source": [
    "def get_mass(flux, freq):\n",
    "    return (flux*u.Jy * d**2 *(c.c**2)/ (2*kappa(freq)*freq**2*c.k_B*T)).to(u.Msun)"
   ]
  },
  {
   "cell_type": "code",
   "execution_count": 10,
   "id": "4f305bd7-e9be-40fd-8929-bb4491ea99c3",
   "metadata": {},
   "outputs": [],
   "source": [
    "m_max = 120"
   ]
  },
  {
   "cell_type": "code",
   "execution_count": 11,
   "id": "fb0d2d38-8b6b-489a-a4c0-d0e6b9b43f1b",
   "metadata": {},
   "outputs": [],
   "source": [
    "def gaussian(x, x0=0, width=1):\n",
    "    return np.exp(-(x-x0)**2/(2*width**2))\n",
    "\n",
    "def apperture_corr(cat):\n",
    "    true = quad(gaussian, -np.inf, np.inf)[0]\n",
    "    adjusted_flux_array = []\n",
    "    for core in cat:\n",
    "        min_value = core['ring_std'] * 4 # multiplying by 4 beacause the min_value was set to 4 sigma\n",
    "        peak_flux = core['peak']\n",
    "        a = min_value / peak_flux\n",
    "        crop = np.sqrt(-2*np.log(a))\n",
    "        ratio_true_obs = true / (quad(gaussian, -crop, crop)[0])\n",
    "        \n",
    "        adjusted_flux = core['flux'] * ratio_true_obs\n",
    "        \n",
    "        adjusted_flux_array += [adjusted_flux]\n",
    "        \n",
    "    return adjusted_flux_array"
   ]
  },
  {
   "cell_type": "code",
   "execution_count": 12,
   "id": "89d573ec-65c4-4807-b15a-698ee3c76d05",
   "metadata": {},
   "outputs": [],
   "source": [
    "# My assumed sensetivity within 0.5 pc: NB3: 0.2 mJy, MB3: 0.3 mJy. (0.3, 0.4 respectively for the whole FOV)"
   ]
  },
  {
   "cell_type": "code",
   "execution_count": 13,
   "id": "40fae5de-d9aa-4fb7-9d37-9012e42dc65d",
   "metadata": {},
   "outputs": [],
   "source": [
    "def inferred_mass_2(cat, radius, freq, comp_star, flux_type, number_of_HII):\n",
    "    cat_cut = cat[cat['radial_d_AU'] < radius]\n",
    "    \n",
    "    # number of cores within the given radius and sensetivity limits\n",
    "    N_cores = len(cat_cut)\n",
    "    print(f'N_cores: {N_cores}')\n",
    "\n",
    "    # stellar mass of the cores from above (33% SFE) \n",
    "    core_stellar_masses = get_mass(apperture_corr(cat_cut), freq) / 3.0\n",
    "    M_obs_cores = np.sum(core_stellar_masses)\n",
    "    print(f'M_obs_cores: {round(M_obs_cores.value)}')\n",
    "    \n",
    "    # mass fraction for the cores\n",
    "    mass_ratio_cores = kroupa.m_integrate(comp_star, 20)[0] / kroupa.m_integrate(m_min, m_max)[0]\n",
    "    # stellar mass of the whole core population, iferred down from our sensetivity limit\n",
    "    M_obs_cores_cut = np.sum(core_stellar_masses[core_stellar_masses.value > comp_star])\n",
    "    \n",
    "    ###M_inf_cores = M_obs_cores / mass_ratio_cores\n",
    "    M_inf_cores = M_obs_cores_cut / mass_ratio_cores\n",
    "    print(f'M_inf_cores: {round(M_inf_cores.value)}')\n",
    "    \n",
    "    print(f'Number of HII regions: {number_of_HII}')\n",
    "    \n",
    "    M_obs_HII = number_of_HII * 45.5\n",
    "    M_obs_tot = M_obs_HII + M_obs_cores.value\n",
    "    print(f'M_obs_tot: {round(M_obs_tot)}')\n",
    "    \n",
    "    mass_ratio_core_HII = kroupa.m_integrate(comp_star, m_max)[0] / kroupa.m_integrate(m_min, m_max)[0]\n",
    "    #M_inf_HII = M_obs_HII / mass_ratio_HII\n",
    "    \n",
    "    M_inf_tot = (M_obs_cores_cut.value+M_obs_HII) / mass_ratio_core_HII\n",
    "    #M_inf_tot = (M_obs_cores_cut.value+M_obs_HII) / mass_ratio_cores\n",
    "    \n",
    "    print(f'M_inf_tot: {round(M_inf_tot)}')"
   ]
  },
  {
   "cell_type": "code",
   "execution_count": 14,
   "id": "e601b291-4b1e-4e54-a379-0945f78182a5",
   "metadata": {},
   "outputs": [],
   "source": [
    "# values for Table 2"
   ]
  },
  {
   "cell_type": "code",
   "execution_count": 15,
   "id": "cca1ccf7-9012-4724-b151-345b398d52ff",
   "metadata": {},
   "outputs": [
    {
     "name": "stdout",
     "output_type": "stream",
     "text": [
      "N_cores: 105\n",
      "M_obs_cores: 1009\n",
      "M_inf_cores: 2408\n",
      "Number of HII regions: 11\n",
      "M_obs_tot: 1510\n",
      "M_inf_tot: 2808\n"
     ]
    }
   ],
   "source": [
    "inferred_mass_2(catNB3_m, 0.4*u.pc, B3freq, 1.0, 'flux', 11)"
   ]
  },
  {
   "cell_type": "code",
   "execution_count": 16,
   "id": "60481461-51a1-4d23-a7ad-2d2c723591f5",
   "metadata": {},
   "outputs": [
    {
     "name": "stdout",
     "output_type": "stream",
     "text": [
      "N_cores: 68\n",
      "M_obs_cores: 550\n",
      "M_inf_cores: 1623\n",
      "Number of HII regions: 57\n",
      "M_obs_tot: 3143\n",
      "M_inf_tot: 6899\n"
     ]
    }
   ],
   "source": [
    "inferred_mass_2(catMB3_m, 0.5*u.pc, B3freq, 1.5, 'flux', 57)"
   ]
  },
  {
   "cell_type": "code",
   "execution_count": 17,
   "id": "82b3bda4-f916-4eb0-b1e3-e4f9f6720b32",
   "metadata": {},
   "outputs": [],
   "source": [
    "##############"
   ]
  },
  {
   "cell_type": "code",
   "execution_count": 18,
   "id": "62cb6988-85bf-4ffd-934b-b2e7cd8ee6e7",
   "metadata": {},
   "outputs": [],
   "source": [
    "# Below is out of date (and wrong), but could be useful later"
   ]
  },
  {
   "cell_type": "code",
   "execution_count": 19,
   "id": "2e87e8f0-a686-47c7-8df5-bd6bfcecc839",
   "metadata": {},
   "outputs": [],
   "source": [
    "func_n = kroupa.dndm\n",
    "func_m = kroupa.mass_weighted\n",
    "m_min=0.03\n",
    "m_max=120\n",
    "def inferred_mass(cat, radius, freq, comp_star, flux_type, number_of_HII):\n",
    "    cat_m = cat[cat['radial_d_AU'] < radius]\n",
    "    core_star_mass_all = np.sum(get_mass(apperture_corr(cat_m), freq)) / 3\n",
    "    cat_m = cat_m[get_mass(apperture_corr(cat_m), freq) > (comp_star * 3 * u.Msun)]\n",
    "    ratio_core = integrate.quad(func_m, comp_star, m_max)[0] / integrate.quad(func_m, m_min, m_max)[0]\n",
    "    #ratio_core = integrate.quad(func_m, comp_star, 50)[0] / integrate.quad(func_m, m_min, m_max)[0] # using m_* max = 50 Msun from the core\n",
    "    ratio_HII = integrate.quad(func_m, 20, m_max)[0] / integrate.quad(func_m, m_min, m_max)[0]\n",
    "    ratio_core_HII = integrate.quad(func_m, comp_star, m_max)[0] / integrate.quad(func_m, m_min, m_max)[0]\n",
    "    core_star_mass = np.sum(get_mass(apperture_corr(cat_m), freq)) / 3\n",
    "    HII_star_mass = number_of_HII * 45 * u.Msun\n",
    "    \n",
    "    m_inferred_core = round((core_star_mass / ratio_core).value)\n",
    "    m_inferred_HII = round((HII_star_mass / ratio_HII).value)\n",
    "    m_inferred_total = round(((core_star_mass+HII_star_mass) / ratio_core_HII).value)\n",
    "    \n",
    "    return core_star_mass_all, m_inferred_core, m_inferred_HII, m_inferred_total"
   ]
  },
  {
   "cell_type": "code",
   "execution_count": 20,
   "id": "dafeed95-a303-45fa-842b-e3bb8c895d31",
   "metadata": {},
   "outputs": [],
   "source": [
    "radius = 0.5 * u.pc\n",
    "flux_type = 'flux'\n",
    "freq = B3freq\n",
    "comp_star = 1\n",
    "cat = catNB3_m\n",
    "cat_m = cat[cat['radial_d_AU'] < radius]\n",
    "cat_upd = cat_m[get_mass(apperture_corr(cat_m), freq) > (comp_star * 3 * u.Msun)]\n",
    "ratio = integrate.quad(func_n, comp_star, m_max)[0] / integrate.quad(func_m, m_min, m_max)[0]"
   ]
  },
  {
   "cell_type": "code",
   "execution_count": 21,
   "id": "168a277f-ae01-41ac-8528-c18d6739bf1a",
   "metadata": {},
   "outputs": [],
   "source": [
    "###\n",
    "#N: 6 HII regions. (+ 1 from meng compared to schmiedeke)\n",
    "#M: 53\n",
    "###"
   ]
  },
  {
   "cell_type": "code",
   "execution_count": null,
   "id": "a4bd5d22-175f-4708-ae44-676b558a1fc1",
   "metadata": {},
   "outputs": [],
   "source": []
  },
  {
   "cell_type": "code",
   "execution_count": 22,
   "id": "4274efb7-90c6-4bd1-9ddd-5472908c1212",
   "metadata": {},
   "outputs": [],
   "source": [
    "#N - 0.4 pc, 2400 msun\n",
    "#M - 0.5 pc  20700 msun"
   ]
  },
  {
   "cell_type": "code",
   "execution_count": 23,
   "id": "d39c3d84-58d6-468a-91f5-e84a293827a3",
   "metadata": {},
   "outputs": [],
   "source": [
    "# N_count is set up in a wrong way"
   ]
  },
  {
   "cell_type": "code",
   "execution_count": 24,
   "id": "0f6b316d-47c5-4acf-be7a-3f03e09d462f",
   "metadata": {},
   "outputs": [],
   "source": [
    "# original values: N 1.0, M 1.5 Msun \n",
    "# 6 sigma within 90% of the pointing area: N 0.65, M 0.91 -> N 9.5, M 13.5 core mass, N 3.1, M 4.5"
   ]
  },
  {
   "cell_type": "code",
   "execution_count": 25,
   "id": "98f20bcc-2400-42bc-a30d-3bc544f6d80c",
   "metadata": {},
   "outputs": [
    {
     "name": "stdout",
     "output_type": "stream",
     "text": [
      "NB3:\n",
      "N_count: 1009.3174335383852 solMass\n",
      "N inferred (cores): 1874\n",
      "N inferred (HII): 2271\n",
      "N inferred (total): 2378\n",
      "MB3:\n",
      "M_count: 549.9729479724487 solMass\n",
      "M inferred (cores): 1199\n",
      "M inferred (HII): 20057\n",
      "M inferred (total): 6441\n"
     ]
    }
   ],
   "source": [
    "core_star_mass_NB3, m_inferred_core_NB3, m_inferred_HII_NB3, m_inferred_total_NB3 = inferred_mass(catNB3_m, 0.4*u.pc, B3freq, 1.0, 'flux', 6)\n",
    "core_star_mass_MB3, m_inferred_core_MB3, m_inferred_HII_MB3, m_inferred_total_MB3 = inferred_mass(catMB3_m, 0.5*u.pc, B3freq, 1.5, 'flux', 53)\n",
    "#NB6_mass = inferred_mass(catNB6_m, 0.4*u.pc, B6freq, mass_comp, 'flux')\n",
    "#MB6_mass = inferred_mass(catMB6_m, 0.5*u.pc, B6freq, mass_comp, 'flux')\n",
    "print('NB3:')\n",
    "print('N_count: ' + str(core_star_mass_NB3))\n",
    "print('N inferred (cores): ' + str(m_inferred_core_NB3))\n",
    "print('N inferred (HII): ' + str(m_inferred_HII_NB3))\n",
    "print('N inferred (total): ' + str(m_inferred_total_NB3))\n",
    "\n",
    "print('MB3:')\n",
    "print('M_count: ' + str(core_star_mass_MB3))\n",
    "print('M inferred (cores): ' + str(m_inferred_core_MB3))\n",
    "print('M inferred (HII): ' + str(m_inferred_HII_MB3))\n",
    "print('M inferred (total): ' + str(m_inferred_total_MB3))"
   ]
  },
  {
   "cell_type": "code",
   "execution_count": 26,
   "id": "3a36f0ed-19fa-4d72-b87d-621187863171",
   "metadata": {},
   "outputs": [],
   "source": [
    "mass_comp = np.logspace(-1, 1, 100)\n",
    "\n",
    "inferred_massesNB3 = [np.nan] * len(mass_comp)\n",
    "for i in range(len(mass_comp)):\n",
    "    inferred_massesNB3[i] = inferred_mass(catNB3_m, 0.4*u.pc, B3freq, mass_comp[i], 'flux', 6)[3]\n",
    "\n",
    "inferred_massesMB3 = [np.nan] * len(mass_comp)\n",
    "for i in range(len(mass_comp)):\n",
    "    inferred_massesMB3[i] = inferred_mass(catMB3_m, 0.5*u.pc, B3freq, mass_comp[i], 'flux', 53)[3]"
   ]
  },
  {
   "cell_type": "code",
   "execution_count": 27,
   "id": "f36f96fe-b3c4-4dda-872b-e4bc7d66b17f",
   "metadata": {},
   "outputs": [
    {
     "data": {
      "image/png": "[encoded data removed]",
      "text/plain": [
       "<Figure size 432x288 with 1 Axes>"
      ]
     },
     "metadata": {
      "needs_background": "light"
     },
     "output_type": "display_data"
    }
   ],
   "source": [
    "plt.plot(mass_comp, inferred_massesMB3, label = 'Sgr B2 M, 3 mm', color = 'tab:red', alpha = 0.8)\n",
    "plt.plot(mass_comp, inferred_massesNB3, label = 'Sgr B2 N, 3 mm', color = 'tab:cyan', alpha = 0.8)\n",
    "#plt.title('MB3')\n",
    "plt.xlabel(r'Assumed completeness limit (M$_{\\odot}$)')\n",
    "plt.ylabel(r'Inferred total stellar mass (M$_{\\odot}$)')\n",
    "#plt.xscale('log')\n",
    "plt.axvline(1.5, label = 'Assumed completeness', color = 'k', alpha = 0.6, linestyle = '--')\n",
    "#plt.axvline(4, label = 'Assumed completeness 2', color = 'k', alpha = 0.6, linestyle = '--')\n",
    "plt.legend()\n",
    "#plt.xscale('log')\n",
    "plt.savefig('inferred_mass_variations.png',dpi=300,bbox_inches='tight')"
   ]
  },
  {
   "cell_type": "code",
   "execution_count": 28,
   "id": "89861be3-6976-4052-abd2-c06694a1d5b1",
   "metadata": {},
   "outputs": [
    {
     "data": {
      "image/png": "[encoded data removed]",
      "text/plain": [
       "<Figure size 432x288 with 1 Axes>"
      ]
     },
     "metadata": {
      "needs_background": "light"
     },
     "output_type": "display_data"
    }
   ],
   "source": [
    "plt.plot(mass_comp, inferred_massesMB3, label = 'Sgr B2 M, 3 mm', color = 'tab:red', alpha = 0.8)\n",
    "plt.plot(mass_comp, inferred_massesNB3, label = 'Sgr B2 N, 3 mm', color = 'tab:cyan', alpha = 0.8)\n",
    "#plt.title('MB3')\n",
    "plt.xlabel(r'Assumed completeness limit (M$_{\\odot}$)')\n",
    "plt.ylabel(r'Inferred total stellar mass (M$_{\\odot}$)')\n",
    "#plt.xscale('log')\n",
    "plt.axvline(1.5, label = 'Assumed completeness', color = 'k', alpha = 0.6, linestyle = '--')\n",
    "plt.legend()\n",
    "plt.xscale('log')\n",
    "#plt.savefig('inferred_mass_variations.png',dpi=300,bbox_inches='tight')"
   ]
  },
  {
   "cell_type": "code",
   "execution_count": null,
   "id": "8c51d0ae-685a-4862-a505-c8f3e310d358",
   "metadata": {},
   "outputs": [],
   "source": []
  }
 ],
 "metadata": {
  "kernelspec": {
   "display_name": "Python 3 (ipykernel)",
   "language": "python",
   "name": "python3"
  },
  "language_info": {
   "codemirror_mode": {
    "name": "ipython",
    "version": 3
   },
   "file_extension": ".py",
   "mimetype": "text/x-python",
   "name": "python",
   "nbconvert_exporter": "python",
   "pygments_lexer": "ipython3",
   "version": "3.9.7"
  }
 },
 "nbformat": 4,
 "nbformat_minor": 5
}
