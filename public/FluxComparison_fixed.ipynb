{
 "cells": [
  {
   "cell_type": "code",
   "execution_count": 1,
   "id": "8458f0e8-831e-4c5a-b8d0-501594bd036a",
   "metadata": {},
   "outputs": [],
   "source": [
    "from astropy.table import QTable, Table, Column\n",
    "from astropy.coordinates import SkyCoord\n",
    "import astropy.units as u\n",
    "from photutils.aperture import SkyEllipticalAperture\n",
    "from astropy.io import fits\n",
    "import matplotlib.pyplot as plt\n",
    "from astropy import wcs\n",
    "from astropy.wcs import WCS\n",
    "from matplotlib.colors import SymLogNorm\n",
    "from pylab import figure, cm\n",
    "from astropy import visualization\n",
    "from photutils.aperture import aperture_photometry\n",
    "import numpy as np\n",
    "from radio_beam import Beam\n",
    "from scipy.integrate import quad\n",
    "from astropy.table import vstack\n",
    "import seaborn as sns\n",
    "plt.rcParams.update({'font.size': 14})\n",
    "import astropy.units as u\n",
    "from astropy import constants as c"
   ]
  },
  {
   "cell_type": "code",
   "execution_count": 2,
   "id": "dc1134d3-97d8-4572-9ece-91f111535387",
   "metadata": {},
   "outputs": [],
   "source": [
    "base = '/orange/adamginsburg/sgrb2/NB/catalog/'\n",
    "lowres = Table.read(base+'lowres_cat.txt', format='ipac')\n",
    "lowres = lowres[lowres['sum']!=0]\n",
    "lowres_noHII = lowres[np.where(lowres['SIMBAD_OTYPE']!='HII')]\n",
    "lowres_noHII = lowres_noHII[np.where(lowres_noHII['SIMBAD_OTYPE']!='maser')]"
   ]
  },
  {
   "cell_type": "code",
   "execution_count": 7,
   "id": "2a783abe-595b-41d7-a25a-7d4b39eaf77d",
   "metadata": {},
   "outputs": [],
   "source": [
    "base = '/orange/adamginsburg/sgrb2/NB/catalog_the_end/'\n",
    "path_N = base+'sgr_b2.N.B3.cont.r0.5.1m0.075mJy.cal2.image.tt0.pbcor.fits'\n",
    "path_M = base+'sgr_b2.M.B3.cont.r0.5.1m0.125mJy.cal3.image.tt0.pbcor.fits'\n",
    "path_lr = base+'SgrB2_selfcal_full_TCTE7m_selfcal6_ampphase_taylorterms_multiscale_deeper_mask1.5mJy.image.tt0.pbcor.fits'\n",
    "\n",
    "hdu_N = fits.open(path_N)[0]\n",
    "hdu_M = fits.open(path_M)[0]\n",
    "hdu_lr = fits.open(path_lr)[0]"
   ]
  },
  {
   "cell_type": "code",
   "execution_count": 8,
   "id": "6fa9b30e-64d5-4007-9316-b8491473c07c",
   "metadata": {},
   "outputs": [
    {
     "name": "stderr",
     "output_type": "stream",
     "text": [
      "WARNING: FITSFixedWarning: 'datfix' made the change 'Set MJD-OBS to 58014.867874 from DATE-OBS'. [astropy.wcs.wcs]\n",
      "WARNING: FITSFixedWarning: 'obsfix' made the change 'Set OBSGEO-L to   -67.754929 from OBSGEO-[XYZ].\n",
      "Set OBSGEO-B to   -23.022886 from OBSGEO-[XYZ].\n",
      "Set OBSGEO-H to     5053.796 from OBSGEO-[XYZ]'. [astropy.wcs.wcs]\n",
      "WARNING: FITSFixedWarning: 'datfix' made the change 'Set MJD-OBS to 58014.867646 from DATE-OBS'. [astropy.wcs.wcs]\n"
     ]
    }
   ],
   "source": [
    "data_N = u.Quantity(hdu_N.data, unit=hdu_N.header['BUNIT'])\n",
    "data_M = u.Quantity(hdu_M.data, unit=hdu_M.header['BUNIT'])\n",
    "wcs_N = WCS(hdu_N.header)\n",
    "wcs_M = WCS(hdu_M.header)"
   ]
  },
  {
   "cell_type": "code",
   "execution_count": 9,
   "id": "85c7e63f-20d3-4819-b9ad-c890773057c0",
   "metadata": {},
   "outputs": [],
   "source": [
    "size = np.array(data_N.shape)\n",
    "im_center = size/2\n",
    "middle_row = data_N[int(im_center[1])]\n",
    "diameter = len(middle_row[~np.isnan(middle_row)])\n",
    "radius = diameter / 2"
   ]
  },
  {
   "cell_type": "code",
   "execution_count": 10,
   "id": "02534334-ce6d-4ea0-976d-f92a6176cc5a",
   "metadata": {},
   "outputs": [],
   "source": [
    "rows, cols = size\n",
    "arr_radii = [[0 for i in range(cols)] for j in range(rows)]\n",
    "arr_radii = np.array(arr_radii)\n",
    "for i in range(len(arr_radii)):\n",
    "    for j in range(len(arr_radii)):\n",
    "        arr_radii[i][j] = ((len(data_N)/2 - i) ** 2 + (len(data_N)/2 - j) ** 2)**(1/2)"
   ]
  },
  {
   "cell_type": "code",
   "execution_count": 11,
   "id": "d532f081-72f6-4105-bc6d-b1191b55ca9b",
   "metadata": {},
   "outputs": [],
   "source": [
    "percent_excl = 10\n",
    "radius_pixels_include = int(radius/100*(100-percent_excl))\n",
    "percent_excl_c = 0\n",
    "radius_pixels_include_c = int(radius/100*(percent_excl_c))\n",
    "mask = [(arr_radii > radius_pixels_include) | (arr_radii < radius_pixels_include_c)]\n",
    "mask = mask[0]"
   ]
  },
  {
   "cell_type": "code",
   "execution_count": 12,
   "id": "c2892a76-19f1-4904-84f0-523c19b4dfc2",
   "metadata": {},
   "outputs": [
    {
     "data": {
      "text/plain": [
       "<matplotlib.image.AxesImage at 0x1517a51f4a90>"
      ]
     },
     "execution_count": 12,
     "metadata": {},
     "output_type": "execute_result"
    },
    {
     "data": {
      "image/png": "[encoded data removed]",
      "text/plain": [
       "<Figure size 432x288 with 1 Axes>"
      ]
     },
     "metadata": {
      "needs_background": "light"
     },
     "output_type": "display_data"
    }
   ],
   "source": [
    "plt.imshow(mask)"
   ]
  },
  {
   "cell_type": "code",
   "execution_count": 13,
   "id": "53d0bc46-7bca-4d1a-a34a-c813db35fb2f",
   "metadata": {},
   "outputs": [],
   "source": [
    "all_positions = SkyCoord(lowres['RA'],lowres['Dec'], unit='deg', frame='fk5')\n",
    "fctr = 1/(8*np.log(2))\n",
    "Bmaj_lr = hdu_lr.header['BMAJ']*u.deg*np.sqrt(fctr)\n",
    "Bmin_lr = hdu_lr.header['BMIN']*u.deg*np.sqrt(fctr)\n",
    "aper = SkyEllipticalAperture(all_positions, Bmaj_lr, Bmin_lr, hdu_lr.header['BPA']*u.deg)"
   ]
  },
  {
   "cell_type": "code",
   "execution_count": 16,
   "id": "3b99ccbe-fb71-48af-8bfa-894befc224c0",
   "metadata": {},
   "outputs": [],
   "source": [
    "Bmaj_N = hdu_N.header['BMAJ']*u.deg*np.sqrt(fctr)\n",
    "Bmin_N = hdu_N.header['BMIN']*u.deg*np.sqrt(fctr)\n",
    "pix_maj_N= Bmaj_N/(hdu_N.header['CDELT2']*u.deg)\n",
    "pix_min_N= Bmin_N/(hdu_N.header['CDELT2']*u.deg)\n",
    "ppb_N = 2*np.pi*pix_maj_N*pix_min_N\n",
    "\n",
    "Bmaj_M = hdu_M.header['BMAJ']*u.deg*np.sqrt(fctr)\n",
    "Bmin_M = hdu_M.header['BMIN']*u.deg*np.sqrt(fctr)\n",
    "pix_maj_M = Bmaj_M/(hdu_M.header['CDELT2']*u.deg)\n",
    "pix_min_M = Bmin_M/(hdu_M.header['CDELT2']*u.deg)\n",
    "ppb_M = 2*np.pi*pix_maj_M*pix_min_M"
   ]
  },
  {
   "cell_type": "code",
   "execution_count": 18,
   "id": "e0ae4821-9367-4c2c-981c-31e58c7e0b3a",
   "metadata": {},
   "outputs": [],
   "source": [
    "def gaussian(x, x0=0, width=1):\n",
    "    return np.exp(-(x-x0)**2/(2*width**2))\n",
    "\n",
    "fwhm = np.sqrt(8*np.log(2))\n",
    "angle = fwhm*np.sqrt(fctr)\n",
    "ap_cor = quad(gaussian, -np.inf, np.inf)[0]/quad(gaussian, -angle,angle)[0]"
   ]
  },
  {
   "cell_type": "code",
   "execution_count": 19,
   "id": "fc7f7766-08e1-42d7-9295-1133dfa9a038",
   "metadata": {},
   "outputs": [],
   "source": [
    "phot_table_N = aperture_photometry(data_N, aper, wcs=wcs_N, mask = mask)\n",
    "phot_table_M = aperture_photometry(data_M, aper, wcs=wcs_M, mask = mask) "
   ]
  },
  {
   "cell_type": "code",
   "execution_count": 20,
   "id": "ff784ad6-4f2a-4776-8011-6f805344df08",
   "metadata": {},
   "outputs": [
    {
     "data": {
      "text/plain": [
       "1.4647947734915436"
      ]
     },
     "execution_count": 20,
     "metadata": {},
     "output_type": "execute_result"
    }
   ],
   "source": [
    "ap_cor"
   ]
  },
  {
   "cell_type": "code",
   "execution_count": 21,
   "id": "b53bbdb0-0ae5-4d9b-a056-57328fd86271",
   "metadata": {},
   "outputs": [],
   "source": [
    "phot_N = phot_table_N['aperture_sum'].value*ap_cor/ppb_N\n",
    "phot_M = phot_table_M['aperture_sum'].value*ap_cor/ppb_M"
   ]
  },
  {
   "cell_type": "code",
   "execution_count": 23,
   "id": "0ae451d9-02d9-459c-95c3-15faa352a433",
   "metadata": {},
   "outputs": [],
   "source": [
    "hires_rms = 0.0003/4"
   ]
  },
  {
   "cell_type": "code",
   "execution_count": 24,
   "id": "5f4276bc-4c91-493a-9e46-ae83b0a61737",
   "metadata": {},
   "outputs": [
    {
     "data": {
      "text/plain": [
       "<matplotlib.legend.Legend at 0x1517859928e0>"
      ]
     },
     "execution_count": 24,
     "metadata": {},
     "output_type": "execute_result"
    },
    {
     "data": {
      "image/png": "[encoded data removed]",
      "text/plain": [
       "<Figure size 432x288 with 1 Axes>"
      ]
     },
     "metadata": {
      "needs_background": "light"
     },
     "output_type": "display_data"
    }
   ],
   "source": [
    "fig = plt.figure()#figsize=(12,12))\n",
    "plt.scatter(lowres['peak']*0.92,phot_N,label='Sgr B2 N', alpha = 0.5, color = 'tab:cyan')\n",
    "plt.scatter(lowres['peak']*0.92,phot_M,label='Sgr B2 M', alpha = 0.5, color = 'tab:red')\n",
    "plt.plot([0,2],[0,2],label='Equal flux',color='k', linestyle = '--', alpha = 0.7)\n",
    "#plt.plot([0.0001,2],[0.0001+0.00005,2+1.0],label='+50%',color='k', linestyle = ':', alpha = 0.7)\n",
    "#plt.plot([0.0001,2],[0.0001-0.00005,2-1.0],label='-50%',color='k', linestyle = ':', alpha = 0.7)\n",
    "\n",
    "G18y = 0.00014\n",
    "plt.plot([0.0015-0.0003,0.0015+0.0003],[G18y,G18y], color = 'k', linewidth = 3)\n",
    "plt.plot([0.015-0.0003,0.015+0.0003],[G18y,G18y], color = 'k', linewidth = 3)\n",
    "plt.plot([0.015-0.0003,0.015+0.0003],[G18y,G18y], color = 'k', linewidth = 3)\n",
    "\n",
    "plt.plot([0.0009,0.0009], [0.00025-hires_rms,0.00025+hires_rms], color = 'k', linewidth = 3)\n",
    "plt.plot([0.0009,0.0009], [0.0025-hires_rms,0.0025+hires_rms], color = 'k', linewidth = 3, label = 'Typical error')\n",
    "\n",
    "\n",
    "plt.loglog()\n",
    "plt.xlim(0.0008,2)\n",
    "plt.ylim(0.0001,3)\n",
    "plt.ylabel('This work, aperture flux (Jy)')\n",
    "plt.xlabel('Ginsburg 2018, peak flux (Jy)')\n",
    "plt.legend()\n",
    "#plt.savefig('G2018vsMine_flux.png',dpi=300,bbox_inches='tight')"
   ]
  },
  {
   "cell_type": "code",
   "execution_count": 25,
   "id": "60f2bdac-a67c-44b6-a0fa-aab802f67178",
   "metadata": {},
   "outputs": [
    {
     "data": {
      "text/plain": [
       "Text(0.5, 0, 'Recovered flux, [high res / low res]')"
      ]
     },
     "execution_count": 25,
     "metadata": {},
     "output_type": "execute_result"
    },
    {
     "data": {
      "image/png": "[encoded data removed]",
      "text/plain": [
       "<Figure size 432x288 with 1 Axes>"
      ]
     },
     "metadata": {
      "needs_background": "light"
     },
     "output_type": "display_data"
    }
   ],
   "source": [
    "bins=np.logspace(-1.2,0.5,10)\n",
    "plt.hist((phot_N.value/(lowres['peak']*0.92).value,phot_M.value/(lowres['peak']*0.92).value), bins=bins, stacked = True, label = ['N','M'], color = ['tab:cyan','tab:red'], alpha =0.5)\n",
    "plt.legend()\n",
    "plt.xscale('log')\n",
    "plt.xlabel('Recovered flux, [high res / low res]')\n",
    "#plt.savefig('G2018vsMine_flux_hist.png',dpi=300,bbox_inches='tight')"
   ]
  },
  {
   "cell_type": "code",
   "execution_count": 26,
   "id": "b0366691-826f-4b55-aa12-110989e7b972",
   "metadata": {},
   "outputs": [
    {
     "data": {
      "text/plain": [
       "Text(0.5, 0, 'Recovered flux, [high res / low res]')"
      ]
     },
     "execution_count": 26,
     "metadata": {},
     "output_type": "execute_result"
    },
    {
     "data": {
      "image/png": "[encoded data removed]",
      "text/plain": [
       "<Figure size 432x288 with 1 Axes>"
      ]
     },
     "metadata": {
      "needs_background": "light"
     },
     "output_type": "display_data"
    }
   ],
   "source": [
    "plt.hist((phot_N.value/(lowres['peak']*0.92).value,phot_M.value/(lowres['peak']*0.92).value), stacked = True, label = ['N','M'])\n",
    "plt.legend()\n",
    "plt.xlabel('Recovered flux, [high res / low res]')"
   ]
  },
  {
   "cell_type": "code",
   "execution_count": 27,
   "id": "3c8e4b3c-a51b-4a47-854a-869b83ded5dd",
   "metadata": {},
   "outputs": [],
   "source": [
    "B3freq = 92.45* u.GHz\n",
    "B3_old_freq = 96.36 * u.GHz"
   ]
  },
  {
   "cell_type": "code",
   "execution_count": 28,
   "id": "3aa606c5-cc7b-4401-a61a-2dd3491782fb",
   "metadata": {
    "tags": []
   },
   "outputs": [
    {
     "data": {
      "text/latex": [
       "$0.92049249 \\; \\mathrm{}$"
      ],
      "text/plain": [
       "<Quantity 0.92049249>"
      ]
     },
     "execution_count": 28,
     "metadata": {},
     "output_type": "execute_result"
    }
   ],
   "source": [
    "SI = 2\n",
    "B3_over_B3_old_flux = np.e**(SI * np.log(B3freq/B3_old_freq))\n",
    "B3_over_B3_old_flux"
   ]
  },
  {
   "cell_type": "code",
   "execution_count": 29,
   "id": "5a8461b1-6b2c-49de-a60d-826eee530fab",
   "metadata": {},
   "outputs": [],
   "source": [
    "SI = np.linspace(-1,3.5)\n",
    "B3_over_B3_old_flux = np.e**(SI * np.log(B3freq/B3_old_freq))"
   ]
  },
  {
   "cell_type": "code",
   "execution_count": 30,
   "id": "a43dc2f1-080f-4a00-845a-d212822d4aca",
   "metadata": {},
   "outputs": [
    {
     "data": {
      "text/plain": [
       "<matplotlib.lines.Line2D at 0x15178e6cc220>"
      ]
     },
     "execution_count": 30,
     "metadata": {},
     "output_type": "execute_result"
    },
    {
     "data": {
      "image/png": "[encoded data removed]",
      "text/plain": [
       "<Figure size 432x288 with 1 Axes>"
      ]
     },
     "metadata": {
      "needs_background": "light"
     },
     "output_type": "display_data"
    }
   ],
   "source": [
    "plt.plot(SI, B3_over_B3_old_flux)\n",
    "plt.xlabel('SI')\n",
    "plt.ylabel('flux ratio high/low')\n",
    "plt.axhline(0.92049249)"
   ]
  },
  {
   "cell_type": "code",
   "execution_count": 31,
   "id": "b4e4d36f-2853-4d10-9852-63a20ade2731",
   "metadata": {},
   "outputs": [
    {
     "data": {
      "text/latex": [
       "$0.8650385 \\; \\mathrm{}$"
      ],
      "text/plain": [
       "<Quantity 0.8650385>"
      ]
     },
     "execution_count": 31,
     "metadata": {},
     "output_type": "execute_result"
    }
   ],
   "source": [
    "np.min(B3_over_B3_old_flux)"
   ]
  },
  {
   "cell_type": "code",
   "execution_count": 32,
   "id": "73a61cc9-6fad-47ad-8cac-c3480ec253bb",
   "metadata": {},
   "outputs": [
    {
     "data": {
      "text/latex": [
       "$1.0422931 \\; \\mathrm{}$"
      ],
      "text/plain": [
       "<Quantity 1.04229313>"
      ]
     },
     "execution_count": 32,
     "metadata": {},
     "output_type": "execute_result"
    }
   ],
   "source": [
    "np.max(B3_over_B3_old_flux)"
   ]
  },
  {
   "cell_type": "code",
   "execution_count": 33,
   "id": "7889f5e9-4535-4fee-9638-0a230ff10f60",
   "metadata": {},
   "outputs": [
    {
     "name": "stdout",
     "output_type": "stream",
     "text": [
      "Removed 198 sources for the complete catalog\n",
      "Removed 9 sources for the medium catalog\n",
      "Removed 81 sources for the robust catalog\n",
      "Removed 186 sources for the complete catalog\n",
      "Removed 7 sources for the medium catalog\n",
      "Removed 47 sources for the robust catalog\n",
      "Removed 203 sources for the complete catalog\n",
      "Removed 6 sources for the medium catalog\n",
      "Removed 58 sources for the robust catalog\n",
      "Removed 203 sources for the complete catalog\n",
      "Removed 8 sources for the medium catalog\n",
      "Removed 32 sources for the robust catalog\n"
     ]
    }
   ],
   "source": [
    "catNB3 = Table.read(base+'catalog_NB3_4RMS_30.0rings_0.7mindelta3npix_final_Nazar_review.csv', format='ascii')\n",
    "catMB3 = Table.read(base+'catalog_MB3_4RMS_30.0rings_0.7mindelta3npix_final_Nazar_review.csv', format='ascii')\n",
    "catNB6 = Table.read(base+'catalog_NB6_4RMS_30.0rings_0.7mindelta3npix_final_Nazar_review.csv', format='ascii')\n",
    "catMB6 = Table.read(base+'catalog_MB6_4RMS_30.0rings_0.7mindelta3npix_final_Nazar_review.csv', format='ascii')\n",
    "from purify_catalog import cat_purification\n",
    "catNB3_c, catNB3_m, catNB3_r = cat_purification(catNB3)\n",
    "catMB3_c, catMB3_m, catMB3_r = cat_purification(catMB3)\n",
    "catNB6_c, catNB6_m, catNB6_r = cat_purification(catNB6)\n",
    "catMB6_c, catMB6_m, catMB6_r = cat_purification(catMB6)\n",
    "\n",
    "catB3_m = vstack([catNB3_m, catMB3_m])\n",
    "catB6_m = vstack([catNB6_m, catMB6_m])"
   ]
  },
  {
   "cell_type": "code",
   "execution_count": 34,
   "id": "17944f92-9069-470d-ae29-c09dcd31271c",
   "metadata": {},
   "outputs": [],
   "source": [
    "base = '/orange/adamginsburg/sgrb2/NB/the_end/'\n",
    "pathNB3 = base+'sgr_b2.N.B3.cont.r0.5.1m0.075mJy.cal2.image.tt0.pbcor.fits'\n",
    "pathMB3 = base+'sgr_b2.M.B3.cont.r0.5.1m0.125mJy.cal3.image.tt0.pbcor.fits'\n",
    "pathNB6 = base+'sgr_b2.N.B6.cont.r0.5.1m1.5mJy.cal4.image.tt0.pbcor.fits'\n",
    "pathMB6 = base+'sgr_b2.M.B6.cont.r0.5.1m0.68mJy.cal3.image.tt0.pbcor.fits'"
   ]
  },
  {
   "cell_type": "code",
   "execution_count": 35,
   "id": "1557262f-e269-4fae-bffc-95d4e26356be",
   "metadata": {},
   "outputs": [],
   "source": [
    "def read_in(path):\n",
    "    \"\"\"\n",
    "    Simplify reading in the files.\n",
    "    \"\"\"\n",
    "    fh=fits.open(path)\n",
    "    with warnings.catch_warnings():\n",
    "        warnings.simplefilter('ignore')\n",
    "        wcs = WCS(fh[0].header)\n",
    "        hdr = fh[0].header\n",
    "    datas=fh[0].data #\n",
    "    return datas, wcs, hdr"
   ]
  },
  {
   "cell_type": "code",
   "execution_count": 36,
   "id": "417e7caa-1f2f-4ea1-8a79-e270f00ea1cc",
   "metadata": {},
   "outputs": [],
   "source": [
    "import warnings"
   ]
  },
  {
   "cell_type": "code",
   "execution_count": 37,
   "id": "a5581b0c-ba3e-4b57-a872-a0f9fbe25d49",
   "metadata": {
    "tags": []
   },
   "outputs": [],
   "source": [
    "# read in the data, wcs, and the header\n",
    "dataNB3, wcsNB3, hdrNB3 = read_in(pathNB3)\n",
    "dataMB3, wcsMB3, hdrMB3 = read_in(pathMB3)\n",
    "dataNB6, wcsNB6, hdrNB6 = read_in(pathNB6)\n",
    "dataMB6, wcsMB6, hdrMB6 = read_in(pathMB6)\n",
    "# get the beam from the header\n",
    "my_beamNB3 = Beam.from_fits_header(hdrNB3)\n",
    "my_beamMB3 = Beam.from_fits_header(hdrMB3)\n",
    "my_beamNB6 = Beam.from_fits_header(hdrNB6)\n",
    "my_beamMB6 = Beam.from_fits_header(hdrMB6)"
   ]
  },
  {
   "cell_type": "code",
   "execution_count": 38,
   "id": "cc16ecae-d3aa-47ec-8f45-ae7505563e1e",
   "metadata": {},
   "outputs": [],
   "source": [
    "B3freq = 92.45* u.GHz\n",
    "B6freq = 225.78 * u.GHz"
   ]
  },
  {
   "cell_type": "code",
   "execution_count": 39,
   "id": "e900e612-3890-4771-9dd7-e69bc113dd53",
   "metadata": {},
   "outputs": [],
   "source": [
    "equivB3 = u.brightness_temperature(B3freq)\n",
    "equivB6 = u.brightness_temperature(B6freq)\n",
    "beam_area_NB3 = my_beamNB3.sr\n",
    "beam_area_MB3 = my_beamMB3.sr\n",
    "beam_area_NB6 = my_beamNB6.sr\n",
    "beam_area_MB6 = my_beamMB6.sr"
   ]
  },
  {
   "cell_type": "code",
   "execution_count": 41,
   "id": "eac2a219-77aa-4c09-988a-758d7bc4bf76",
   "metadata": {},
   "outputs": [],
   "source": [
    "T_B_NB3 = (catNB3_m['peak']*u.beam/beam_area_NB3).to(u.K, equivalencies=equivB3)\n",
    "T_B_MB3 = (catMB3_m['peak']*u.beam/beam_area_MB3).to(u.K, equivalencies=equivB3)\n",
    "T_B_B3_peak = np.concatenate([T_B_NB3, T_B_MB3]).value\n",
    "T_B_NB6 = (catNB6_m['peak']*u.beam/beam_area_NB6).to(u.K, equivalencies=equivB6)\n",
    "T_B_MB6 = (catMB6_m['peak']*u.beam/beam_area_MB6).to(u.K, equivalencies=equivB6)\n",
    "T_B_B6_peak = np.concatenate([T_B_NB6, T_B_MB6]).value"
   ]
  },
  {
   "cell_type": "code",
   "execution_count": 44,
   "id": "4e257c8f-228f-4a5f-9056-182a026e7c5a",
   "metadata": {},
   "outputs": [],
   "source": [
    "T_B_NB3 = (catNB3_m['flux']/((catNB3_m['area_exact']/beam_area_NB3).to(u.dimensionless_unscaled))/beam_area_NB3).to(u.K, equivalencies=equivB3)\n",
    "T_B_MB3 = (catMB3_m['flux']/((catMB3_m['area_exact']/beam_area_MB3).to(u.dimensionless_unscaled))/beam_area_MB3).to(u.K, equivalencies=equivB3)\n",
    "T_B_NB6 = (catNB6_m['flux']/((catNB6_m['area_exact']/beam_area_NB6).to(u.dimensionless_unscaled))/beam_area_NB6).to(u.K, equivalencies=equivB6)\n",
    "T_B_MB6 = (catMB6_m['flux']/((catMB6_m['area_exact']/beam_area_MB6).to(u.dimensionless_unscaled))/beam_area_MB6).to(u.K, equivalencies=equivB6)\n",
    "T_B_B3_flux = np.concatenate([T_B_NB3, T_B_MB3]).value\n",
    "T_B_B6_flux = np.concatenate([T_B_NB6, T_B_MB6]).value"
   ]
  },
  {
   "cell_type": "code",
   "execution_count": 46,
   "id": "68152e15-02ab-49ea-8fa3-5992cbedfef4",
   "metadata": {},
   "outputs": [
    {
     "data": {
      "text/plain": [
       "(-2.0, 102.0)"
      ]
     },
     "execution_count": 46,
     "metadata": {},
     "output_type": "execute_result"
    },
    {
     "data": {
      "image/png": "[encoded data removed]",
      "text/plain": [
       "<Figure size 432x288 with 1 Axes>"
      ]
     },
     "metadata": {
      "needs_background": "light"
     },
     "output_type": "display_data"
    }
   ],
   "source": [
    "sns.ecdfplot(T_B_B3_peak, label = '3 mm peak', alpha = 0.8)\n",
    "sns.ecdfplot(T_B_B6_peak, label = '1 mm peak', alpha = 0.8)\n",
    "\n",
    "sns.ecdfplot(T_B_B3_flux, label = '3 mm contour', alpha = 0.8, color = 'tab:blue', linestyle = '--')\n",
    "sns.ecdfplot(T_B_B6_flux, label = '1 mm contour', alpha = 0.8, color = 'tab:orange', linestyle = '--')\n",
    "plt.legend()\n",
    "plt.xlabel('Brightness temperature (K)')\n",
    "plt.ylabel('Fraction of cores')\n",
    "#plt.xscale('log')\n",
    "plt.xlim(-2,102)\n",
    "#plt.savefig('brightness_T.png',dpi=300,bbox_inches='tight')"
   ]
  },
  {
   "cell_type": "code",
   "execution_count": null,
   "id": "5e5392ae-9a94-4ed5-8ed3-ecb96416decb",
   "metadata": {},
   "outputs": [],
   "source": []
  },
  {
   "cell_type": "code",
   "execution_count": null,
   "id": "603a547e-5a5a-4e6b-afc8-862757de98c4",
   "metadata": {},
   "outputs": [],
   "source": []
  },
  {
   "cell_type": "code",
   "execution_count": 49,
   "id": "957177e3-9edd-47ad-9b6b-d974bd6d6949",
   "metadata": {},
   "outputs": [],
   "source": [
    "fctr = 1/(8*np.log(2))"
   ]
  },
  {
   "cell_type": "code",
   "execution_count": 50,
   "id": "846463f8-4b3b-4b23-afbc-7e24ac89676f",
   "metadata": {},
   "outputs": [],
   "source": [
    "def gaussian(x, x0=0, width=1):\n",
    "    return np.exp(-(x-x0)**2/(2*width**2))\n",
    "\n",
    "fwhm = np.sqrt(8*np.log(2))\n",
    "angle = fwhm*np.sqrt(fctr)\n",
    "ap_cor = quad(gaussian, -np.inf, np.inf)[0]/quad(gaussian, -angle,angle)[0]"
   ]
  },
  {
   "cell_type": "code",
   "execution_count": 51,
   "id": "9c882b70-263a-4319-9f29-835bf6f4ea80",
   "metadata": {},
   "outputs": [],
   "source": [
    "total_flux = quad(gaussian, -np.inf, np.inf)[0]"
   ]
  },
  {
   "cell_type": "code",
   "execution_count": 54,
   "id": "10de3eb7-5670-4484-a09b-b3e33bb3ff56",
   "metadata": {},
   "outputs": [
    {
     "data": {
      "text/plain": [
       "1.0"
      ]
     },
     "execution_count": 54,
     "metadata": {},
     "output_type": "execute_result"
    }
   ],
   "source": [
    "gaussian(0)"
   ]
  },
  {
   "cell_type": "code",
   "execution_count": 55,
   "id": "a5b473d6-65b2-468e-b3f6-492203f0da1d",
   "metadata": {},
   "outputs": [
    {
     "data": {
      "text/plain": [
       "-7.2793606063632605"
      ]
     },
     "execution_count": 55,
     "metadata": {},
     "output_type": "execute_result"
    }
   ],
   "source": [
    "min_value = 4 # sigma\n",
    "max_value = 20 # sigma (change this)\n",
    "a = min_value/max_value\n",
    "crop = np.sqrt(-2*np.log(a))\n",
    "\n",
    "true = quad(gaussian, -np.inf, np.inf)[0]\n",
    "observed = quad(gaussian, -crop, crop)[0]\n",
    "percent_err = (observed - true)/true * 100\n",
    "percent_err"
   ]
  },
  {
   "cell_type": "code",
   "execution_count": 56,
   "id": "636392c6-1c81-4e1a-8923-e3d98b5ef18c",
   "metadata": {},
   "outputs": [],
   "source": [
    "max_flux_sigma = np.linspace(5,100, 100)"
   ]
  },
  {
   "cell_type": "code",
   "execution_count": 57,
   "id": "74f29c42-a1b5-4fdd-8807-43155a9a1bcb",
   "metadata": {},
   "outputs": [],
   "source": [
    "def gaussian(x, x0=0, width=1):\n",
    "    return np.exp(-(x-x0)**2/(2*width**2))"
   ]
  },
  {
   "cell_type": "code",
   "execution_count": null,
   "id": "286ce766-0856-4f97-bcda-1d4f0eb9629e",
   "metadata": {},
   "outputs": [],
   "source": [
    "# calculating error caused by astrodendro leaf edge cropping"
   ]
  },
  {
   "cell_type": "code",
   "execution_count": 58,
   "id": "4d293d4e-830a-4965-a6e9-eb95fe213184",
   "metadata": {},
   "outputs": [],
   "source": [
    "def cropping_err(max_flux_sigma):\n",
    "    min_value = 4\n",
    "    a = min_value/max_flux_sigma\n",
    "    crop = np.sqrt(-2*np.log(a))\n",
    "\n",
    "    true = quad(gaussian, -np.inf, np.inf)[0]\n",
    "    observed = quad(gaussian, -crop, crop)[0]\n",
    "    percent_err = (observed - true)/true * 100\n",
    "    percent_err\n",
    "    \n",
    "    return percent_err"
   ]
  },
  {
   "cell_type": "code",
   "execution_count": 60,
   "id": "98c9ebfe-901b-41de-af3b-ab19aa25c85f",
   "metadata": {},
   "outputs": [],
   "source": [
    "def gaussian(x, x0=0, width=1):\n",
    "    return np.exp(-(x-x0)**2/(2*width**2))\n",
    "\n",
    "def apperture_corr(cat):\n",
    "    true = quad(gaussian, -np.inf, np.inf)[0]\n",
    "    adjusted_flux_array = []\n",
    "    for core in cat:\n",
    "        min_value = core['ring_std'] * 4 # multiplying by 4 beacause the min_value was set to 4 sigma\n",
    "        peak_flux = core['peak']\n",
    "        a = min_value / peak_flux\n",
    "        crop = np.sqrt(-2*np.log(a))\n",
    "        ratio_true_obs = true / (quad(gaussian, -crop, crop)[0])\n",
    "        \n",
    "        adjusted_flux = core['flux'] * ratio_true_obs\n",
    "        \n",
    "        adjusted_flux_array += [adjusted_flux]\n",
    "        \n",
    "    return adjusted_flux_array"
   ]
  },
  {
   "cell_type": "code",
   "execution_count": 62,
   "id": "55b93919-ad01-464c-bfbc-b0982252ad2e",
   "metadata": {},
   "outputs": [
    {
     "data": {
      "text/plain": [
       "<matplotlib.collections.PathCollection at 0x15178e83d8e0>"
      ]
     },
     "execution_count": 62,
     "metadata": {},
     "output_type": "execute_result"
    },
    {
     "data": {
      "image/png": "[encoded data removed]",
      "text/plain": [
       "<Figure size 432x288 with 1 Axes>"
      ]
     },
     "metadata": {
      "needs_background": "light"
     },
     "output_type": "display_data"
    }
   ],
   "source": [
    "plt.scatter(catNB6_m['flux'], apperture_corr(catNB6_m)/catNB6_m['flux'])"
   ]
  },
  {
   "cell_type": "code",
   "execution_count": 63,
   "id": "d65a80f2-b8d9-4ea4-bb28-55a99aa918ed",
   "metadata": {},
   "outputs": [],
   "source": [
    "errors = []\n",
    "for flux in max_flux_sigma:\n",
    "    err = cropping_err(flux)\n",
    "    errors += [err]"
   ]
  },
  {
   "cell_type": "code",
   "execution_count": 64,
   "id": "8221c7fb-1e87-48ba-9dbd-1842d4d2aef5",
   "metadata": {},
   "outputs": [
    {
     "data": {
      "text/plain": [
       "Text(0, 0.5, '% error')"
      ]
     },
     "execution_count": 64,
     "metadata": {},
     "output_type": "execute_result"
    },
    {
     "data": {
      "image/png": "[encoded data removed]",
      "text/plain": [
       "<Figure size 432x288 with 1 Axes>"
      ]
     },
     "metadata": {
      "needs_background": "light"
     },
     "output_type": "display_data"
    }
   ],
   "source": [
    "plt.plot(max_flux_sigma, errors)\n",
    "plt.xlabel('Brightest pixel (number of sigmas)')\n",
    "plt.ylabel('% error')"
   ]
  },
  {
   "cell_type": "code",
   "execution_count": 65,
   "id": "c8b34447-46a3-4d2e-aab5-6fcfbf3f85eb",
   "metadata": {},
   "outputs": [
    {
     "data": {
      "text/plain": [
       "31.731050786291387"
      ]
     },
     "execution_count": 65,
     "metadata": {},
     "output_type": "execute_result"
    }
   ],
   "source": [
    "(quad(gaussian, -np.inf, np.inf)[0] - quad(gaussian, -1,1)[0])/(quad(gaussian, -np.inf, np.inf)[0]) * 100"
   ]
  },
  {
   "cell_type": "code",
   "execution_count": null,
   "id": "442379d8-654a-4d88-bb52-1046d7a283bb",
   "metadata": {},
   "outputs": [],
   "source": []
  }
 ],
 "metadata": {
  "kernelspec": {
   "display_name": "Python 3 (ipykernel)",
   "language": "python",
   "name": "python3"
  },
  "language_info": {
   "codemirror_mode": {
    "name": "ipython",
    "version": 3
   },
   "file_extension": ".py",
   "mimetype": "text/x-python",
   "name": "python",
   "nbconvert_exporter": "python",
   "pygments_lexer": "ipython3",
   "version": "3.9.7"
  }
 },
 "nbformat": 4,
 "nbformat_minor": 5
}
